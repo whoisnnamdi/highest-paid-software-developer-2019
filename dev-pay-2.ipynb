{
 "cells": [
  {
   "cell_type": "code",
   "execution_count": 1,
   "metadata": {},
   "outputs": [],
   "source": [
    "import pandas as pd\n",
    "import numpy as np\n",
    "import statsmodels.api as sm\n",
    "import matplotlib.pyplot as plt\n",
    "from sklearn.linear_model import LassoCV\n",
    "from sklearn.feature_selection import SelectFromModel\n",
    "import plotly.graph_objects as go\n",
    "import chart_studio.plotly as py\n",
    "import os\n",
    "import plotly.offline"
   ]
  },
  {
   "cell_type": "code",
   "execution_count": 2,
   "metadata": {},
   "outputs": [],
   "source": [
    "np.random.seed(12345)"
   ]
  },
  {
   "cell_type": "code",
   "execution_count": 3,
   "metadata": {},
   "outputs": [],
   "source": [
    "# Download the latest SO dataset here: https://drive.google.com/open?id=1QOmVDpd8hcVYqqUXDXf68UMDWQZP0wQV\n",
    "data_2019 = pd.read_csv(\"developer_survey_2019/survey_results_public.csv\", low_memory=False)"
   ]
  },
  {
   "cell_type": "code",
   "execution_count": 4,
   "metadata": {},
   "outputs": [],
   "source": [
    "to_drop = [\"Respondent\", \"OpenSource\", \"CareerSat\", \"JobSat\", \"JobSeek\", \"ResumeUpdate\", \"SurveyLength\", \"SurveyEase\",\n",
    "           \"WelcomeChange\", \"EntTeams\", \"ScreenName\", \"LastIn\", \"SO\", \"BlockchainIs\", \"BlockchainOrg\", \"WorkChallenge\", \"BetterLife\", \"OffOn\", \"Currency\",\n",
    "           \"CompTotal\", \"CompFreq\", \"MainBranch\", \"PlatformDesireNextYear\", \"LanguageDesireNextYear\", \"DatabaseDesireNextYear\", \n",
    "           \"MiscTechDesireNextYear\", \"WebFrameDesireNextYear\", \"MgrMoney\", \"ITperson\", \"Age1stCode\", \"MgrIdiot\", \"MgrWant\", \"LastHireDate\", \n",
    "           \"Containers\", \"WorkLoc\", \"SONewContent\"]"
   ]
  },
  {
   "cell_type": "code",
   "execution_count": 5,
   "metadata": {},
   "outputs": [],
   "source": [
    "to_keep = ['Hobbyist', 'OpenSourcer', 'Employment', 'Country', 'Student', 'EdLevel', 'UndergradMajor', 'EduOther', 'OrgSize',\n",
    "           'DevType', 'YearsCode', 'YearsCodePro', 'FizzBuzz', 'JobFactors', 'CurrencySymbol', 'CurrencyDesc',\n",
    "           'ConvertedComp', 'WorkWeekHrs', 'WorkPlan', 'WorkRemote', 'ImpSyn', 'CodeRevHrs', 'UnitTests',\n",
    "           'PurchaseHow', 'PurchaseWhat', 'LanguageWorkedWith', 'DatabaseWorkedWith', 'PlatformWorkedWith', 'WebFrameWorkedWith',\n",
    "           'MiscTechWorkedWith', 'DevEnviron', 'OpSys', 'SocialMedia', 'Extraversion', 'Age', 'Gender', 'Trans', 'Sexuality', \n",
    "           'Ethnicity', 'Dependents']"
   ]
  },
  {
   "cell_type": "code",
   "execution_count": 6,
   "metadata": {},
   "outputs": [],
   "source": [
    "# TODO: Rename columns\n",
    "# TODO: Rename responses"
   ]
  },
  {
   "cell_type": "code",
   "execution_count": 7,
   "metadata": {},
   "outputs": [],
   "source": [
    "def col_drop(df: pd.DataFrame, to_drop: list) -> pd.DataFrame:\n",
    "\n",
    "    df_dropped = df.copy()\n",
    "\n",
    "    for flag in to_drop:\n",
    "        try:\n",
    "            df_dropped.drop([x for x in df_dropped.columns if flag == x], axis=1, inplace=True)\n",
    "        except:\n",
    "            pass\n",
    "\n",
    "    return df_dropped"
   ]
  },
  {
   "cell_type": "code",
   "execution_count": 8,
   "metadata": {},
   "outputs": [],
   "source": [
    "def string_replace(s: str) -> int:\n",
    "    try:\n",
    "        s = float(s)\n",
    "    except:\n",
    "        s = -1000\n",
    "\n",
    "    return s"
   ]
  },
  {
   "cell_type": "code",
   "execution_count": 9,
   "metadata": {},
   "outputs": [],
   "source": [
    "def text_clean(text: str) -> str:\n",
    "    text = str(text).replace(\" \", \"_\").replace(\"-\", \"_\").replace(\n",
    "        \",\", \"_\").replace(\".\", \"\").replace(\"+\", \"p\").replace(\"#\", \"s\").replace(\n",
    "            \"/\", \"_\").replace(\"'\", \"\").replace(\"ʼ\", \"\").replace(\n",
    "                \"(\", \"_\").replace(\")\", \"_\").replace(\"’\", \"\").replace(\n",
    "                    \"__\", \"_\").replace(\"__\", \"_\").replace(\"“\", \"\").replace(\n",
    "                        \"”\", \"\").replace(\":\", \"_\").replace(\"&\", \"_\").lower()\n",
    "\n",
    "    banned = [\"participated_in_\", \"_or\", \"_of\", \"_etc\", \"_employees\", \"taken_\", \n",
    "              \"_african_descent\", \"employed_\", \"developer_\", \"specialist_\",\n",
    "              \"_european_descent\"]\n",
    "\n",
    "    for t in banned: text = text.replace(t, \"\")\n",
    "\n",
    "    return text"
   ]
  },
  {
   "cell_type": "code",
   "execution_count": 10,
   "metadata": {},
   "outputs": [],
   "source": [
    "def create_controls(df: pd.DataFrame, exclude: str) -> dict:\n",
    "\n",
    "    controls = {}\n",
    "\n",
    "    for col in df.columns:\n",
    "        if col != exclude:\n",
    "            controls[col] = {\n",
    "                \"omitted\": text_clean(pd.Series([x for sub in list(\n",
    "                           data_2019[col]\n",
    "                           .apply(text_clean)\n",
    "                           .apply(lambda x: str(x).split(\";\"))) for x in sub])\n",
    "                           .value_counts()\n",
    "                           .idxmax()), \n",
    "                \"controls\": list(set([x for sub in list(\n",
    "                            data_2019[col]\n",
    "                            .apply(text_clean)\n",
    "                            .apply(lambda x: str(x).split(\";\"))) for x in sub]))}\n",
    "\n",
    "    return controls"
   ]
  },
  {
   "cell_type": "code",
   "execution_count": 11,
   "metadata": {},
   "outputs": [],
   "source": [
    "def design_matrix(df: pd.DataFrame, controls: dict) -> pd.DataFrame:\n",
    "    dm = df.copy()\n",
    "    \n",
    "    for control in controls.keys():\n",
    "        dm[control] = dm[control].apply(text_clean)\n",
    "\n",
    "        if control in num_columns:\n",
    "            for c in controls[control][\"controls\"]:\n",
    "                dm[control+\"_\"+c] = (dm[control] == c) * 1\n",
    "\n",
    "        else:\n",
    "            for c in controls[control][\"controls\"]:\n",
    "                dm[control+\"_\"+c] = dm[control].apply(lambda x: c in str(x).split(\";\")) * 1\n",
    "\n",
    "        dm.drop(control, axis=1, inplace=True)\n",
    "        dm.drop(control+\"_\"+controls[control][\"omitted\"], axis=1, inplace=True)\n",
    "\n",
    "    dm = dm[sorted(dm.columns)]\n",
    "\n",
    "    return dm"
   ]
  },
  {
   "cell_type": "code",
   "execution_count": 12,
   "metadata": {},
   "outputs": [],
   "source": [
    "# Only consider those with income between $10,000 and $250,000\n",
    "data_2019 = data_2019[(data_2019[\"ConvertedComp\"] >= 10000) & (data_2019[\"ConvertedComp\"] <= 250000)]\n",
    "data_2019[\"ConvertedComp\"] = np.log(data_2019[\"ConvertedComp\"])\n",
    "\n",
    "# Only consider US respondents\n",
    "data_2019 = data_2019[data_2019[\"Country\"] == \"United States\"]\n",
    "#data_2019.drop([\"Country\"], axis=1, inplace=True)\n",
    "\n",
    "# Only consider 18+ respondents\n",
    "data_2019 = data_2019[data_2019[\"Age\"] >= 21]\n",
    "\n",
    "# Only consider respondents in the workforce\n",
    "data_2019 = data_2019[data_2019[\"Employment\"] != \"Retired\"]\n",
    "data_2019 = data_2019[data_2019[\"Employment\"] != \"Not employed, and not looking for work\"]\n",
    "\n",
    "data_2019 = data_2019[data_2019[\"WorkWeekHrs\"] >= 5]\n",
    "\n",
    "# No students\n",
    "data_2019 = data_2019[[\"Student\" not in str(x) for x in data_2019[\"DevType\"].values]]\n",
    "data_2019 = data_2019[data_2019[\"Student\"] == \"No\"]\n",
    "\n",
    "# Only consider those with at least some education\n",
    "data_2019 = data_2019[data_2019[\"EdLevel\"] != \"I never completed any formal education\"]\n",
    "\n",
    "data_2019 = data_2019.fillna(\"no_answer\")\n",
    "\n",
    "num_columns = [\"Age\", \"YearsCode\", \"YearsCodePro\", \"WorkWeekHrs\", \"CodeRevHrs\"]\n",
    "\n",
    "# Convert numeric columns to int\n",
    "for col in num_columns:\n",
    "    data_2019[col] = data_2019[col].astype(\"int32\", errors=\"ignore\")\n",
    "\n",
    "data_2019[\"YearsCode\"].replace(\"Less than 1 year\", \"0\", inplace=True)\n",
    "data_2019[\"YearsCode\"].replace(\"More than 50 years\", \"51\", inplace=True)\n",
    "\n",
    "# Exclude respondents who selected multiple gender, race, or sexual orientation options\n",
    "data_2019 = data_2019[~data_2019[\"Gender\"].str.contains(\";\")]\n",
    "data_2019 = data_2019[~data_2019[\"Ethnicity\"].str.contains(\";\")]\n",
    "data_2019 = data_2019[~data_2019[\"Sexuality\"].str.contains(\";\")]\n",
    "\n",
    "# Keep certain columns\n",
    "data_2019 = data_2019[to_keep]\n",
    "\n",
    "data_2019 = data_2019.rename(columns = {\"ConvertedComp\": \"Income\"})\n",
    "\n",
    "for col in num_columns:\n",
    "    data_2019[col] = data_2019[col].apply(string_replace)\n",
    "\n",
    "# Reset index\n",
    "data_2019 = data_2019.reset_index(drop=True)"
   ]
  },
  {
   "cell_type": "code",
   "execution_count": 13,
   "metadata": {},
   "outputs": [],
   "source": [
    "num_labels = [\n",
    "    [\"no_answer\", \"21-25\", \"26-30\", \"31-35\", \"35-40\", \"41-45\", \"45-50\", \"51-55\", \"55-60\", \"61-65\", \"66-\"],\n",
    "    [\"no_answer\",\"00-05\", \"06-10\", \"11-15\", \"16-20\", \"21-25\", \"26-30\", \"31-35\", \"35-40\", \"41-\"],\n",
    "    [\"no_answer\",\"00-05\", \"06-10\", \"11-15\", \"16-20\", \"21-25\", \"26-30\", \"31-35\", \"35-40\", \"41-\"],\n",
    "    [\"no_answer\",\"00-10\", \"11-20\", \"21-30\", \"31-40\", \"41-50\", \"51-60\", \"61-70\", \"71-80\", \"81-\"],\n",
    "    [\"no_answer\",\"01-02\", \"02-04\", \"04-06\", \"06-08\", \"08-10\", \"11-15\", \"16-20\", \"21-\"]\n",
    "]\n",
    "\n",
    "num_buckets = [\n",
    "    np.array([-1001,0,25,30,35,40,45,50,55,60,65,100]),\n",
    "    np.array([-1001,0,5,10,15,20,25,30,35,40,100]),\n",
    "    np.array([-1001,0,5,10,15,20,25,30,35,40,100]),\n",
    "    np.array([-1001,0,10,20,30,40,50,60,70,80,200]),\n",
    "    np.array([-1001,0,2,4,6,8,10,15,20,200])\n",
    "]"
   ]
  },
  {
   "cell_type": "code",
   "execution_count": 14,
   "metadata": {},
   "outputs": [],
   "source": [
    "# Bucket numerical columns\n",
    "for i, col in enumerate(num_columns):\n",
    "    data_2019[col] = pd.cut(data_2019[col], \n",
    "                            num_buckets[i], \n",
    "                            labels=num_labels[i]).astype(\"str\")"
   ]
  },
  {
   "cell_type": "code",
   "execution_count": 15,
   "metadata": {},
   "outputs": [],
   "source": [
    "controls = create_controls(data_2019, \"Income\")"
   ]
  },
  {
   "cell_type": "code",
   "execution_count": 16,
   "metadata": {},
   "outputs": [],
   "source": [
    "data_2019 = design_matrix(data_2019, controls)"
   ]
  },
  {
   "cell_type": "code",
   "execution_count": 17,
   "metadata": {},
   "outputs": [],
   "source": [
    "est = sm.OLS(endog=data_2019[\"Income\"].values, \n",
    "             exog=data_2019.drop(\"Income\", axis=1).assign(const=1)).fit()"
   ]
  },
  {
   "cell_type": "code",
   "execution_count": 18,
   "metadata": {},
   "outputs": [
    {
     "data": {
      "text/html": [
       "<table class=\"simpletable\">\n",
       "<caption>OLS Regression Results</caption>\n",
       "<tr>\n",
       "  <th>Dep. Variable:</th>            <td>y</td>        <th>  R-squared:         </th> <td>   0.503</td>\n",
       "</tr>\n",
       "<tr>\n",
       "  <th>Model:</th>                   <td>OLS</td>       <th>  Adj. R-squared:    </th> <td>   0.488</td>\n",
       "</tr>\n",
       "<tr>\n",
       "  <th>Method:</th>             <td>Least Squares</td>  <th>  F-statistic:       </th> <td>   33.63</td>\n",
       "</tr>\n",
       "<tr>\n",
       "  <th>Date:</th>             <td>Wed, 05 Feb 2020</td> <th>  Prob (F-statistic):</th>  <td>  0.00</td> \n",
       "</tr>\n",
       "<tr>\n",
       "  <th>Time:</th>                 <td>18:30:23</td>     <th>  Log-Likelihood:    </th> <td> -2189.5</td>\n",
       "</tr>\n",
       "<tr>\n",
       "  <th>No. Observations:</th>      <td> 10355</td>      <th>  AIC:               </th> <td>   4985.</td>\n",
       "</tr>\n",
       "<tr>\n",
       "  <th>Df Residuals:</th>          <td> 10052</td>      <th>  BIC:               </th> <td>   7180.</td>\n",
       "</tr>\n",
       "<tr>\n",
       "  <th>Df Model:</th>              <td>   302</td>      <th>                     </th>     <td> </td>   \n",
       "</tr>\n",
       "<tr>\n",
       "  <th>Covariance Type:</th>      <td>nonrobust</td>    <th>                     </th>     <td> </td>   \n",
       "</tr>\n",
       "</table>\n",
       "<table class=\"simpletable\">\n",
       "<tr>\n",
       "                                                        <td></td>                                                           <th>coef</th>     <th>std err</th>      <th>t</th>      <th>P>|t|</th>  <th>[0.025</th>    <th>0.975]</th>  \n",
       "</tr>\n",
       "<tr>\n",
       "  <th>Age_21_25</th>                                                                                                     <td>   -0.1091</td> <td>    0.010</td> <td>  -10.589</td> <td> 0.000</td> <td>   -0.129</td> <td>   -0.089</td>\n",
       "</tr>\n",
       "<tr>\n",
       "  <th>Age_31_35</th>                                                                                                     <td>    0.0458</td> <td>    0.010</td> <td>    4.712</td> <td> 0.000</td> <td>    0.027</td> <td>    0.065</td>\n",
       "</tr>\n",
       "<tr>\n",
       "  <th>Age_35_40</th>                                                                                                     <td>    0.0259</td> <td>    0.012</td> <td>    2.104</td> <td> 0.035</td> <td>    0.002</td> <td>    0.050</td>\n",
       "</tr>\n",
       "<tr>\n",
       "  <th>Age_41_45</th>                                                                                                     <td>    0.0319</td> <td>    0.016</td> <td>    1.938</td> <td> 0.053</td> <td>   -0.000</td> <td>    0.064</td>\n",
       "</tr>\n",
       "<tr>\n",
       "  <th>Age_45_50</th>                                                                                                     <td>    0.0214</td> <td>    0.020</td> <td>    1.064</td> <td> 0.287</td> <td>   -0.018</td> <td>    0.061</td>\n",
       "</tr>\n",
       "<tr>\n",
       "  <th>Age_51_55</th>                                                                                                     <td>   -0.0244</td> <td>    0.025</td> <td>   -0.996</td> <td> 0.319</td> <td>   -0.072</td> <td>    0.024</td>\n",
       "</tr>\n",
       "<tr>\n",
       "  <th>Age_55_60</th>                                                                                                     <td>   -0.0177</td> <td>    0.030</td> <td>   -0.586</td> <td> 0.558</td> <td>   -0.077</td> <td>    0.041</td>\n",
       "</tr>\n",
       "<tr>\n",
       "  <th>Age_61_65</th>                                                                                                     <td>   -0.0446</td> <td>    0.040</td> <td>   -1.110</td> <td> 0.267</td> <td>   -0.123</td> <td>    0.034</td>\n",
       "</tr>\n",
       "<tr>\n",
       "  <th>Age_66_</th>                                                                                                       <td>   -0.0234</td> <td>    0.068</td> <td>   -0.342</td> <td> 0.732</td> <td>   -0.157</td> <td>    0.111</td>\n",
       "</tr>\n",
       "<tr>\n",
       "  <th>CodeRevHrs_02_04</th>                                                                                              <td>    0.0002</td> <td>    0.009</td> <td>    0.025</td> <td> 0.980</td> <td>   -0.017</td> <td>    0.018</td>\n",
       "</tr>\n",
       "<tr>\n",
       "  <th>CodeRevHrs_04_06</th>                                                                                              <td>    0.0150</td> <td>    0.009</td> <td>    1.592</td> <td> 0.111</td> <td>   -0.003</td> <td>    0.033</td>\n",
       "</tr>\n",
       "<tr>\n",
       "  <th>CodeRevHrs_06_08</th>                                                                                              <td>    0.0292</td> <td>    0.016</td> <td>    1.847</td> <td> 0.065</td> <td>   -0.002</td> <td>    0.060</td>\n",
       "</tr>\n",
       "<tr>\n",
       "  <th>CodeRevHrs_08_10</th>                                                                                              <td>    0.0047</td> <td>    0.016</td> <td>    0.295</td> <td> 0.768</td> <td>   -0.027</td> <td>    0.036</td>\n",
       "</tr>\n",
       "<tr>\n",
       "  <th>CodeRevHrs_11_15</th>                                                                                              <td>   -0.0136</td> <td>    0.024</td> <td>   -0.563</td> <td> 0.573</td> <td>   -0.061</td> <td>    0.034</td>\n",
       "</tr>\n",
       "<tr>\n",
       "  <th>CodeRevHrs_16_20</th>                                                                                              <td>   -0.0590</td> <td>    0.042</td> <td>   -1.410</td> <td> 0.159</td> <td>   -0.141</td> <td>    0.023</td>\n",
       "</tr>\n",
       "<tr>\n",
       "  <th>CodeRevHrs_21_</th>                                                                                                <td>   -0.0800</td> <td>    0.061</td> <td>   -1.313</td> <td> 0.189</td> <td>   -0.200</td> <td>    0.039</td>\n",
       "</tr>\n",
       "<tr>\n",
       "  <th>CodeRevHrs_no_answer</th>                                                                                          <td>   -0.0566</td> <td>    0.009</td> <td>   -6.270</td> <td> 0.000</td> <td>   -0.074</td> <td>   -0.039</td>\n",
       "</tr>\n",
       "<tr>\n",
       "  <th>CurrencyDesc_european_euro</th>                                                                                    <td>    0.0239</td> <td>    0.108</td> <td>    0.221</td> <td> 0.825</td> <td>   -0.188</td> <td>    0.236</td>\n",
       "</tr>\n",
       "<tr>\n",
       "  <th>CurrencyDesc_indian_rupee</th>                                                                                     <td>   -1.2320</td> <td>    0.154</td> <td>   -7.984</td> <td> 0.000</td> <td>   -1.534</td> <td>   -0.930</td>\n",
       "</tr>\n",
       "<tr>\n",
       "  <th>CurrencyDesc_swedish_krona</th>                                                                                    <td>   -0.4346</td> <td>    0.154</td> <td>   -2.830</td> <td> 0.005</td> <td>   -0.736</td> <td>   -0.134</td>\n",
       "</tr>\n",
       "<tr>\n",
       "  <th>CurrencySymbol_eur</th>                                                                                            <td>    0.0239</td> <td>    0.108</td> <td>    0.221</td> <td> 0.825</td> <td>   -0.188</td> <td>    0.236</td>\n",
       "</tr>\n",
       "<tr>\n",
       "  <th>CurrencySymbol_inr</th>                                                                                            <td>   -1.2320</td> <td>    0.154</td> <td>   -7.984</td> <td> 0.000</td> <td>   -1.534</td> <td>   -0.930</td>\n",
       "</tr>\n",
       "<tr>\n",
       "  <th>CurrencySymbol_sek</th>                                                                                            <td>   -0.4346</td> <td>    0.154</td> <td>   -2.830</td> <td> 0.005</td> <td>   -0.736</td> <td>   -0.134</td>\n",
       "</tr>\n",
       "<tr>\n",
       "  <th>DatabaseWorkedWith_cassandra</th>                                                                                  <td>    0.0196</td> <td>    0.018</td> <td>    1.073</td> <td> 0.283</td> <td>   -0.016</td> <td>    0.055</td>\n",
       "</tr>\n",
       "<tr>\n",
       "  <th>DatabaseWorkedWith_couchbase</th>                                                                                  <td>    0.0088</td> <td>    0.022</td> <td>    0.401</td> <td> 0.688</td> <td>   -0.034</td> <td>    0.052</td>\n",
       "</tr>\n",
       "<tr>\n",
       "  <th>DatabaseWorkedWith_dynamodb</th>                                                                                   <td>    0.0425</td> <td>    0.012</td> <td>    3.652</td> <td> 0.000</td> <td>    0.020</td> <td>    0.065</td>\n",
       "</tr>\n",
       "<tr>\n",
       "  <th>DatabaseWorkedWith_elasticsearch</th>                                                                              <td>    0.0034</td> <td>    0.009</td> <td>    0.360</td> <td> 0.719</td> <td>   -0.015</td> <td>    0.022</td>\n",
       "</tr>\n",
       "<tr>\n",
       "  <th>DatabaseWorkedWith_firebase</th>                                                                                   <td>   -0.0091</td> <td>    0.012</td> <td>   -0.732</td> <td> 0.464</td> <td>   -0.033</td> <td>    0.015</td>\n",
       "</tr>\n",
       "<tr>\n",
       "  <th>DatabaseWorkedWith_mariadb</th>                                                                                    <td>   -0.0481</td> <td>    0.011</td> <td>   -4.246</td> <td> 0.000</td> <td>   -0.070</td> <td>   -0.026</td>\n",
       "</tr>\n",
       "<tr>\n",
       "  <th>DatabaseWorkedWith_microsoft_sql_server</th>                                                                       <td>   -0.0102</td> <td>    0.009</td> <td>   -1.082</td> <td> 0.279</td> <td>   -0.029</td> <td>    0.008</td>\n",
       "</tr>\n",
       "<tr>\n",
       "  <th>DatabaseWorkedWith_mongodb</th>                                                                                    <td>    0.0049</td> <td>    0.009</td> <td>    0.569</td> <td> 0.570</td> <td>   -0.012</td> <td>    0.022</td>\n",
       "</tr>\n",
       "<tr>\n",
       "  <th>DatabaseWorkedWith_no_answer</th>                                                                                  <td>    0.0076</td> <td>    0.012</td> <td>    0.627</td> <td> 0.531</td> <td>   -0.016</td> <td>    0.031</td>\n",
       "</tr>\n",
       "<tr>\n",
       "  <th>DatabaseWorkedWith_oracle</th>                                                                                     <td>   -0.0156</td> <td>    0.010</td> <td>   -1.509</td> <td> 0.131</td> <td>   -0.036</td> <td>    0.005</td>\n",
       "</tr>\n",
       "<tr>\n",
       "  <th>DatabaseWorkedWith_other_s__</th>                                                                                  <td>    0.0354</td> <td>    0.012</td> <td>    2.998</td> <td> 0.003</td> <td>    0.012</td> <td>    0.059</td>\n",
       "</tr>\n",
       "<tr>\n",
       "  <th>DatabaseWorkedWith_postgresql</th>                                                                                 <td>    0.0065</td> <td>    0.008</td> <td>    0.823</td> <td> 0.411</td> <td>   -0.009</td> <td>    0.022</td>\n",
       "</tr>\n",
       "<tr>\n",
       "  <th>DatabaseWorkedWith_redis</th>                                                                                      <td>    0.0453</td> <td>    0.009</td> <td>    5.136</td> <td> 0.000</td> <td>    0.028</td> <td>    0.063</td>\n",
       "</tr>\n",
       "<tr>\n",
       "  <th>DatabaseWorkedWith_sqlite</th>                                                                                     <td>    0.0071</td> <td>    0.008</td> <td>    0.878</td> <td> 0.380</td> <td>   -0.009</td> <td>    0.023</td>\n",
       "</tr>\n",
       "<tr>\n",
       "  <th>Dependents_no_answer</th>                                                                                          <td>   -0.0132</td> <td>    0.033</td> <td>   -0.402</td> <td> 0.687</td> <td>   -0.077</td> <td>    0.051</td>\n",
       "</tr>\n",
       "<tr>\n",
       "  <th>Dependents_yes</th>                                                                                                <td>    0.0149</td> <td>    0.007</td> <td>    2.050</td> <td> 0.040</td> <td>    0.001</td> <td>    0.029</td>\n",
       "</tr>\n",
       "<tr>\n",
       "  <th>DevEnviron_android_studio</th>                                                                                     <td>    0.0004</td> <td>    0.015</td> <td>    0.030</td> <td> 0.976</td> <td>   -0.028</td> <td>    0.029</td>\n",
       "</tr>\n",
       "<tr>\n",
       "  <th>DevEnviron_atom</th>                                                                                               <td>   -0.0236</td> <td>    0.010</td> <td>   -2.457</td> <td> 0.014</td> <td>   -0.042</td> <td>   -0.005</td>\n",
       "</tr>\n",
       "<tr>\n",
       "  <th>DevEnviron_coda</th>                                                                                               <td>   -0.0154</td> <td>    0.039</td> <td>   -0.391</td> <td> 0.695</td> <td>   -0.093</td> <td>    0.062</td>\n",
       "</tr>\n",
       "<tr>\n",
       "  <th>DevEnviron_eclipse</th>                                                                                            <td>   -0.0192</td> <td>    0.012</td> <td>   -1.615</td> <td> 0.106</td> <td>   -0.042</td> <td>    0.004</td>\n",
       "</tr>\n",
       "<tr>\n",
       "  <th>DevEnviron_emacs</th>                                                                                              <td>   -0.0152</td> <td>    0.014</td> <td>   -1.079</td> <td> 0.281</td> <td>   -0.043</td> <td>    0.012</td>\n",
       "</tr>\n",
       "<tr>\n",
       "  <th>DevEnviron_intellij</th>                                                                                           <td>    0.0197</td> <td>    0.009</td> <td>    2.102</td> <td> 0.036</td> <td>    0.001</td> <td>    0.038</td>\n",
       "</tr>\n",
       "<tr>\n",
       "  <th>DevEnviron_ipython_jupyter</th>                                                                                    <td>   -0.0064</td> <td>    0.014</td> <td>   -0.468</td> <td> 0.640</td> <td>   -0.033</td> <td>    0.020</td>\n",
       "</tr>\n",
       "<tr>\n",
       "  <th>DevEnviron_komodo</th>                                                                                             <td>    0.0112</td> <td>    0.073</td> <td>    0.152</td> <td> 0.879</td> <td>   -0.133</td> <td>    0.155</td>\n",
       "</tr>\n",
       "<tr>\n",
       "  <th>DevEnviron_light_table</th>                                                                                        <td>   -0.0746</td> <td>    0.155</td> <td>   -0.482</td> <td> 0.630</td> <td>   -0.378</td> <td>    0.229</td>\n",
       "</tr>\n",
       "<tr>\n",
       "  <th>DevEnviron_netbeans</th>                                                                                           <td>    0.0056</td> <td>    0.023</td> <td>    0.239</td> <td> 0.811</td> <td>   -0.040</td> <td>    0.051</td>\n",
       "</tr>\n",
       "<tr>\n",
       "  <th>DevEnviron_no_answer</th>                                                                                          <td>   -0.1119</td> <td>    0.035</td> <td>   -3.155</td> <td> 0.002</td> <td>   -0.181</td> <td>   -0.042</td>\n",
       "</tr>\n",
       "<tr>\n",
       "  <th>DevEnviron_notepadpp</th>                                                                                          <td>   -0.0312</td> <td>    0.008</td> <td>   -3.787</td> <td> 0.000</td> <td>   -0.047</td> <td>   -0.015</td>\n",
       "</tr>\n",
       "<tr>\n",
       "  <th>DevEnviron_phpstorm</th>                                                                                           <td>   -0.0135</td> <td>    0.017</td> <td>   -0.785</td> <td> 0.432</td> <td>   -0.047</td> <td>    0.020</td>\n",
       "</tr>\n",
       "<tr>\n",
       "  <th>DevEnviron_pycharm</th>                                                                                            <td>   -0.0082</td> <td>    0.011</td> <td>   -0.722</td> <td> 0.470</td> <td>   -0.031</td> <td>    0.014</td>\n",
       "</tr>\n",
       "<tr>\n",
       "  <th>DevEnviron_rstudio</th>                                                                                            <td>   -0.0454</td> <td>    0.023</td> <td>   -1.973</td> <td> 0.049</td> <td>   -0.090</td> <td>   -0.000</td>\n",
       "</tr>\n",
       "<tr>\n",
       "  <th>DevEnviron_rubymine</th>                                                                                           <td>    0.0206</td> <td>    0.024</td> <td>    0.854</td> <td> 0.393</td> <td>   -0.027</td> <td>    0.068</td>\n",
       "</tr>\n",
       "<tr>\n",
       "  <th>DevEnviron_sublime_text</th>                                                                                       <td>    0.0041</td> <td>    0.008</td> <td>    0.523</td> <td> 0.601</td> <td>   -0.011</td> <td>    0.019</td>\n",
       "</tr>\n",
       "<tr>\n",
       "  <th>DevEnviron_textmate</th>                                                                                           <td>   -0.0233</td> <td>    0.031</td> <td>   -0.743</td> <td> 0.458</td> <td>   -0.085</td> <td>    0.038</td>\n",
       "</tr>\n",
       "<tr>\n",
       "  <th>DevEnviron_vim</th>                                                                                                <td>    0.0076</td> <td>    0.008</td> <td>    1.014</td> <td> 0.311</td> <td>   -0.007</td> <td>    0.022</td>\n",
       "</tr>\n",
       "<tr>\n",
       "  <th>DevEnviron_visual_studio</th>                                                                                      <td>    0.0210</td> <td>    0.012</td> <td>    1.737</td> <td> 0.082</td> <td>   -0.003</td> <td>    0.045</td>\n",
       "</tr>\n",
       "<tr>\n",
       "  <th>DevEnviron_xcode</th>                                                                                              <td>   -0.0131</td> <td>    0.016</td> <td>   -0.831</td> <td> 0.406</td> <td>   -0.044</td> <td>    0.018</td>\n",
       "</tr>\n",
       "<tr>\n",
       "  <th>DevEnviron_zend</th>                                                                                               <td>    0.1392</td> <td>    0.094</td> <td>    1.485</td> <td> 0.137</td> <td>   -0.044</td> <td>    0.323</td>\n",
       "</tr>\n",
       "<tr>\n",
       "  <th>DevType_academic_researcher</th>                                                                                   <td>   -0.0902</td> <td>    0.021</td> <td>   -4.326</td> <td> 0.000</td> <td>   -0.131</td> <td>   -0.049</td>\n",
       "</tr>\n",
       "<tr>\n",
       "  <th>DevType_back_end</th>                                                                                              <td>    0.0118</td> <td>    0.007</td> <td>    1.603</td> <td> 0.109</td> <td>   -0.003</td> <td>    0.026</td>\n",
       "</tr>\n",
       "<tr>\n",
       "  <th>DevType_data_business_analyst</th>                                                                                 <td>    0.0071</td> <td>    0.013</td> <td>    0.555</td> <td> 0.579</td> <td>   -0.018</td> <td>    0.032</td>\n",
       "</tr>\n",
       "<tr>\n",
       "  <th>DevType_data_scientist_machine_learning_specialist</th>                                                            <td>    0.0255</td> <td>    0.015</td> <td>    1.682</td> <td> 0.093</td> <td>   -0.004</td> <td>    0.055</td>\n",
       "</tr>\n",
       "<tr>\n",
       "  <th>DevType_database_administrator</th>                                                                                <td>   -0.0150</td> <td>    0.011</td> <td>   -1.338</td> <td> 0.181</td> <td>   -0.037</td> <td>    0.007</td>\n",
       "</tr>\n",
       "<tr>\n",
       "  <th>DevType_designer</th>                                                                                              <td>   -0.0481</td> <td>    0.011</td> <td>   -4.314</td> <td> 0.000</td> <td>   -0.070</td> <td>   -0.026</td>\n",
       "</tr>\n",
       "<tr>\n",
       "  <th>DevType_desktop_enterprise_applications</th>                                                                       <td>   -0.0057</td> <td>    0.009</td> <td>   -0.649</td> <td> 0.516</td> <td>   -0.023</td> <td>    0.011</td>\n",
       "</tr>\n",
       "<tr>\n",
       "  <th>DevType_devops_specialist</th>                                                                                     <td>   -0.0047</td> <td>    0.010</td> <td>   -0.455</td> <td> 0.649</td> <td>   -0.025</td> <td>    0.016</td>\n",
       "</tr>\n",
       "<tr>\n",
       "  <th>DevType_educator</th>                                                                                              <td>   -0.0729</td> <td>    0.018</td> <td>   -4.127</td> <td> 0.000</td> <td>   -0.108</td> <td>   -0.038</td>\n",
       "</tr>\n",
       "<tr>\n",
       "  <th>DevType_embedded_applications_devices</th>                                                                         <td>   -0.0095</td> <td>    0.013</td> <td>   -0.749</td> <td> 0.454</td> <td>   -0.034</td> <td>    0.015</td>\n",
       "</tr>\n",
       "<tr>\n",
       "  <th>DevType_engineer_data</th>                                                                                         <td>    0.0014</td> <td>    0.012</td> <td>    0.109</td> <td> 0.913</td> <td>   -0.023</td> <td>    0.026</td>\n",
       "</tr>\n",
       "<tr>\n",
       "  <th>DevType_engineer_site_reliability</th>                                                                             <td>    0.0367</td> <td>    0.016</td> <td>    2.333</td> <td> 0.020</td> <td>    0.006</td> <td>    0.068</td>\n",
       "</tr>\n",
       "<tr>\n",
       "  <th>DevType_engineering_manager</th>                                                                                   <td>    0.0753</td> <td>    0.013</td> <td>    5.846</td> <td> 0.000</td> <td>    0.050</td> <td>    0.101</td>\n",
       "</tr>\n",
       "<tr>\n",
       "  <th>DevType_front_end</th>                                                                                             <td>   -0.0288</td> <td>    0.008</td> <td>   -3.530</td> <td> 0.000</td> <td>   -0.045</td> <td>   -0.013</td>\n",
       "</tr>\n",
       "<tr>\n",
       "  <th>DevType_game_graphics</th>                                                                                         <td>   -0.0591</td> <td>    0.018</td> <td>   -3.219</td> <td> 0.001</td> <td>   -0.095</td> <td>   -0.023</td>\n",
       "</tr>\n",
       "<tr>\n",
       "  <th>DevType_marketing_sales_professional</th>                                                                          <td>   -0.0071</td> <td>    0.033</td> <td>   -0.213</td> <td> 0.831</td> <td>   -0.072</td> <td>    0.058</td>\n",
       "</tr>\n",
       "<tr>\n",
       "  <th>DevType_mobile</th>                                                                                                <td>    0.0068</td> <td>    0.012</td> <td>    0.562</td> <td> 0.574</td> <td>   -0.017</td> <td>    0.031</td>\n",
       "</tr>\n",
       "<tr>\n",
       "  <th>DevType_no_answer</th>                                                                                             <td>    0.0522</td> <td>    0.027</td> <td>    1.949</td> <td> 0.051</td> <td>   -0.000</td> <td>    0.105</td>\n",
       "</tr>\n",
       "<tr>\n",
       "  <th>DevType_product_manager</th>                                                                                       <td>    0.0365</td> <td>    0.017</td> <td>    2.211</td> <td> 0.027</td> <td>    0.004</td> <td>    0.069</td>\n",
       "</tr>\n",
       "<tr>\n",
       "  <th>DevType_qa_test</th>                                                                                               <td>   -0.0431</td> <td>    0.011</td> <td>   -3.763</td> <td> 0.000</td> <td>   -0.066</td> <td>   -0.021</td>\n",
       "</tr>\n",
       "<tr>\n",
       "  <th>DevType_scientist</th>                                                                                             <td>   -0.0315</td> <td>    0.021</td> <td>   -1.484</td> <td> 0.138</td> <td>   -0.073</td> <td>    0.010</td>\n",
       "</tr>\n",
       "<tr>\n",
       "  <th>DevType_senior_executive_vp</th>                                                                                   <td>    0.0894</td> <td>    0.021</td> <td>    4.259</td> <td> 0.000</td> <td>    0.048</td> <td>    0.131</td>\n",
       "</tr>\n",
       "<tr>\n",
       "  <th>DevType_system_administrator</th>                                                                                  <td>   -0.0503</td> <td>    0.012</td> <td>   -4.205</td> <td> 0.000</td> <td>   -0.074</td> <td>   -0.027</td>\n",
       "</tr>\n",
       "<tr>\n",
       "  <th>EdLevel_associate_degree</th>                                                                                      <td>   -0.0643</td> <td>    0.016</td> <td>   -4.056</td> <td> 0.000</td> <td>   -0.095</td> <td>   -0.033</td>\n",
       "</tr>\n",
       "<tr>\n",
       "  <th>EdLevel_masters_degree_ma_ms_meng_mba_</th>                                                                        <td>    0.0406</td> <td>    0.009</td> <td>    4.618</td> <td> 0.000</td> <td>    0.023</td> <td>    0.058</td>\n",
       "</tr>\n",
       "<tr>\n",
       "  <th>EdLevel_no_answer</th>                                                                                             <td>    0.0668</td> <td>    0.045</td> <td>    1.494</td> <td> 0.135</td> <td>   -0.021</td> <td>    0.154</td>\n",
       "</tr>\n",
       "<tr>\n",
       "  <th>EdLevel_other_doctoral_degree_phd_edd_</th>                                                                        <td>    0.0769</td> <td>    0.022</td> <td>    3.541</td> <td> 0.000</td> <td>    0.034</td> <td>    0.119</td>\n",
       "</tr>\n",
       "<tr>\n",
       "  <th>EdLevel_primary_elementary_school</th>                                                                             <td>    0.0008</td> <td>    0.060</td> <td>    0.014</td> <td> 0.989</td> <td>   -0.117</td> <td>    0.119</td>\n",
       "</tr>\n",
       "<tr>\n",
       "  <th>EdLevel_professional_degree_jd_md_</th>                                                                            <td>   -0.1682</td> <td>    0.046</td> <td>   -3.620</td> <td> 0.000</td> <td>   -0.259</td> <td>   -0.077</td>\n",
       "</tr>\n",
       "<tr>\n",
       "  <th>EdLevel_secondary_school_eg_american_high_school_german_realschule_gymnasium_</th>                                 <td>   -0.0172</td> <td>    0.030</td> <td>   -0.575</td> <td> 0.565</td> <td>   -0.076</td> <td>    0.041</td>\n",
       "</tr>\n",
       "<tr>\n",
       "  <th>EdLevel_some_college_university_study_without_earning_a_degree</th>                                                <td>   -0.0346</td> <td>    0.011</td> <td>   -3.237</td> <td> 0.001</td> <td>   -0.055</td> <td>   -0.014</td>\n",
       "</tr>\n",
       "<tr>\n",
       "  <th>EduOther_a_full_time_training_program_bootcamp</th>                                                                <td>    0.0006</td> <td>    0.009</td> <td>    0.068</td> <td> 0.946</td> <td>   -0.018</td> <td>    0.019</td>\n",
       "</tr>\n",
       "<tr>\n",
       "  <th>EduOther_a_hackathon</th>                                                                                          <td>    0.0380</td> <td>    0.007</td> <td>    5.263</td> <td> 0.000</td> <td>    0.024</td> <td>    0.052</td>\n",
       "</tr>\n",
       "<tr>\n",
       "  <th>EduOther_a_part_time_in_person_course_in_programming_software_development</th>                                     <td>   -0.0018</td> <td>    0.009</td> <td>   -0.204</td> <td> 0.838</td> <td>   -0.019</td> <td>    0.015</td>\n",
       "</tr>\n",
       "<tr>\n",
       "  <th>EduOther_an_online_course_in_programming_software_development_eg_a_mooc_</th>                                      <td>   -0.0107</td> <td>    0.007</td> <td>   -1.621</td> <td> 0.105</td> <td>   -0.024</td> <td>    0.002</td>\n",
       "</tr>\n",
       "<tr>\n",
       "  <th>EduOther_completed_an_industry_certification_program_eg_mcpd_</th>                                                 <td>    0.0043</td> <td>    0.009</td> <td>    0.504</td> <td> 0.615</td> <td>   -0.013</td> <td>    0.021</td>\n",
       "</tr>\n",
       "<tr>\n",
       "  <th>EduOther_contributed_to_open_source_software</th>                                                                  <td>    0.0204</td> <td>    0.009</td> <td>    2.266</td> <td> 0.023</td> <td>    0.003</td> <td>    0.038</td>\n",
       "</tr>\n",
       "<tr>\n",
       "  <th>EduOther_no_answer</th>                                                                                            <td>    0.0705</td> <td>    0.027</td> <td>    2.585</td> <td> 0.010</td> <td>    0.017</td> <td>    0.124</td>\n",
       "</tr>\n",
       "<tr>\n",
       "  <th>EduOther_online_coding_competitions_eg_hackerrank_codechef_topcoder_</th>                                          <td>    0.0226</td> <td>    0.007</td> <td>    3.009</td> <td> 0.003</td> <td>    0.008</td> <td>    0.037</td>\n",
       "</tr>\n",
       "<tr>\n",
       "  <th>EduOther_received_on_the_job_training_in_software_development</th>                                                 <td>   -0.0034</td> <td>    0.006</td> <td>   -0.532</td> <td> 0.595</td> <td>   -0.016</td> <td>    0.009</td>\n",
       "</tr>\n",
       "<tr>\n",
       "  <th>Employment_independent_contractor_freelancer_self_employed</th>                                                    <td>    0.0440</td> <td>    0.047</td> <td>    0.937</td> <td> 0.349</td> <td>   -0.048</td> <td>    0.136</td>\n",
       "</tr>\n",
       "<tr>\n",
       "  <th>Employment_no_answer</th>                                                                                          <td>   -0.2719</td> <td>    0.115</td> <td>   -2.374</td> <td> 0.018</td> <td>   -0.496</td> <td>   -0.047</td>\n",
       "</tr>\n",
       "<tr>\n",
       "  <th>Employment_part_time</th>                                                                                          <td>   -0.4433</td> <td>    0.050</td> <td>   -8.787</td> <td> 0.000</td> <td>   -0.542</td> <td>   -0.344</td>\n",
       "</tr>\n",
       "<tr>\n",
       "  <th>Ethnicity_biracial</th>                                                                                            <td>    0.0908</td> <td>    0.052</td> <td>    1.742</td> <td> 0.082</td> <td>   -0.011</td> <td>    0.193</td>\n",
       "</tr>\n",
       "<tr>\n",
       "  <th>Ethnicity_black</th>                                                                                               <td>   -0.0047</td> <td>    0.024</td> <td>   -0.194</td> <td> 0.847</td> <td>   -0.053</td> <td>    0.043</td>\n",
       "</tr>\n",
       "<tr>\n",
       "  <th>Ethnicity_east_asian</th>                                                                                          <td>    0.1400</td> <td>    0.019</td> <td>    7.219</td> <td> 0.000</td> <td>    0.102</td> <td>    0.178</td>\n",
       "</tr>\n",
       "<tr>\n",
       "  <th>Ethnicity_hispanic_latino_latina</th>                                                                              <td>    0.0361</td> <td>    0.018</td> <td>    1.993</td> <td> 0.046</td> <td>    0.001</td> <td>    0.072</td>\n",
       "</tr>\n",
       "<tr>\n",
       "  <th>Ethnicity_middle_eastern</th>                                                                                      <td>    0.1004</td> <td>    0.037</td> <td>    2.692</td> <td> 0.007</td> <td>    0.027</td> <td>    0.174</td>\n",
       "</tr>\n",
       "<tr>\n",
       "  <th>Ethnicity_multiracial</th>                                                                                         <td>   -0.0047</td> <td>    0.041</td> <td>   -0.116</td> <td> 0.908</td> <td>   -0.085</td> <td>    0.076</td>\n",
       "</tr>\n",
       "<tr>\n",
       "  <th>Ethnicity_native_american_pacific_islander_indigenous_australian</th>                                              <td>   -0.0264</td> <td>    0.063</td> <td>   -0.420</td> <td> 0.674</td> <td>   -0.150</td> <td>    0.097</td>\n",
       "</tr>\n",
       "<tr>\n",
       "  <th>Ethnicity_no_answer</th>                                                                                           <td>    0.0037</td> <td>    0.017</td> <td>    0.223</td> <td> 0.824</td> <td>   -0.029</td> <td>    0.037</td>\n",
       "</tr>\n",
       "<tr>\n",
       "  <th>Ethnicity_south_asian</th>                                                                                         <td>    0.0735</td> <td>    0.018</td> <td>    4.137</td> <td> 0.000</td> <td>    0.039</td> <td>    0.108</td>\n",
       "</tr>\n",
       "<tr>\n",
       "  <th>Extraversion_neither</th>                                                                                          <td>   -0.0176</td> <td>    0.011</td> <td>   -1.599</td> <td> 0.110</td> <td>   -0.039</td> <td>    0.004</td>\n",
       "</tr>\n",
       "<tr>\n",
       "  <th>Extraversion_no_answer</th>                                                                                        <td>    0.1393</td> <td>    0.038</td> <td>    3.678</td> <td> 0.000</td> <td>    0.065</td> <td>    0.214</td>\n",
       "</tr>\n",
       "<tr>\n",
       "  <th>Extraversion_online</th>                                                                                           <td>   -0.0147</td> <td>    0.007</td> <td>   -2.070</td> <td> 0.039</td> <td>   -0.029</td> <td>   -0.001</td>\n",
       "</tr>\n",
       "<tr>\n",
       "  <th>FizzBuzz_no_answer</th>                                                                                            <td>   -0.1541</td> <td>    0.053</td> <td>   -2.905</td> <td> 0.004</td> <td>   -0.258</td> <td>   -0.050</td>\n",
       "</tr>\n",
       "<tr>\n",
       "  <th>FizzBuzz_yes</th>                                                                                                  <td>    0.0166</td> <td>    0.007</td> <td>    2.215</td> <td> 0.027</td> <td>    0.002</td> <td>    0.031</td>\n",
       "</tr>\n",
       "<tr>\n",
       "  <th>Gender_no_answer</th>                                                                                              <td>    0.0529</td> <td>    0.034</td> <td>    1.558</td> <td> 0.119</td> <td>   -0.014</td> <td>    0.119</td>\n",
       "</tr>\n",
       "<tr>\n",
       "  <th>Gender_non_binary_genderqueer_gender_non_conforming</th>                                                           <td>   -0.0677</td> <td>    0.036</td> <td>   -1.889</td> <td> 0.059</td> <td>   -0.138</td> <td>    0.003</td>\n",
       "</tr>\n",
       "<tr>\n",
       "  <th>Gender_woman</th>                                                                                                  <td>   -0.0137</td> <td>    0.012</td> <td>   -1.163</td> <td> 0.245</td> <td>   -0.037</td> <td>    0.009</td>\n",
       "</tr>\n",
       "<tr>\n",
       "  <th>Hobbyist_no</th>                                                                                                   <td>    0.0227</td> <td>    0.008</td> <td>    2.843</td> <td> 0.004</td> <td>    0.007</td> <td>    0.038</td>\n",
       "</tr>\n",
       "<tr>\n",
       "  <th>ImpSyn_a_little_below_average</th>                                                                                 <td>   -0.0629</td> <td>    0.013</td> <td>   -4.712</td> <td> 0.000</td> <td>   -0.089</td> <td>   -0.037</td>\n",
       "</tr>\n",
       "<tr>\n",
       "  <th>ImpSyn_average</th>                                                                                                <td>   -0.0441</td> <td>    0.008</td> <td>   -5.494</td> <td> 0.000</td> <td>   -0.060</td> <td>   -0.028</td>\n",
       "</tr>\n",
       "<tr>\n",
       "  <th>ImpSyn_far_above_average</th>                                                                                      <td>    0.0444</td> <td>    0.008</td> <td>    5.643</td> <td> 0.000</td> <td>    0.029</td> <td>    0.060</td>\n",
       "</tr>\n",
       "<tr>\n",
       "  <th>ImpSyn_far_below_average</th>                                                                                      <td>   -0.0657</td> <td>    0.032</td> <td>   -2.084</td> <td> 0.037</td> <td>   -0.127</td> <td>   -0.004</td>\n",
       "</tr>\n",
       "<tr>\n",
       "  <th>ImpSyn_no_answer</th>                                                                                              <td>   -0.1435</td> <td>    0.117</td> <td>   -1.225</td> <td> 0.220</td> <td>   -0.373</td> <td>    0.086</td>\n",
       "</tr>\n",
       "<tr>\n",
       "  <th>JobFactors_diversity_the_companyganization</th>                                                                    <td>    0.0411</td> <td>    0.013</td> <td>    3.245</td> <td> 0.001</td> <td>    0.016</td> <td>    0.066</td>\n",
       "</tr>\n",
       "<tr>\n",
       "  <th>JobFactors_financial_performance_funding_status_the_companyganization</th>                                         <td>    0.0582</td> <td>    0.010</td> <td>    5.644</td> <td> 0.000</td> <td>    0.038</td> <td>    0.078</td>\n",
       "</tr>\n",
       "<tr>\n",
       "  <th>JobFactors_flex_time_a_flexible_schedule</th>                                                                      <td>    0.0007</td> <td>    0.008</td> <td>    0.087</td> <td> 0.931</td> <td>   -0.016</td> <td>    0.017</td>\n",
       "</tr>\n",
       "<tr>\n",
       "  <th>JobFactors_how_widely_used_impactful_my_work_output_would_be</th>                                                  <td>    0.0410</td> <td>    0.009</td> <td>    4.560</td> <td> 0.000</td> <td>    0.023</td> <td>    0.059</td>\n",
       "</tr>\n",
       "<tr>\n",
       "  <th>JobFactors_industry_that_id_be_working_in</th>                                                                     <td>    0.0241</td> <td>    0.010</td> <td>    2.350</td> <td> 0.019</td> <td>    0.004</td> <td>    0.044</td>\n",
       "</tr>\n",
       "<tr>\n",
       "  <th>JobFactors_languages_frameworks_and_other_technologies_id_be_working_with</th>                                     <td>    0.0025</td> <td>    0.008</td> <td>    0.300</td> <td> 0.765</td> <td>   -0.014</td> <td>    0.019</td>\n",
       "</tr>\n",
       "<tr>\n",
       "  <th>JobFactors_no_answer</th>                                                                                          <td>    0.0788</td> <td>    0.105</td> <td>    0.749</td> <td> 0.454</td> <td>   -0.127</td> <td>    0.285</td>\n",
       "</tr>\n",
       "<tr>\n",
       "  <th>JobFactors_opportunities_for_professional_development</th>                                                         <td>   -0.0006</td> <td>    0.008</td> <td>   -0.070</td> <td> 0.944</td> <td>   -0.017</td> <td>    0.016</td>\n",
       "</tr>\n",
       "<tr>\n",
       "  <th>JobFactors_remote_work_options</th>                                                                                <td>   -0.0018</td> <td>    0.009</td> <td>   -0.215</td> <td> 0.829</td> <td>   -0.019</td> <td>    0.015</td>\n",
       "</tr>\n",
       "<tr>\n",
       "  <th>JobFactors_specific_department_team_id_be_working_on</th>                                                          <td>    0.0500</td> <td>    0.010</td> <td>    5.038</td> <td> 0.000</td> <td>    0.031</td> <td>    0.069</td>\n",
       "</tr>\n",
       "<tr>\n",
       "  <th>LanguageWorkedWith_assembly</th>                                                                                   <td>   -0.0103</td> <td>    0.019</td> <td>   -0.545</td> <td> 0.586</td> <td>   -0.047</td> <td>    0.027</td>\n",
       "</tr>\n",
       "<tr>\n",
       "  <th>LanguageWorkedWith_bash_shell_powershell</th>                                                                      <td>    0.0025</td> <td>    0.007</td> <td>    0.363</td> <td> 0.716</td> <td>   -0.011</td> <td>    0.016</td>\n",
       "</tr>\n",
       "<tr>\n",
       "  <th>LanguageWorkedWith_c</th>                                                                                          <td>    0.0099</td> <td>    0.012</td> <td>    0.848</td> <td> 0.396</td> <td>   -0.013</td> <td>    0.033</td>\n",
       "</tr>\n",
       "<tr>\n",
       "  <th>LanguageWorkedWith_clojure</th>                                                                                    <td>    0.0027</td> <td>    0.022</td> <td>    0.121</td> <td> 0.904</td> <td>   -0.041</td> <td>    0.046</td>\n",
       "</tr>\n",
       "<tr>\n",
       "  <th>LanguageWorkedWith_cpp</th>                                                                                        <td>    0.0310</td> <td>    0.010</td> <td>    2.996</td> <td> 0.003</td> <td>    0.011</td> <td>    0.051</td>\n",
       "</tr>\n",
       "<tr>\n",
       "  <th>LanguageWorkedWith_cs</th>                                                                                         <td>   -0.0098</td> <td>    0.013</td> <td>   -0.767</td> <td> 0.443</td> <td>   -0.035</td> <td>    0.015</td>\n",
       "</tr>\n",
       "<tr>\n",
       "  <th>LanguageWorkedWith_dart</th>                                                                                       <td>   -0.1054</td> <td>    0.033</td> <td>   -3.185</td> <td> 0.001</td> <td>   -0.170</td> <td>   -0.041</td>\n",
       "</tr>\n",
       "<tr>\n",
       "  <th>LanguageWorkedWith_elixir</th>                                                                                     <td>   -0.0113</td> <td>    0.023</td> <td>   -0.493</td> <td> 0.622</td> <td>   -0.056</td> <td>    0.033</td>\n",
       "</tr>\n",
       "<tr>\n",
       "  <th>LanguageWorkedWith_erlang</th>                                                                                     <td>    0.0063</td> <td>    0.033</td> <td>    0.190</td> <td> 0.850</td> <td>   -0.059</td> <td>    0.071</td>\n",
       "</tr>\n",
       "<tr>\n",
       "  <th>LanguageWorkedWith_fs</th>                                                                                         <td>    0.0012</td> <td>    0.028</td> <td>    0.042</td> <td> 0.967</td> <td>   -0.055</td> <td>    0.057</td>\n",
       "</tr>\n",
       "<tr>\n",
       "  <th>LanguageWorkedWith_go</th>                                                                                         <td>    0.0480</td> <td>    0.011</td> <td>    4.546</td> <td> 0.000</td> <td>    0.027</td> <td>    0.069</td>\n",
       "</tr>\n",
       "<tr>\n",
       "  <th>LanguageWorkedWith_html_css</th>                                                                                   <td>   -0.0343</td> <td>    0.008</td> <td>   -4.272</td> <td> 0.000</td> <td>   -0.050</td> <td>   -0.019</td>\n",
       "</tr>\n",
       "<tr>\n",
       "  <th>LanguageWorkedWith_java</th>                                                                                       <td>    0.0080</td> <td>    0.009</td> <td>    0.907</td> <td> 0.364</td> <td>   -0.009</td> <td>    0.025</td>\n",
       "</tr>\n",
       "<tr>\n",
       "  <th>LanguageWorkedWith_kotlin</th>                                                                                     <td>   -0.0234</td> <td>    0.015</td> <td>   -1.543</td> <td> 0.123</td> <td>   -0.053</td> <td>    0.006</td>\n",
       "</tr>\n",
       "<tr>\n",
       "  <th>LanguageWorkedWith_no_answer</th>                                                                                  <td>   -0.0186</td> <td>    0.068</td> <td>   -0.273</td> <td> 0.785</td> <td>   -0.152</td> <td>    0.115</td>\n",
       "</tr>\n",
       "<tr>\n",
       "  <th>LanguageWorkedWith_objective_c</th>                                                                                <td>    0.0219</td> <td>    0.018</td> <td>    1.233</td> <td> 0.218</td> <td>   -0.013</td> <td>    0.057</td>\n",
       "</tr>\n",
       "<tr>\n",
       "  <th>LanguageWorkedWith_other_s__</th>                                                                                  <td>   -0.0432</td> <td>    0.010</td> <td>   -4.145</td> <td> 0.000</td> <td>   -0.064</td> <td>   -0.023</td>\n",
       "</tr>\n",
       "<tr>\n",
       "  <th>LanguageWorkedWith_php</th>                                                                                        <td>   -0.0486</td> <td>    0.010</td> <td>   -4.667</td> <td> 0.000</td> <td>   -0.069</td> <td>   -0.028</td>\n",
       "</tr>\n",
       "<tr>\n",
       "  <th>LanguageWorkedWith_python</th>                                                                                     <td>    0.0079</td> <td>    0.008</td> <td>    0.998</td> <td> 0.318</td> <td>   -0.008</td> <td>    0.023</td>\n",
       "</tr>\n",
       "<tr>\n",
       "  <th>LanguageWorkedWith_r</th>                                                                                          <td>   -0.0188</td> <td>    0.018</td> <td>   -1.047</td> <td> 0.295</td> <td>   -0.054</td> <td>    0.016</td>\n",
       "</tr>\n",
       "<tr>\n",
       "  <th>LanguageWorkedWith_ruby</th>                                                                                       <td>   -0.0026</td> <td>    0.014</td> <td>   -0.184</td> <td> 0.854</td> <td>   -0.030</td> <td>    0.025</td>\n",
       "</tr>\n",
       "<tr>\n",
       "  <th>LanguageWorkedWith_rust</th>                                                                                       <td>   -0.0194</td> <td>    0.017</td> <td>   -1.113</td> <td> 0.266</td> <td>   -0.053</td> <td>    0.015</td>\n",
       "</tr>\n",
       "<tr>\n",
       "  <th>LanguageWorkedWith_scala</th>                                                                                      <td>    0.0259</td> <td>    0.017</td> <td>    1.544</td> <td> 0.123</td> <td>   -0.007</td> <td>    0.059</td>\n",
       "</tr>\n",
       "<tr>\n",
       "  <th>LanguageWorkedWith_sql</th>                                                                                        <td>   -0.0317</td> <td>    0.008</td> <td>   -4.180</td> <td> 0.000</td> <td>   -0.047</td> <td>   -0.017</td>\n",
       "</tr>\n",
       "<tr>\n",
       "  <th>LanguageWorkedWith_swift</th>                                                                                      <td>   -0.0254</td> <td>    0.018</td> <td>   -1.440</td> <td> 0.150</td> <td>   -0.060</td> <td>    0.009</td>\n",
       "</tr>\n",
       "<tr>\n",
       "  <th>LanguageWorkedWith_typescript</th>                                                                                 <td>    0.0280</td> <td>    0.008</td> <td>    3.299</td> <td> 0.001</td> <td>    0.011</td> <td>    0.045</td>\n",
       "</tr>\n",
       "<tr>\n",
       "  <th>LanguageWorkedWith_vba</th>                                                                                        <td>   -0.0175</td> <td>    0.014</td> <td>   -1.240</td> <td> 0.215</td> <td>   -0.045</td> <td>    0.010</td>\n",
       "</tr>\n",
       "<tr>\n",
       "  <th>LanguageWorkedWith_webassembly</th>                                                                                <td>    0.0082</td> <td>    0.029</td> <td>    0.278</td> <td> 0.781</td> <td>   -0.050</td> <td>    0.066</td>\n",
       "</tr>\n",
       "<tr>\n",
       "  <th>MiscTechWorkedWith_ansible</th>                                                                                    <td>    0.0062</td> <td>    0.013</td> <td>    0.493</td> <td> 0.622</td> <td>   -0.019</td> <td>    0.031</td>\n",
       "</tr>\n",
       "<tr>\n",
       "  <th>MiscTechWorkedWith_apache_spark</th>                                                                               <td>   -0.0092</td> <td>    0.019</td> <td>   -0.489</td> <td> 0.625</td> <td>   -0.046</td> <td>    0.028</td>\n",
       "</tr>\n",
       "<tr>\n",
       "  <th>MiscTechWorkedWith_chef</th>                                                                                       <td>    0.0303</td> <td>    0.018</td> <td>    1.712</td> <td> 0.087</td> <td>   -0.004</td> <td>    0.065</td>\n",
       "</tr>\n",
       "<tr>\n",
       "  <th>MiscTechWorkedWith_cordova</th>                                                                                    <td>   -0.0208</td> <td>    0.019</td> <td>   -1.074</td> <td> 0.283</td> <td>   -0.059</td> <td>    0.017</td>\n",
       "</tr>\n",
       "<tr>\n",
       "  <th>MiscTechWorkedWith_cryengine</th>                                                                                  <td>   -0.1075</td> <td>    0.111</td> <td>   -0.968</td> <td> 0.333</td> <td>   -0.325</td> <td>    0.110</td>\n",
       "</tr>\n",
       "<tr>\n",
       "  <th>MiscTechWorkedWith_flutter</th>                                                                                    <td>    0.0894</td> <td>    0.032</td> <td>    2.759</td> <td> 0.006</td> <td>    0.026</td> <td>    0.153</td>\n",
       "</tr>\n",
       "<tr>\n",
       "  <th>MiscTechWorkedWith_hadoop</th>                                                                                     <td>    0.0372</td> <td>    0.019</td> <td>    1.923</td> <td> 0.055</td> <td>   -0.001</td> <td>    0.075</td>\n",
       "</tr>\n",
       "<tr>\n",
       "  <th>MiscTechWorkedWith_net</th>                                                                                        <td>   -0.0041</td> <td>    0.014</td> <td>   -0.296</td> <td> 0.767</td> <td>   -0.031</td> <td>    0.023</td>\n",
       "</tr>\n",
       "<tr>\n",
       "  <th>MiscTechWorkedWith_net_core</th>                                                                                   <td>    0.0180</td> <td>    0.011</td> <td>    1.667</td> <td> 0.096</td> <td>   -0.003</td> <td>    0.039</td>\n",
       "</tr>\n",
       "<tr>\n",
       "  <th>MiscTechWorkedWith_no_answer</th>                                                                                  <td>    0.0037</td> <td>    0.009</td> <td>    0.399</td> <td> 0.690</td> <td>   -0.014</td> <td>    0.022</td>\n",
       "</tr>\n",
       "<tr>\n",
       "  <th>MiscTechWorkedWith_other_s__</th>                                                                                  <td>    0.0204</td> <td>    0.018</td> <td>    1.149</td> <td> 0.250</td> <td>   -0.014</td> <td>    0.055</td>\n",
       "</tr>\n",
       "<tr>\n",
       "  <th>MiscTechWorkedWith_pandas</th>                                                                                     <td>    0.0374</td> <td>    0.014</td> <td>    2.642</td> <td> 0.008</td> <td>    0.010</td> <td>    0.065</td>\n",
       "</tr>\n",
       "<tr>\n",
       "  <th>MiscTechWorkedWith_puppet</th>                                                                                     <td>    0.0002</td> <td>    0.020</td> <td>    0.011</td> <td> 0.992</td> <td>   -0.039</td> <td>    0.040</td>\n",
       "</tr>\n",
       "<tr>\n",
       "  <th>MiscTechWorkedWith_react_native</th>                                                                               <td>   -0.0017</td> <td>    0.014</td> <td>   -0.126</td> <td> 0.900</td> <td>   -0.029</td> <td>    0.025</td>\n",
       "</tr>\n",
       "<tr>\n",
       "  <th>MiscTechWorkedWith_tensorflow</th>                                                                                 <td>    0.0012</td> <td>    0.016</td> <td>    0.073</td> <td> 0.942</td> <td>   -0.031</td> <td>    0.033</td>\n",
       "</tr>\n",
       "<tr>\n",
       "  <th>MiscTechWorkedWith_torch_pytorch</th>                                                                              <td>   -0.0109</td> <td>    0.027</td> <td>   -0.401</td> <td> 0.688</td> <td>   -0.064</td> <td>    0.043</td>\n",
       "</tr>\n",
       "<tr>\n",
       "  <th>MiscTechWorkedWith_unity_3d</th>                                                                                   <td>   -0.0136</td> <td>    0.015</td> <td>   -0.881</td> <td> 0.378</td> <td>   -0.044</td> <td>    0.017</td>\n",
       "</tr>\n",
       "<tr>\n",
       "  <th>MiscTechWorkedWith_unreal_engine</th>                                                                              <td>   -0.0593</td> <td>    0.028</td> <td>   -2.146</td> <td> 0.032</td> <td>   -0.114</td> <td>   -0.005</td>\n",
       "</tr>\n",
       "<tr>\n",
       "  <th>MiscTechWorkedWith_xamarin</th>                                                                                    <td>   -0.0267</td> <td>    0.017</td> <td>   -1.539</td> <td> 0.124</td> <td>   -0.061</td> <td>    0.007</td>\n",
       "</tr>\n",
       "<tr>\n",
       "  <th>OpSys_bsd</th>                                                                                                     <td>    0.0389</td> <td>    0.104</td> <td>    0.375</td> <td> 0.707</td> <td>   -0.164</td> <td>    0.242</td>\n",
       "</tr>\n",
       "<tr>\n",
       "  <th>OpSys_linux_based</th>                                                                                             <td>    0.0351</td> <td>    0.011</td> <td>    3.060</td> <td> 0.002</td> <td>    0.013</td> <td>    0.058</td>\n",
       "</tr>\n",
       "<tr>\n",
       "  <th>OpSys_macos</th>                                                                                                   <td>    0.0843</td> <td>    0.011</td> <td>    8.012</td> <td> 0.000</td> <td>    0.064</td> <td>    0.105</td>\n",
       "</tr>\n",
       "<tr>\n",
       "  <th>OpSys_no_answer</th>                                                                                               <td>    0.0138</td> <td>    0.041</td> <td>    0.337</td> <td> 0.736</td> <td>   -0.066</td> <td>    0.094</td>\n",
       "</tr>\n",
       "<tr>\n",
       "  <th>OpenSourcer_less_than_once_a_month_but_more_than_once_per_year</th>                                                <td>   -0.0187</td> <td>    0.011</td> <td>   -1.670</td> <td> 0.095</td> <td>   -0.041</td> <td>    0.003</td>\n",
       "</tr>\n",
       "<tr>\n",
       "  <th>OpenSourcer_less_than_once_per_year</th>                                                                           <td>   -0.0146</td> <td>    0.009</td> <td>   -1.652</td> <td> 0.099</td> <td>   -0.032</td> <td>    0.003</td>\n",
       "</tr>\n",
       "<tr>\n",
       "  <th>OpenSourcer_once_a_month_moreten</th>                                                                              <td>   -0.0179</td> <td>    0.014</td> <td>   -1.277</td> <td> 0.202</td> <td>   -0.045</td> <td>    0.010</td>\n",
       "</tr>\n",
       "<tr>\n",
       "  <th>OrgSize_100_to_499</th>                                                                                            <td>   -0.1397</td> <td>    0.010</td> <td>  -13.954</td> <td> 0.000</td> <td>   -0.159</td> <td>   -0.120</td>\n",
       "</tr>\n",
       "<tr>\n",
       "  <th>OrgSize_10_to_19</th>                                                                                              <td>   -0.1985</td> <td>    0.015</td> <td>  -13.210</td> <td> 0.000</td> <td>   -0.228</td> <td>   -0.169</td>\n",
       "</tr>\n",
       "<tr>\n",
       "  <th>OrgSize_1_000_to_4_999</th>                                                                                        <td>   -0.0692</td> <td>    0.011</td> <td>   -6.370</td> <td> 0.000</td> <td>   -0.091</td> <td>   -0.048</td>\n",
       "</tr>\n",
       "<tr>\n",
       "  <th>OrgSize_20_to_99</th>                                                                                              <td>   -0.1669</td> <td>    0.011</td> <td>  -15.772</td> <td> 0.000</td> <td>   -0.188</td> <td>   -0.146</td>\n",
       "</tr>\n",
       "<tr>\n",
       "  <th>OrgSize_2_9</th>                                                                                                   <td>   -0.2753</td> <td>    0.016</td> <td>  -17.219</td> <td> 0.000</td> <td>   -0.307</td> <td>   -0.244</td>\n",
       "</tr>\n",
       "<tr>\n",
       "  <th>OrgSize_500_to_999</th>                                                                                            <td>   -0.1005</td> <td>    0.013</td> <td>   -7.586</td> <td> 0.000</td> <td>   -0.126</td> <td>   -0.075</td>\n",
       "</tr>\n",
       "<tr>\n",
       "  <th>OrgSize_5_000_to_9_999</th>                                                                                        <td>   -0.0842</td> <td>    0.015</td> <td>   -5.685</td> <td> 0.000</td> <td>   -0.113</td> <td>   -0.055</td>\n",
       "</tr>\n",
       "<tr>\n",
       "  <th>OrgSize_just_me_i_am_a_freelancer_sole_proprietor</th>                                                             <td>   -0.1993</td> <td>    0.030</td> <td>   -6.639</td> <td> 0.000</td> <td>   -0.258</td> <td>   -0.140</td>\n",
       "</tr>\n",
       "<tr>\n",
       "  <th>OrgSize_no_answer</th>                                                                                             <td>   -0.1758</td> <td>    0.024</td> <td>   -7.219</td> <td> 0.000</td> <td>   -0.224</td> <td>   -0.128</td>\n",
       "</tr>\n",
       "<tr>\n",
       "  <th>PlatformWorkedWith_android</th>                                                                                    <td>   -0.0115</td> <td>    0.013</td> <td>   -0.920</td> <td> 0.357</td> <td>   -0.036</td> <td>    0.013</td>\n",
       "</tr>\n",
       "<tr>\n",
       "  <th>PlatformWorkedWith_arduino</th>                                                                                    <td>   -0.0103</td> <td>    0.014</td> <td>   -0.751</td> <td> 0.453</td> <td>   -0.037</td> <td>    0.017</td>\n",
       "</tr>\n",
       "<tr>\n",
       "  <th>PlatformWorkedWith_aws</th>                                                                                        <td>    0.0271</td> <td>    0.008</td> <td>    3.466</td> <td> 0.001</td> <td>    0.012</td> <td>    0.042</td>\n",
       "</tr>\n",
       "<tr>\n",
       "  <th>PlatformWorkedWith_docker</th>                                                                                     <td>    0.0040</td> <td>    0.008</td> <td>    0.494</td> <td> 0.621</td> <td>   -0.012</td> <td>    0.020</td>\n",
       "</tr>\n",
       "<tr>\n",
       "  <th>PlatformWorkedWith_google_cloud_platform</th>                                                                      <td>    0.0219</td> <td>    0.011</td> <td>    2.060</td> <td> 0.039</td> <td>    0.001</td> <td>    0.043</td>\n",
       "</tr>\n",
       "<tr>\n",
       "  <th>PlatformWorkedWith_heroku</th>                                                                                     <td>    0.0047</td> <td>    0.011</td> <td>    0.420</td> <td> 0.674</td> <td>   -0.017</td> <td>    0.026</td>\n",
       "</tr>\n",
       "<tr>\n",
       "  <th>PlatformWorkedWith_ibm_cloud_watson</th>                                                                           <td>   -0.0268</td> <td>    0.024</td> <td>   -1.102</td> <td> 0.271</td> <td>   -0.074</td> <td>    0.021</td>\n",
       "</tr>\n",
       "<tr>\n",
       "  <th>PlatformWorkedWith_ios</th>                                                                                        <td>    0.0233</td> <td>    0.014</td> <td>    1.618</td> <td> 0.106</td> <td>   -0.005</td> <td>    0.052</td>\n",
       "</tr>\n",
       "<tr>\n",
       "  <th>PlatformWorkedWith_kubernetes</th>                                                                                 <td>    0.0013</td> <td>    0.012</td> <td>    0.110</td> <td> 0.912</td> <td>   -0.021</td> <td>    0.024</td>\n",
       "</tr>\n",
       "<tr>\n",
       "  <th>PlatformWorkedWith_macos</th>                                                                                      <td>    0.0133</td> <td>    0.008</td> <td>    1.576</td> <td> 0.115</td> <td>   -0.003</td> <td>    0.030</td>\n",
       "</tr>\n",
       "<tr>\n",
       "  <th>PlatformWorkedWith_microsoft_azure</th>                                                                            <td>    0.0459</td> <td>    0.010</td> <td>    4.559</td> <td> 0.000</td> <td>    0.026</td> <td>    0.066</td>\n",
       "</tr>\n",
       "<tr>\n",
       "  <th>PlatformWorkedWith_no_answer</th>                                                                                  <td>    0.0137</td> <td>    0.013</td> <td>    1.076</td> <td> 0.282</td> <td>   -0.011</td> <td>    0.039</td>\n",
       "</tr>\n",
       "<tr>\n",
       "  <th>PlatformWorkedWith_other_s__</th>                                                                                  <td>    0.0073</td> <td>    0.016</td> <td>    0.458</td> <td> 0.647</td> <td>   -0.024</td> <td>    0.039</td>\n",
       "</tr>\n",
       "<tr>\n",
       "  <th>PlatformWorkedWith_raspberry_pi</th>                                                                               <td>   -0.0071</td> <td>    0.010</td> <td>   -0.705</td> <td> 0.481</td> <td>   -0.027</td> <td>    0.013</td>\n",
       "</tr>\n",
       "<tr>\n",
       "  <th>PlatformWorkedWith_slack</th>                                                                                      <td>    0.0130</td> <td>    0.009</td> <td>    1.518</td> <td> 0.129</td> <td>   -0.004</td> <td>    0.030</td>\n",
       "</tr>\n",
       "<tr>\n",
       "  <th>PlatformWorkedWith_windows</th>                                                                                    <td>   -0.0121</td> <td>    0.009</td> <td>   -1.423</td> <td> 0.155</td> <td>   -0.029</td> <td>    0.005</td>\n",
       "</tr>\n",
       "<tr>\n",
       "  <th>PlatformWorkedWith_wordpress</th>                                                                                  <td>   -0.0365</td> <td>    0.011</td> <td>   -3.303</td> <td> 0.001</td> <td>   -0.058</td> <td>   -0.015</td>\n",
       "</tr>\n",
       "<tr>\n",
       "  <th>PurchaseHow_developers_typically_have_the_most_influence_on_purchasing_new_technology</th>                         <td>    0.0266</td> <td>    0.009</td> <td>    2.894</td> <td> 0.004</td> <td>    0.009</td> <td>    0.045</td>\n",
       "</tr>\n",
       "<tr>\n",
       "  <th>PurchaseHow_no_answer</th>                                                                                         <td>    0.0112</td> <td>    0.019</td> <td>    0.598</td> <td> 0.550</td> <td>   -0.025</td> <td>    0.048</td>\n",
       "</tr>\n",
       "<tr>\n",
       "  <th>PurchaseHow_not_sure</th>                                                                                          <td>    0.0242</td> <td>    0.009</td> <td>    2.572</td> <td> 0.010</td> <td>    0.006</td> <td>    0.043</td>\n",
       "</tr>\n",
       "<tr>\n",
       "  <th>PurchaseHow_the_cto_cio_other_management_purchase_new_technology_typically_without_the_involvement_developers</th> <td>   -0.0119</td> <td>    0.009</td> <td>   -1.261</td> <td> 0.207</td> <td>   -0.031</td> <td>    0.007</td>\n",
       "</tr>\n",
       "<tr>\n",
       "  <th>PurchaseWhat_i_have_a_great_deal_influence</th>                                                                    <td>    0.0171</td> <td>    0.010</td> <td>    1.731</td> <td> 0.083</td> <td>   -0.002</td> <td>    0.036</td>\n",
       "</tr>\n",
       "<tr>\n",
       "  <th>PurchaseWhat_i_have_little_no_influence</th>                                                                       <td>   -0.0313</td> <td>    0.008</td> <td>   -3.959</td> <td> 0.000</td> <td>   -0.047</td> <td>   -0.016</td>\n",
       "</tr>\n",
       "<tr>\n",
       "  <th>PurchaseWhat_no_answer</th>                                                                                        <td>    0.1077</td> <td>    0.041</td> <td>    2.655</td> <td> 0.008</td> <td>    0.028</td> <td>    0.187</td>\n",
       "</tr>\n",
       "<tr>\n",
       "  <th>Sexuality_bisexual</th>                                                                                            <td>   -0.0263</td> <td>    0.015</td> <td>   -1.721</td> <td> 0.085</td> <td>   -0.056</td> <td>    0.004</td>\n",
       "</tr>\n",
       "<tr>\n",
       "  <th>Sexuality_gay_lesbian</th>                                                                                         <td>    0.0341</td> <td>    0.018</td> <td>    1.862</td> <td> 0.063</td> <td>   -0.002</td> <td>    0.070</td>\n",
       "</tr>\n",
       "<tr>\n",
       "  <th>Sexuality_no_answer</th>                                                                                           <td>   -0.0342</td> <td>    0.015</td> <td>   -2.211</td> <td> 0.027</td> <td>   -0.065</td> <td>   -0.004</td>\n",
       "</tr>\n",
       "<tr>\n",
       "  <th>SocialMedia_facebook</th>                                                                                          <td>   -0.0131</td> <td>    0.010</td> <td>   -1.308</td> <td> 0.191</td> <td>   -0.033</td> <td>    0.007</td>\n",
       "</tr>\n",
       "<tr>\n",
       "  <th>SocialMedia_i_dont_use_social_media</th>                                                                           <td>    0.0012</td> <td>    0.013</td> <td>    0.097</td> <td> 0.923</td> <td>   -0.023</td> <td>    0.026</td>\n",
       "</tr>\n",
       "<tr>\n",
       "  <th>SocialMedia_instagram</th>                                                                                         <td>    0.0273</td> <td>    0.012</td> <td>    2.218</td> <td> 0.027</td> <td>    0.003</td> <td>    0.051</td>\n",
       "</tr>\n",
       "<tr>\n",
       "  <th>SocialMedia_linkedin</th>                                                                                          <td>    0.0209</td> <td>    0.016</td> <td>    1.318</td> <td> 0.187</td> <td>   -0.010</td> <td>    0.052</td>\n",
       "</tr>\n",
       "<tr>\n",
       "  <th>SocialMedia_no_answer</th>                                                                                         <td>   -0.0112</td> <td>    0.018</td> <td>   -0.628</td> <td> 0.530</td> <td>   -0.046</td> <td>    0.024</td>\n",
       "</tr>\n",
       "<tr>\n",
       "  <th>SocialMedia_snapchat</th>                                                                                          <td>   -0.0231</td> <td>    0.032</td> <td>   -0.716</td> <td> 0.474</td> <td>   -0.086</td> <td>    0.040</td>\n",
       "</tr>\n",
       "<tr>\n",
       "  <th>SocialMedia_twitter</th>                                                                                           <td>    0.0107</td> <td>    0.010</td> <td>    1.118</td> <td> 0.264</td> <td>   -0.008</td> <td>    0.029</td>\n",
       "</tr>\n",
       "<tr>\n",
       "  <th>SocialMedia_vk_вконта́кте</th>                                                                                     <td>   -0.3131</td> <td>    0.155</td> <td>   -2.026</td> <td> 0.043</td> <td>   -0.616</td> <td>   -0.010</td>\n",
       "</tr>\n",
       "<tr>\n",
       "  <th>SocialMedia_wechat_微信</th>                                                                                         <td>    0.0463</td> <td>    0.068</td> <td>    0.676</td> <td> 0.499</td> <td>   -0.088</td> <td>    0.181</td>\n",
       "</tr>\n",
       "<tr>\n",
       "  <th>SocialMedia_whatsapp</th>                                                                                          <td>   -0.0133</td> <td>    0.021</td> <td>   -0.645</td> <td> 0.519</td> <td>   -0.054</td> <td>    0.027</td>\n",
       "</tr>\n",
       "<tr>\n",
       "  <th>SocialMedia_youtube</th>                                                                                           <td>   -0.0145</td> <td>    0.011</td> <td>   -1.294</td> <td> 0.196</td> <td>   -0.036</td> <td>    0.007</td>\n",
       "</tr>\n",
       "<tr>\n",
       "  <th>Trans_no_answer</th>                                                                                               <td>    0.0183</td> <td>    0.030</td> <td>    0.615</td> <td> 0.539</td> <td>   -0.040</td> <td>    0.076</td>\n",
       "</tr>\n",
       "<tr>\n",
       "  <th>Trans_yes</th>                                                                                                     <td>    0.0114</td> <td>    0.034</td> <td>    0.338</td> <td> 0.735</td> <td>   -0.055</td> <td>    0.077</td>\n",
       "</tr>\n",
       "<tr>\n",
       "  <th>UndergradMajor_a_business_discipline_ex_accounting_finance_marketing_</th>                                         <td>    0.0058</td> <td>    0.018</td> <td>    0.326</td> <td> 0.745</td> <td>   -0.029</td> <td>    0.041</td>\n",
       "</tr>\n",
       "<tr>\n",
       "  <th>UndergradMajor_a_health_science_ex_nursing_pharmacy_radiology_</th>                                                <td>   -0.0588</td> <td>    0.060</td> <td>   -0.982</td> <td> 0.326</td> <td>   -0.176</td> <td>    0.059</td>\n",
       "</tr>\n",
       "<tr>\n",
       "  <th>UndergradMajor_a_humanities_discipline_ex_literature_history_philosophy_</th>                                      <td>   -0.0283</td> <td>    0.017</td> <td>   -1.700</td> <td> 0.089</td> <td>   -0.061</td> <td>    0.004</td>\n",
       "</tr>\n",
       "<tr>\n",
       "  <th>UndergradMajor_a_natural_science_ex_biology_chemistry_physics_</th>                                                <td>   -0.0197</td> <td>    0.015</td> <td>   -1.280</td> <td> 0.200</td> <td>   -0.050</td> <td>    0.010</td>\n",
       "</tr>\n",
       "<tr>\n",
       "  <th>UndergradMajor_a_social_science_ex_anthropology_psychology_political_science_</th>                                 <td>   -0.0001</td> <td>    0.017</td> <td>   -0.008</td> <td> 0.994</td> <td>   -0.033</td> <td>    0.033</td>\n",
       "</tr>\n",
       "<tr>\n",
       "  <th>UndergradMajor_another_engineering_discipline_ex_civil_electrical_mechanical_</th>                                 <td>    0.0076</td> <td>    0.013</td> <td>    0.584</td> <td> 0.559</td> <td>   -0.018</td> <td>    0.033</td>\n",
       "</tr>\n",
       "<tr>\n",
       "  <th>UndergradMajor_fine_arts_performing_arts_ex_graphic_design_music_studio_art_</th>                                  <td>   -0.0383</td> <td>    0.017</td> <td>   -2.271</td> <td> 0.023</td> <td>   -0.071</td> <td>   -0.005</td>\n",
       "</tr>\n",
       "<tr>\n",
       "  <th>UndergradMajor_i_never_declared_a_major</th>                                                                       <td>   -0.0548</td> <td>    0.025</td> <td>   -2.222</td> <td> 0.026</td> <td>   -0.103</td> <td>   -0.006</td>\n",
       "</tr>\n",
       "<tr>\n",
       "  <th>UndergradMajor_information_systems_information_technology_system_administration</th>                               <td>   -0.0459</td> <td>    0.013</td> <td>   -3.505</td> <td> 0.000</td> <td>   -0.072</td> <td>   -0.020</td>\n",
       "</tr>\n",
       "<tr>\n",
       "  <th>UndergradMajor_mathematics_statistics</th>                                                                         <td>    0.0142</td> <td>    0.016</td> <td>    0.867</td> <td> 0.386</td> <td>   -0.018</td> <td>    0.046</td>\n",
       "</tr>\n",
       "<tr>\n",
       "  <th>UndergradMajor_no_answer</th>                                                                                      <td>   -0.0678</td> <td>    0.019</td> <td>   -3.522</td> <td> 0.000</td> <td>   -0.106</td> <td>   -0.030</td>\n",
       "</tr>\n",
       "<tr>\n",
       "  <th>UndergradMajor_web_development_web_design</th>                                                                     <td>   -0.0891</td> <td>    0.020</td> <td>   -4.359</td> <td> 0.000</td> <td>   -0.129</td> <td>   -0.049</td>\n",
       "</tr>\n",
       "<tr>\n",
       "  <th>UnitTests_no_and_im_glad_we_dont</th>                                                                              <td>   -0.0893</td> <td>    0.017</td> <td>   -5.371</td> <td> 0.000</td> <td>   -0.122</td> <td>   -0.057</td>\n",
       "</tr>\n",
       "<tr>\n",
       "  <th>UnitTests_no_answer</th>                                                                                           <td>   -0.1706</td> <td>    0.037</td> <td>   -4.576</td> <td> 0.000</td> <td>   -0.244</td> <td>   -0.098</td>\n",
       "</tr>\n",
       "<tr>\n",
       "  <th>UnitTests_no_but_i_think_we_should</th>                                                                            <td>   -0.0940</td> <td>    0.008</td> <td>  -11.164</td> <td> 0.000</td> <td>   -0.111</td> <td>   -0.077</td>\n",
       "</tr>\n",
       "<tr>\n",
       "  <th>UnitTests_yes_its_not_part_our_process_but_the_developers_do_it_on_their_own</th>                                  <td>   -0.0475</td> <td>    0.008</td> <td>   -5.593</td> <td> 0.000</td> <td>   -0.064</td> <td>   -0.031</td>\n",
       "</tr>\n",
       "<tr>\n",
       "  <th>WebFrameWorkedWith_angular_angularjs</th>                                                                          <td>   -0.0083</td> <td>    0.008</td> <td>   -0.971</td> <td> 0.331</td> <td>   -0.025</td> <td>    0.008</td>\n",
       "</tr>\n",
       "<tr>\n",
       "  <th>WebFrameWorkedWith_aspnet</th>                                                                                     <td>    0.0186</td> <td>    0.013</td> <td>    1.480</td> <td> 0.139</td> <td>   -0.006</td> <td>    0.043</td>\n",
       "</tr>\n",
       "<tr>\n",
       "  <th>WebFrameWorkedWith_django</th>                                                                                     <td>   -0.0332</td> <td>    0.012</td> <td>   -2.687</td> <td> 0.007</td> <td>   -0.057</td> <td>   -0.009</td>\n",
       "</tr>\n",
       "<tr>\n",
       "  <th>WebFrameWorkedWith_drupal</th>                                                                                     <td>   -0.0502</td> <td>    0.021</td> <td>   -2.396</td> <td> 0.017</td> <td>   -0.091</td> <td>   -0.009</td>\n",
       "</tr>\n",
       "<tr>\n",
       "  <th>WebFrameWorkedWith_express</th>                                                                                    <td>   -0.0057</td> <td>    0.010</td> <td>   -0.571</td> <td> 0.568</td> <td>   -0.025</td> <td>    0.014</td>\n",
       "</tr>\n",
       "<tr>\n",
       "  <th>WebFrameWorkedWith_flask</th>                                                                                      <td>    0.0067</td> <td>    0.012</td> <td>    0.552</td> <td> 0.581</td> <td>   -0.017</td> <td>    0.030</td>\n",
       "</tr>\n",
       "<tr>\n",
       "  <th>WebFrameWorkedWith_laravel</th>                                                                                    <td>   -0.0213</td> <td>    0.018</td> <td>   -1.217</td> <td> 0.224</td> <td>   -0.056</td> <td>    0.013</td>\n",
       "</tr>\n",
       "<tr>\n",
       "  <th>WebFrameWorkedWith_no_answer</th>                                                                                  <td>    0.0289</td> <td>    0.011</td> <td>    2.659</td> <td> 0.008</td> <td>    0.008</td> <td>    0.050</td>\n",
       "</tr>\n",
       "<tr>\n",
       "  <th>WebFrameWorkedWith_other_s__</th>                                                                                  <td>    0.0185</td> <td>    0.013</td> <td>    1.453</td> <td> 0.146</td> <td>   -0.006</td> <td>    0.043</td>\n",
       "</tr>\n",
       "<tr>\n",
       "  <th>WebFrameWorkedWith_reactjs</th>                                                                                    <td>    0.0341</td> <td>    0.008</td> <td>    4.121</td> <td> 0.000</td> <td>    0.018</td> <td>    0.050</td>\n",
       "</tr>\n",
       "<tr>\n",
       "  <th>WebFrameWorkedWith_ruby_on_rails</th>                                                                              <td>   -0.0044</td> <td>    0.016</td> <td>   -0.269</td> <td> 0.788</td> <td>   -0.037</td> <td>    0.028</td>\n",
       "</tr>\n",
       "<tr>\n",
       "  <th>WebFrameWorkedWith_spring</th>                                                                                     <td>   -0.0134</td> <td>    0.013</td> <td>   -1.068</td> <td> 0.286</td> <td>   -0.038</td> <td>    0.011</td>\n",
       "</tr>\n",
       "<tr>\n",
       "  <th>WebFrameWorkedWith_vuejs</th>                                                                                      <td>   -0.0222</td> <td>    0.010</td> <td>   -2.138</td> <td> 0.033</td> <td>   -0.042</td> <td>   -0.002</td>\n",
       "</tr>\n",
       "<tr>\n",
       "  <th>WorkPlan__i_work_on_what_seems_most_important_urgent</th>                                                          <td>   -0.0015</td> <td>    0.004</td> <td>   -0.402</td> <td> 0.688</td> <td>   -0.009</td> <td>    0.006</td>\n",
       "</tr>\n",
       "<tr>\n",
       "  <th>WorkPlan_no_answer</th>                                                                                            <td>   -0.0157</td> <td>    0.022</td> <td>   -0.698</td> <td> 0.485</td> <td>   -0.060</td> <td>    0.028</td>\n",
       "</tr>\n",
       "<tr>\n",
       "  <th>WorkPlan_there_is_a_schedule_and_spec_made_by_me_by_a_colleague_and_i_follow_it_very_closely</th>                  <td>   -0.0283</td> <td>    0.009</td> <td>   -3.258</td> <td> 0.001</td> <td>   -0.045</td> <td>   -0.011</td>\n",
       "</tr>\n",
       "<tr>\n",
       "  <th>WorkPlan_theres_no_schedule_spec</th>                                                                              <td>   -0.0015</td> <td>    0.004</td> <td>   -0.402</td> <td> 0.688</td> <td>   -0.009</td> <td>    0.006</td>\n",
       "</tr>\n",
       "<tr>\n",
       "  <th>WorkRemote_a_few_days_each_month</th>                                                                              <td>    0.0484</td> <td>    0.008</td> <td>    6.152</td> <td> 0.000</td> <td>    0.033</td> <td>    0.064</td>\n",
       "</tr>\n",
       "<tr>\n",
       "  <th>WorkRemote_about_half_the_time</th>                                                                                <td>    0.0795</td> <td>    0.020</td> <td>    4.065</td> <td> 0.000</td> <td>    0.041</td> <td>    0.118</td>\n",
       "</tr>\n",
       "<tr>\n",
       "  <th>WorkRemote_all_almost_all_the_time_im_full_time_remote_</th>                                                       <td>    0.0908</td> <td>    0.011</td> <td>    8.268</td> <td> 0.000</td> <td>    0.069</td> <td>    0.112</td>\n",
       "</tr>\n",
       "<tr>\n",
       "  <th>WorkRemote_its_complicated</th>                                                                                    <td>    0.0220</td> <td>    0.019</td> <td>    1.150</td> <td> 0.250</td> <td>   -0.016</td> <td>    0.060</td>\n",
       "</tr>\n",
       "<tr>\n",
       "  <th>WorkRemote_less_than_half_the_time_but_at_least_one_day_each_week</th>                                             <td>    0.0564</td> <td>    0.010</td> <td>    5.391</td> <td> 0.000</td> <td>    0.036</td> <td>    0.077</td>\n",
       "</tr>\n",
       "<tr>\n",
       "  <th>WorkRemote_more_than_half_but_not_all_the_time</th>                                                                <td>    0.0818</td> <td>    0.018</td> <td>    4.501</td> <td> 0.000</td> <td>    0.046</td> <td>    0.117</td>\n",
       "</tr>\n",
       "<tr>\n",
       "  <th>WorkRemote_no_answer</th>                                                                                          <td>    0.2647</td> <td>    0.145</td> <td>    1.831</td> <td> 0.067</td> <td>   -0.019</td> <td>    0.548</td>\n",
       "</tr>\n",
       "<tr>\n",
       "  <th>WorkWeekHrs_00_10</th>                                                                                             <td>   -0.2155</td> <td>    0.058</td> <td>   -3.700</td> <td> 0.000</td> <td>   -0.330</td> <td>   -0.101</td>\n",
       "</tr>\n",
       "<tr>\n",
       "  <th>WorkWeekHrs_11_20</th>                                                                                             <td>   -0.2847</td> <td>    0.041</td> <td>   -6.928</td> <td> 0.000</td> <td>   -0.365</td> <td>   -0.204</td>\n",
       "</tr>\n",
       "<tr>\n",
       "  <th>WorkWeekHrs_21_30</th>                                                                                             <td>   -0.0927</td> <td>    0.023</td> <td>   -4.023</td> <td> 0.000</td> <td>   -0.138</td> <td>   -0.048</td>\n",
       "</tr>\n",
       "<tr>\n",
       "  <th>WorkWeekHrs_41_50</th>                                                                                             <td>    0.0379</td> <td>    0.007</td> <td>    5.351</td> <td> 0.000</td> <td>    0.024</td> <td>    0.052</td>\n",
       "</tr>\n",
       "<tr>\n",
       "  <th>WorkWeekHrs_51_60</th>                                                                                             <td>    0.0783</td> <td>    0.016</td> <td>    4.746</td> <td> 0.000</td> <td>    0.046</td> <td>    0.111</td>\n",
       "</tr>\n",
       "<tr>\n",
       "  <th>WorkWeekHrs_61_70</th>                                                                                             <td>    0.0244</td> <td>    0.038</td> <td>    0.646</td> <td> 0.519</td> <td>   -0.050</td> <td>    0.098</td>\n",
       "</tr>\n",
       "<tr>\n",
       "  <th>WorkWeekHrs_71_80</th>                                                                                             <td>    0.0485</td> <td>    0.051</td> <td>    0.944</td> <td> 0.345</td> <td>   -0.052</td> <td>    0.149</td>\n",
       "</tr>\n",
       "<tr>\n",
       "  <th>WorkWeekHrs_81_</th>                                                                                               <td>   -0.0046</td> <td>    0.083</td> <td>   -0.055</td> <td> 0.956</td> <td>   -0.168</td> <td>    0.159</td>\n",
       "</tr>\n",
       "<tr>\n",
       "  <th>YearsCodePro_06_10</th>                                                                                            <td>    0.1300</td> <td>    0.010</td> <td>   12.917</td> <td> 0.000</td> <td>    0.110</td> <td>    0.150</td>\n",
       "</tr>\n",
       "<tr>\n",
       "  <th>YearsCodePro_11_15</th>                                                                                            <td>    0.2220</td> <td>    0.014</td> <td>   15.457</td> <td> 0.000</td> <td>    0.194</td> <td>    0.250</td>\n",
       "</tr>\n",
       "<tr>\n",
       "  <th>YearsCodePro_16_20</th>                                                                                            <td>    0.2785</td> <td>    0.018</td> <td>   15.727</td> <td> 0.000</td> <td>    0.244</td> <td>    0.313</td>\n",
       "</tr>\n",
       "<tr>\n",
       "  <th>YearsCodePro_21_25</th>                                                                                            <td>    0.3075</td> <td>    0.022</td> <td>   13.717</td> <td> 0.000</td> <td>    0.264</td> <td>    0.351</td>\n",
       "</tr>\n",
       "<tr>\n",
       "  <th>YearsCodePro_26_30</th>                                                                                            <td>    0.3658</td> <td>    0.029</td> <td>   12.428</td> <td> 0.000</td> <td>    0.308</td> <td>    0.424</td>\n",
       "</tr>\n",
       "<tr>\n",
       "  <th>YearsCodePro_31_35</th>                                                                                            <td>    0.4023</td> <td>    0.035</td> <td>   11.397</td> <td> 0.000</td> <td>    0.333</td> <td>    0.472</td>\n",
       "</tr>\n",
       "<tr>\n",
       "  <th>YearsCodePro_35_40</th>                                                                                            <td>    0.4194</td> <td>    0.047</td> <td>    9.015</td> <td> 0.000</td> <td>    0.328</td> <td>    0.511</td>\n",
       "</tr>\n",
       "<tr>\n",
       "  <th>YearsCodePro_41_</th>                                                                                              <td>    0.3873</td> <td>    0.069</td> <td>    5.591</td> <td> 0.000</td> <td>    0.252</td> <td>    0.523</td>\n",
       "</tr>\n",
       "<tr>\n",
       "  <th>YearsCodePro_no_answer</th>                                                                                        <td>   -0.1256</td> <td>    0.016</td> <td>   -7.615</td> <td> 0.000</td> <td>   -0.158</td> <td>   -0.093</td>\n",
       "</tr>\n",
       "<tr>\n",
       "  <th>YearsCode_00_05</th>                                                                                               <td>   -0.0683</td> <td>    0.011</td> <td>   -6.399</td> <td> 0.000</td> <td>   -0.089</td> <td>   -0.047</td>\n",
       "</tr>\n",
       "<tr>\n",
       "  <th>YearsCode_11_15</th>                                                                                               <td>    0.0169</td> <td>    0.010</td> <td>    1.643</td> <td> 0.100</td> <td>   -0.003</td> <td>    0.037</td>\n",
       "</tr>\n",
       "<tr>\n",
       "  <th>YearsCode_16_20</th>                                                                                               <td>    0.0030</td> <td>    0.013</td> <td>    0.233</td> <td> 0.816</td> <td>   -0.022</td> <td>    0.028</td>\n",
       "</tr>\n",
       "<tr>\n",
       "  <th>YearsCode_21_25</th>                                                                                               <td>    0.0063</td> <td>    0.016</td> <td>    0.382</td> <td> 0.703</td> <td>   -0.026</td> <td>    0.039</td>\n",
       "</tr>\n",
       "<tr>\n",
       "  <th>YearsCode_26_30</th>                                                                                               <td>    0.0155</td> <td>    0.020</td> <td>    0.779</td> <td> 0.436</td> <td>   -0.024</td> <td>    0.055</td>\n",
       "</tr>\n",
       "<tr>\n",
       "  <th>YearsCode_31_35</th>                                                                                               <td>   -0.0123</td> <td>    0.024</td> <td>   -0.522</td> <td> 0.602</td> <td>   -0.059</td> <td>    0.034</td>\n",
       "</tr>\n",
       "<tr>\n",
       "  <th>YearsCode_35_40</th>                                                                                               <td>   -0.0262</td> <td>    0.027</td> <td>   -0.961</td> <td> 0.336</td> <td>   -0.080</td> <td>    0.027</td>\n",
       "</tr>\n",
       "<tr>\n",
       "  <th>YearsCode_41_</th>                                                                                                 <td>   -0.0274</td> <td>    0.041</td> <td>   -0.660</td> <td> 0.509</td> <td>   -0.109</td> <td>    0.054</td>\n",
       "</tr>\n",
       "<tr>\n",
       "  <th>YearsCode_no_answer</th>                                                                                           <td>   -0.0657</td> <td>    0.055</td> <td>   -1.197</td> <td> 0.231</td> <td>   -0.173</td> <td>    0.042</td>\n",
       "</tr>\n",
       "<tr>\n",
       "  <th>const</th>                                                                                                         <td>   11.4797</td> <td>    0.027</td> <td>  429.346</td> <td> 0.000</td> <td>   11.427</td> <td>   11.532</td>\n",
       "</tr>\n",
       "</table>\n",
       "<table class=\"simpletable\">\n",
       "<tr>\n",
       "  <th>Omnibus:</th>       <td>2112.407</td> <th>  Durbin-Watson:     </th> <td>   1.999</td> \n",
       "</tr>\n",
       "<tr>\n",
       "  <th>Prob(Omnibus):</th>  <td> 0.000</td>  <th>  Jarque-Bera (JB):  </th> <td>14209.808</td>\n",
       "</tr>\n",
       "<tr>\n",
       "  <th>Skew:</th>           <td>-0.811</td>  <th>  Prob(JB):          </th> <td>    0.00</td> \n",
       "</tr>\n",
       "<tr>\n",
       "  <th>Kurtosis:</th>       <td> 8.505</td>  <th>  Cond. No.          </th> <td>1.13e+16</td> \n",
       "</tr>\n",
       "</table><br/><br/>Warnings:<br/>[1] Standard Errors assume that the covariance matrix of the errors is correctly specified.<br/>[2] The smallest eigenvalue is 8.06e-28. This might indicate that there are<br/>strong multicollinearity problems or that the design matrix is singular."
      ],
      "text/plain": [
       "<class 'statsmodels.iolib.summary.Summary'>\n",
       "\"\"\"\n",
       "                            OLS Regression Results                            \n",
       "==============================================================================\n",
       "Dep. Variable:                      y   R-squared:                       0.503\n",
       "Model:                            OLS   Adj. R-squared:                  0.488\n",
       "Method:                 Least Squares   F-statistic:                     33.63\n",
       "Date:                Wed, 05 Feb 2020   Prob (F-statistic):               0.00\n",
       "Time:                        18:30:23   Log-Likelihood:                -2189.5\n",
       "No. Observations:               10355   AIC:                             4985.\n",
       "Df Residuals:                   10052   BIC:                             7180.\n",
       "Df Model:                         302                                         \n",
       "Covariance Type:            nonrobust                                         \n",
       "=================================================================================================================================================================================\n",
       "                                                                                                                    coef    std err          t      P>|t|      [0.025      0.975]\n",
       "---------------------------------------------------------------------------------------------------------------------------------------------------------------------------------\n",
       "Age_21_25                                                                                                        -0.1091      0.010    -10.589      0.000      -0.129      -0.089\n",
       "Age_31_35                                                                                                         0.0458      0.010      4.712      0.000       0.027       0.065\n",
       "Age_35_40                                                                                                         0.0259      0.012      2.104      0.035       0.002       0.050\n",
       "Age_41_45                                                                                                         0.0319      0.016      1.938      0.053      -0.000       0.064\n",
       "Age_45_50                                                                                                         0.0214      0.020      1.064      0.287      -0.018       0.061\n",
       "Age_51_55                                                                                                        -0.0244      0.025     -0.996      0.319      -0.072       0.024\n",
       "Age_55_60                                                                                                        -0.0177      0.030     -0.586      0.558      -0.077       0.041\n",
       "Age_61_65                                                                                                        -0.0446      0.040     -1.110      0.267      -0.123       0.034\n",
       "Age_66_                                                                                                          -0.0234      0.068     -0.342      0.732      -0.157       0.111\n",
       "CodeRevHrs_02_04                                                                                                  0.0002      0.009      0.025      0.980      -0.017       0.018\n",
       "CodeRevHrs_04_06                                                                                                  0.0150      0.009      1.592      0.111      -0.003       0.033\n",
       "CodeRevHrs_06_08                                                                                                  0.0292      0.016      1.847      0.065      -0.002       0.060\n",
       "CodeRevHrs_08_10                                                                                                  0.0047      0.016      0.295      0.768      -0.027       0.036\n",
       "CodeRevHrs_11_15                                                                                                 -0.0136      0.024     -0.563      0.573      -0.061       0.034\n",
       "CodeRevHrs_16_20                                                                                                 -0.0590      0.042     -1.410      0.159      -0.141       0.023\n",
       "CodeRevHrs_21_                                                                                                   -0.0800      0.061     -1.313      0.189      -0.200       0.039\n",
       "CodeRevHrs_no_answer                                                                                             -0.0566      0.009     -6.270      0.000      -0.074      -0.039\n",
       "CurrencyDesc_european_euro                                                                                        0.0239      0.108      0.221      0.825      -0.188       0.236\n",
       "CurrencyDesc_indian_rupee                                                                                        -1.2320      0.154     -7.984      0.000      -1.534      -0.930\n",
       "CurrencyDesc_swedish_krona                                                                                       -0.4346      0.154     -2.830      0.005      -0.736      -0.134\n",
       "CurrencySymbol_eur                                                                                                0.0239      0.108      0.221      0.825      -0.188       0.236\n",
       "CurrencySymbol_inr                                                                                               -1.2320      0.154     -7.984      0.000      -1.534      -0.930\n",
       "CurrencySymbol_sek                                                                                               -0.4346      0.154     -2.830      0.005      -0.736      -0.134\n",
       "DatabaseWorkedWith_cassandra                                                                                      0.0196      0.018      1.073      0.283      -0.016       0.055\n",
       "DatabaseWorkedWith_couchbase                                                                                      0.0088      0.022      0.401      0.688      -0.034       0.052\n",
       "DatabaseWorkedWith_dynamodb                                                                                       0.0425      0.012      3.652      0.000       0.020       0.065\n",
       "DatabaseWorkedWith_elasticsearch                                                                                  0.0034      0.009      0.360      0.719      -0.015       0.022\n",
       "DatabaseWorkedWith_firebase                                                                                      -0.0091      0.012     -0.732      0.464      -0.033       0.015\n",
       "DatabaseWorkedWith_mariadb                                                                                       -0.0481      0.011     -4.246      0.000      -0.070      -0.026\n",
       "DatabaseWorkedWith_microsoft_sql_server                                                                          -0.0102      0.009     -1.082      0.279      -0.029       0.008\n",
       "DatabaseWorkedWith_mongodb                                                                                        0.0049      0.009      0.569      0.570      -0.012       0.022\n",
       "DatabaseWorkedWith_no_answer                                                                                      0.0076      0.012      0.627      0.531      -0.016       0.031\n",
       "DatabaseWorkedWith_oracle                                                                                        -0.0156      0.010     -1.509      0.131      -0.036       0.005\n",
       "DatabaseWorkedWith_other_s__                                                                                      0.0354      0.012      2.998      0.003       0.012       0.059\n",
       "DatabaseWorkedWith_postgresql                                                                                     0.0065      0.008      0.823      0.411      -0.009       0.022\n",
       "DatabaseWorkedWith_redis                                                                                          0.0453      0.009      5.136      0.000       0.028       0.063\n",
       "DatabaseWorkedWith_sqlite                                                                                         0.0071      0.008      0.878      0.380      -0.009       0.023\n",
       "Dependents_no_answer                                                                                             -0.0132      0.033     -0.402      0.687      -0.077       0.051\n",
       "Dependents_yes                                                                                                    0.0149      0.007      2.050      0.040       0.001       0.029\n",
       "DevEnviron_android_studio                                                                                         0.0004      0.015      0.030      0.976      -0.028       0.029\n",
       "DevEnviron_atom                                                                                                  -0.0236      0.010     -2.457      0.014      -0.042      -0.005\n",
       "DevEnviron_coda                                                                                                  -0.0154      0.039     -0.391      0.695      -0.093       0.062\n",
       "DevEnviron_eclipse                                                                                               -0.0192      0.012     -1.615      0.106      -0.042       0.004\n",
       "DevEnviron_emacs                                                                                                 -0.0152      0.014     -1.079      0.281      -0.043       0.012\n",
       "DevEnviron_intellij                                                                                               0.0197      0.009      2.102      0.036       0.001       0.038\n",
       "DevEnviron_ipython_jupyter                                                                                       -0.0064      0.014     -0.468      0.640      -0.033       0.020\n",
       "DevEnviron_komodo                                                                                                 0.0112      0.073      0.152      0.879      -0.133       0.155\n",
       "DevEnviron_light_table                                                                                           -0.0746      0.155     -0.482      0.630      -0.378       0.229\n",
       "DevEnviron_netbeans                                                                                               0.0056      0.023      0.239      0.811      -0.040       0.051\n",
       "DevEnviron_no_answer                                                                                             -0.1119      0.035     -3.155      0.002      -0.181      -0.042\n",
       "DevEnviron_notepadpp                                                                                             -0.0312      0.008     -3.787      0.000      -0.047      -0.015\n",
       "DevEnviron_phpstorm                                                                                              -0.0135      0.017     -0.785      0.432      -0.047       0.020\n",
       "DevEnviron_pycharm                                                                                               -0.0082      0.011     -0.722      0.470      -0.031       0.014\n",
       "DevEnviron_rstudio                                                                                               -0.0454      0.023     -1.973      0.049      -0.090      -0.000\n",
       "DevEnviron_rubymine                                                                                               0.0206      0.024      0.854      0.393      -0.027       0.068\n",
       "DevEnviron_sublime_text                                                                                           0.0041      0.008      0.523      0.601      -0.011       0.019\n",
       "DevEnviron_textmate                                                                                              -0.0233      0.031     -0.743      0.458      -0.085       0.038\n",
       "DevEnviron_vim                                                                                                    0.0076      0.008      1.014      0.311      -0.007       0.022\n",
       "DevEnviron_visual_studio                                                                                          0.0210      0.012      1.737      0.082      -0.003       0.045\n",
       "DevEnviron_xcode                                                                                                 -0.0131      0.016     -0.831      0.406      -0.044       0.018\n",
       "DevEnviron_zend                                                                                                   0.1392      0.094      1.485      0.137      -0.044       0.323\n",
       "DevType_academic_researcher                                                                                      -0.0902      0.021     -4.326      0.000      -0.131      -0.049\n",
       "DevType_back_end                                                                                                  0.0118      0.007      1.603      0.109      -0.003       0.026\n",
       "DevType_data_business_analyst                                                                                     0.0071      0.013      0.555      0.579      -0.018       0.032\n",
       "DevType_data_scientist_machine_learning_specialist                                                                0.0255      0.015      1.682      0.093      -0.004       0.055\n",
       "DevType_database_administrator                                                                                   -0.0150      0.011     -1.338      0.181      -0.037       0.007\n",
       "DevType_designer                                                                                                 -0.0481      0.011     -4.314      0.000      -0.070      -0.026\n",
       "DevType_desktop_enterprise_applications                                                                          -0.0057      0.009     -0.649      0.516      -0.023       0.011\n",
       "DevType_devops_specialist                                                                                        -0.0047      0.010     -0.455      0.649      -0.025       0.016\n",
       "DevType_educator                                                                                                 -0.0729      0.018     -4.127      0.000      -0.108      -0.038\n",
       "DevType_embedded_applications_devices                                                                            -0.0095      0.013     -0.749      0.454      -0.034       0.015\n",
       "DevType_engineer_data                                                                                             0.0014      0.012      0.109      0.913      -0.023       0.026\n",
       "DevType_engineer_site_reliability                                                                                 0.0367      0.016      2.333      0.020       0.006       0.068\n",
       "DevType_engineering_manager                                                                                       0.0753      0.013      5.846      0.000       0.050       0.101\n",
       "DevType_front_end                                                                                                -0.0288      0.008     -3.530      0.000      -0.045      -0.013\n",
       "DevType_game_graphics                                                                                            -0.0591      0.018     -3.219      0.001      -0.095      -0.023\n",
       "DevType_marketing_sales_professional                                                                             -0.0071      0.033     -0.213      0.831      -0.072       0.058\n",
       "DevType_mobile                                                                                                    0.0068      0.012      0.562      0.574      -0.017       0.031\n",
       "DevType_no_answer                                                                                                 0.0522      0.027      1.949      0.051      -0.000       0.105\n",
       "DevType_product_manager                                                                                           0.0365      0.017      2.211      0.027       0.004       0.069\n",
       "DevType_qa_test                                                                                                  -0.0431      0.011     -3.763      0.000      -0.066      -0.021\n",
       "DevType_scientist                                                                                                -0.0315      0.021     -1.484      0.138      -0.073       0.010\n",
       "DevType_senior_executive_vp                                                                                       0.0894      0.021      4.259      0.000       0.048       0.131\n",
       "DevType_system_administrator                                                                                     -0.0503      0.012     -4.205      0.000      -0.074      -0.027\n",
       "EdLevel_associate_degree                                                                                         -0.0643      0.016     -4.056      0.000      -0.095      -0.033\n",
       "EdLevel_masters_degree_ma_ms_meng_mba_                                                                            0.0406      0.009      4.618      0.000       0.023       0.058\n",
       "EdLevel_no_answer                                                                                                 0.0668      0.045      1.494      0.135      -0.021       0.154\n",
       "EdLevel_other_doctoral_degree_phd_edd_                                                                            0.0769      0.022      3.541      0.000       0.034       0.119\n",
       "EdLevel_primary_elementary_school                                                                                 0.0008      0.060      0.014      0.989      -0.117       0.119\n",
       "EdLevel_professional_degree_jd_md_                                                                               -0.1682      0.046     -3.620      0.000      -0.259      -0.077\n",
       "EdLevel_secondary_school_eg_american_high_school_german_realschule_gymnasium_                                    -0.0172      0.030     -0.575      0.565      -0.076       0.041\n",
       "EdLevel_some_college_university_study_without_earning_a_degree                                                   -0.0346      0.011     -3.237      0.001      -0.055      -0.014\n",
       "EduOther_a_full_time_training_program_bootcamp                                                                    0.0006      0.009      0.068      0.946      -0.018       0.019\n",
       "EduOther_a_hackathon                                                                                              0.0380      0.007      5.263      0.000       0.024       0.052\n",
       "EduOther_a_part_time_in_person_course_in_programming_software_development                                        -0.0018      0.009     -0.204      0.838      -0.019       0.015\n",
       "EduOther_an_online_course_in_programming_software_development_eg_a_mooc_                                         -0.0107      0.007     -1.621      0.105      -0.024       0.002\n",
       "EduOther_completed_an_industry_certification_program_eg_mcpd_                                                     0.0043      0.009      0.504      0.615      -0.013       0.021\n",
       "EduOther_contributed_to_open_source_software                                                                      0.0204      0.009      2.266      0.023       0.003       0.038\n",
       "EduOther_no_answer                                                                                                0.0705      0.027      2.585      0.010       0.017       0.124\n",
       "EduOther_online_coding_competitions_eg_hackerrank_codechef_topcoder_                                              0.0226      0.007      3.009      0.003       0.008       0.037\n",
       "EduOther_received_on_the_job_training_in_software_development                                                    -0.0034      0.006     -0.532      0.595      -0.016       0.009\n",
       "Employment_independent_contractor_freelancer_self_employed                                                        0.0440      0.047      0.937      0.349      -0.048       0.136\n",
       "Employment_no_answer                                                                                             -0.2719      0.115     -2.374      0.018      -0.496      -0.047\n",
       "Employment_part_time                                                                                             -0.4433      0.050     -8.787      0.000      -0.542      -0.344\n",
       "Ethnicity_biracial                                                                                                0.0908      0.052      1.742      0.082      -0.011       0.193\n",
       "Ethnicity_black                                                                                                  -0.0047      0.024     -0.194      0.847      -0.053       0.043\n",
       "Ethnicity_east_asian                                                                                              0.1400      0.019      7.219      0.000       0.102       0.178\n",
       "Ethnicity_hispanic_latino_latina                                                                                  0.0361      0.018      1.993      0.046       0.001       0.072\n",
       "Ethnicity_middle_eastern                                                                                          0.1004      0.037      2.692      0.007       0.027       0.174\n",
       "Ethnicity_multiracial                                                                                            -0.0047      0.041     -0.116      0.908      -0.085       0.076\n",
       "Ethnicity_native_american_pacific_islander_indigenous_australian                                                 -0.0264      0.063     -0.420      0.674      -0.150       0.097\n",
       "Ethnicity_no_answer                                                                                               0.0037      0.017      0.223      0.824      -0.029       0.037\n",
       "Ethnicity_south_asian                                                                                             0.0735      0.018      4.137      0.000       0.039       0.108\n",
       "Extraversion_neither                                                                                             -0.0176      0.011     -1.599      0.110      -0.039       0.004\n",
       "Extraversion_no_answer                                                                                            0.1393      0.038      3.678      0.000       0.065       0.214\n",
       "Extraversion_online                                                                                              -0.0147      0.007     -2.070      0.039      -0.029      -0.001\n",
       "FizzBuzz_no_answer                                                                                               -0.1541      0.053     -2.905      0.004      -0.258      -0.050\n",
       "FizzBuzz_yes                                                                                                      0.0166      0.007      2.215      0.027       0.002       0.031\n",
       "Gender_no_answer                                                                                                  0.0529      0.034      1.558      0.119      -0.014       0.119\n",
       "Gender_non_binary_genderqueer_gender_non_conforming                                                              -0.0677      0.036     -1.889      0.059      -0.138       0.003\n",
       "Gender_woman                                                                                                     -0.0137      0.012     -1.163      0.245      -0.037       0.009\n",
       "Hobbyist_no                                                                                                       0.0227      0.008      2.843      0.004       0.007       0.038\n",
       "ImpSyn_a_little_below_average                                                                                    -0.0629      0.013     -4.712      0.000      -0.089      -0.037\n",
       "ImpSyn_average                                                                                                   -0.0441      0.008     -5.494      0.000      -0.060      -0.028\n",
       "ImpSyn_far_above_average                                                                                          0.0444      0.008      5.643      0.000       0.029       0.060\n",
       "ImpSyn_far_below_average                                                                                         -0.0657      0.032     -2.084      0.037      -0.127      -0.004\n",
       "ImpSyn_no_answer                                                                                                 -0.1435      0.117     -1.225      0.220      -0.373       0.086\n",
       "JobFactors_diversity_the_companyganization                                                                        0.0411      0.013      3.245      0.001       0.016       0.066\n",
       "JobFactors_financial_performance_funding_status_the_companyganization                                             0.0582      0.010      5.644      0.000       0.038       0.078\n",
       "JobFactors_flex_time_a_flexible_schedule                                                                          0.0007      0.008      0.087      0.931      -0.016       0.017\n",
       "JobFactors_how_widely_used_impactful_my_work_output_would_be                                                      0.0410      0.009      4.560      0.000       0.023       0.059\n",
       "JobFactors_industry_that_id_be_working_in                                                                         0.0241      0.010      2.350      0.019       0.004       0.044\n",
       "JobFactors_languages_frameworks_and_other_technologies_id_be_working_with                                         0.0025      0.008      0.300      0.765      -0.014       0.019\n",
       "JobFactors_no_answer                                                                                              0.0788      0.105      0.749      0.454      -0.127       0.285\n",
       "JobFactors_opportunities_for_professional_development                                                            -0.0006      0.008     -0.070      0.944      -0.017       0.016\n",
       "JobFactors_remote_work_options                                                                                   -0.0018      0.009     -0.215      0.829      -0.019       0.015\n",
       "JobFactors_specific_department_team_id_be_working_on                                                              0.0500      0.010      5.038      0.000       0.031       0.069\n",
       "LanguageWorkedWith_assembly                                                                                      -0.0103      0.019     -0.545      0.586      -0.047       0.027\n",
       "LanguageWorkedWith_bash_shell_powershell                                                                          0.0025      0.007      0.363      0.716      -0.011       0.016\n",
       "LanguageWorkedWith_c                                                                                              0.0099      0.012      0.848      0.396      -0.013       0.033\n",
       "LanguageWorkedWith_clojure                                                                                        0.0027      0.022      0.121      0.904      -0.041       0.046\n",
       "LanguageWorkedWith_cpp                                                                                            0.0310      0.010      2.996      0.003       0.011       0.051\n",
       "LanguageWorkedWith_cs                                                                                            -0.0098      0.013     -0.767      0.443      -0.035       0.015\n",
       "LanguageWorkedWith_dart                                                                                          -0.1054      0.033     -3.185      0.001      -0.170      -0.041\n",
       "LanguageWorkedWith_elixir                                                                                        -0.0113      0.023     -0.493      0.622      -0.056       0.033\n",
       "LanguageWorkedWith_erlang                                                                                         0.0063      0.033      0.190      0.850      -0.059       0.071\n",
       "LanguageWorkedWith_fs                                                                                             0.0012      0.028      0.042      0.967      -0.055       0.057\n",
       "LanguageWorkedWith_go                                                                                             0.0480      0.011      4.546      0.000       0.027       0.069\n",
       "LanguageWorkedWith_html_css                                                                                      -0.0343      0.008     -4.272      0.000      -0.050      -0.019\n",
       "LanguageWorkedWith_java                                                                                           0.0080      0.009      0.907      0.364      -0.009       0.025\n",
       "LanguageWorkedWith_kotlin                                                                                        -0.0234      0.015     -1.543      0.123      -0.053       0.006\n",
       "LanguageWorkedWith_no_answer                                                                                     -0.0186      0.068     -0.273      0.785      -0.152       0.115\n",
       "LanguageWorkedWith_objective_c                                                                                    0.0219      0.018      1.233      0.218      -0.013       0.057\n",
       "LanguageWorkedWith_other_s__                                                                                     -0.0432      0.010     -4.145      0.000      -0.064      -0.023\n",
       "LanguageWorkedWith_php                                                                                           -0.0486      0.010     -4.667      0.000      -0.069      -0.028\n",
       "LanguageWorkedWith_python                                                                                         0.0079      0.008      0.998      0.318      -0.008       0.023\n",
       "LanguageWorkedWith_r                                                                                             -0.0188      0.018     -1.047      0.295      -0.054       0.016\n",
       "LanguageWorkedWith_ruby                                                                                          -0.0026      0.014     -0.184      0.854      -0.030       0.025\n",
       "LanguageWorkedWith_rust                                                                                          -0.0194      0.017     -1.113      0.266      -0.053       0.015\n",
       "LanguageWorkedWith_scala                                                                                          0.0259      0.017      1.544      0.123      -0.007       0.059\n",
       "LanguageWorkedWith_sql                                                                                           -0.0317      0.008     -4.180      0.000      -0.047      -0.017\n",
       "LanguageWorkedWith_swift                                                                                         -0.0254      0.018     -1.440      0.150      -0.060       0.009\n",
       "LanguageWorkedWith_typescript                                                                                     0.0280      0.008      3.299      0.001       0.011       0.045\n",
       "LanguageWorkedWith_vba                                                                                           -0.0175      0.014     -1.240      0.215      -0.045       0.010\n",
       "LanguageWorkedWith_webassembly                                                                                    0.0082      0.029      0.278      0.781      -0.050       0.066\n",
       "MiscTechWorkedWith_ansible                                                                                        0.0062      0.013      0.493      0.622      -0.019       0.031\n",
       "MiscTechWorkedWith_apache_spark                                                                                  -0.0092      0.019     -0.489      0.625      -0.046       0.028\n",
       "MiscTechWorkedWith_chef                                                                                           0.0303      0.018      1.712      0.087      -0.004       0.065\n",
       "MiscTechWorkedWith_cordova                                                                                       -0.0208      0.019     -1.074      0.283      -0.059       0.017\n",
       "MiscTechWorkedWith_cryengine                                                                                     -0.1075      0.111     -0.968      0.333      -0.325       0.110\n",
       "MiscTechWorkedWith_flutter                                                                                        0.0894      0.032      2.759      0.006       0.026       0.153\n",
       "MiscTechWorkedWith_hadoop                                                                                         0.0372      0.019      1.923      0.055      -0.001       0.075\n",
       "MiscTechWorkedWith_net                                                                                           -0.0041      0.014     -0.296      0.767      -0.031       0.023\n",
       "MiscTechWorkedWith_net_core                                                                                       0.0180      0.011      1.667      0.096      -0.003       0.039\n",
       "MiscTechWorkedWith_no_answer                                                                                      0.0037      0.009      0.399      0.690      -0.014       0.022\n",
       "MiscTechWorkedWith_other_s__                                                                                      0.0204      0.018      1.149      0.250      -0.014       0.055\n",
       "MiscTechWorkedWith_pandas                                                                                         0.0374      0.014      2.642      0.008       0.010       0.065\n",
       "MiscTechWorkedWith_puppet                                                                                         0.0002      0.020      0.011      0.992      -0.039       0.040\n",
       "MiscTechWorkedWith_react_native                                                                                  -0.0017      0.014     -0.126      0.900      -0.029       0.025\n",
       "MiscTechWorkedWith_tensorflow                                                                                     0.0012      0.016      0.073      0.942      -0.031       0.033\n",
       "MiscTechWorkedWith_torch_pytorch                                                                                 -0.0109      0.027     -0.401      0.688      -0.064       0.043\n",
       "MiscTechWorkedWith_unity_3d                                                                                      -0.0136      0.015     -0.881      0.378      -0.044       0.017\n",
       "MiscTechWorkedWith_unreal_engine                                                                                 -0.0593      0.028     -2.146      0.032      -0.114      -0.005\n",
       "MiscTechWorkedWith_xamarin                                                                                       -0.0267      0.017     -1.539      0.124      -0.061       0.007\n",
       "OpSys_bsd                                                                                                         0.0389      0.104      0.375      0.707      -0.164       0.242\n",
       "OpSys_linux_based                                                                                                 0.0351      0.011      3.060      0.002       0.013       0.058\n",
       "OpSys_macos                                                                                                       0.0843      0.011      8.012      0.000       0.064       0.105\n",
       "OpSys_no_answer                                                                                                   0.0138      0.041      0.337      0.736      -0.066       0.094\n",
       "OpenSourcer_less_than_once_a_month_but_more_than_once_per_year                                                   -0.0187      0.011     -1.670      0.095      -0.041       0.003\n",
       "OpenSourcer_less_than_once_per_year                                                                              -0.0146      0.009     -1.652      0.099      -0.032       0.003\n",
       "OpenSourcer_once_a_month_moreten                                                                                 -0.0179      0.014     -1.277      0.202      -0.045       0.010\n",
       "OrgSize_100_to_499                                                                                               -0.1397      0.010    -13.954      0.000      -0.159      -0.120\n",
       "OrgSize_10_to_19                                                                                                 -0.1985      0.015    -13.210      0.000      -0.228      -0.169\n",
       "OrgSize_1_000_to_4_999                                                                                           -0.0692      0.011     -6.370      0.000      -0.091      -0.048\n",
       "OrgSize_20_to_99                                                                                                 -0.1669      0.011    -15.772      0.000      -0.188      -0.146\n",
       "OrgSize_2_9                                                                                                      -0.2753      0.016    -17.219      0.000      -0.307      -0.244\n",
       "OrgSize_500_to_999                                                                                               -0.1005      0.013     -7.586      0.000      -0.126      -0.075\n",
       "OrgSize_5_000_to_9_999                                                                                           -0.0842      0.015     -5.685      0.000      -0.113      -0.055\n",
       "OrgSize_just_me_i_am_a_freelancer_sole_proprietor                                                                -0.1993      0.030     -6.639      0.000      -0.258      -0.140\n",
       "OrgSize_no_answer                                                                                                -0.1758      0.024     -7.219      0.000      -0.224      -0.128\n",
       "PlatformWorkedWith_android                                                                                       -0.0115      0.013     -0.920      0.357      -0.036       0.013\n",
       "PlatformWorkedWith_arduino                                                                                       -0.0103      0.014     -0.751      0.453      -0.037       0.017\n",
       "PlatformWorkedWith_aws                                                                                            0.0271      0.008      3.466      0.001       0.012       0.042\n",
       "PlatformWorkedWith_docker                                                                                         0.0040      0.008      0.494      0.621      -0.012       0.020\n",
       "PlatformWorkedWith_google_cloud_platform                                                                          0.0219      0.011      2.060      0.039       0.001       0.043\n",
       "PlatformWorkedWith_heroku                                                                                         0.0047      0.011      0.420      0.674      -0.017       0.026\n",
       "PlatformWorkedWith_ibm_cloud_watson                                                                              -0.0268      0.024     -1.102      0.271      -0.074       0.021\n",
       "PlatformWorkedWith_ios                                                                                            0.0233      0.014      1.618      0.106      -0.005       0.052\n",
       "PlatformWorkedWith_kubernetes                                                                                     0.0013      0.012      0.110      0.912      -0.021       0.024\n",
       "PlatformWorkedWith_macos                                                                                          0.0133      0.008      1.576      0.115      -0.003       0.030\n",
       "PlatformWorkedWith_microsoft_azure                                                                                0.0459      0.010      4.559      0.000       0.026       0.066\n",
       "PlatformWorkedWith_no_answer                                                                                      0.0137      0.013      1.076      0.282      -0.011       0.039\n",
       "PlatformWorkedWith_other_s__                                                                                      0.0073      0.016      0.458      0.647      -0.024       0.039\n",
       "PlatformWorkedWith_raspberry_pi                                                                                  -0.0071      0.010     -0.705      0.481      -0.027       0.013\n",
       "PlatformWorkedWith_slack                                                                                          0.0130      0.009      1.518      0.129      -0.004       0.030\n",
       "PlatformWorkedWith_windows                                                                                       -0.0121      0.009     -1.423      0.155      -0.029       0.005\n",
       "PlatformWorkedWith_wordpress                                                                                     -0.0365      0.011     -3.303      0.001      -0.058      -0.015\n",
       "PurchaseHow_developers_typically_have_the_most_influence_on_purchasing_new_technology                             0.0266      0.009      2.894      0.004       0.009       0.045\n",
       "PurchaseHow_no_answer                                                                                             0.0112      0.019      0.598      0.550      -0.025       0.048\n",
       "PurchaseHow_not_sure                                                                                              0.0242      0.009      2.572      0.010       0.006       0.043\n",
       "PurchaseHow_the_cto_cio_other_management_purchase_new_technology_typically_without_the_involvement_developers    -0.0119      0.009     -1.261      0.207      -0.031       0.007\n",
       "PurchaseWhat_i_have_a_great_deal_influence                                                                        0.0171      0.010      1.731      0.083      -0.002       0.036\n",
       "PurchaseWhat_i_have_little_no_influence                                                                          -0.0313      0.008     -3.959      0.000      -0.047      -0.016\n",
       "PurchaseWhat_no_answer                                                                                            0.1077      0.041      2.655      0.008       0.028       0.187\n",
       "Sexuality_bisexual                                                                                               -0.0263      0.015     -1.721      0.085      -0.056       0.004\n",
       "Sexuality_gay_lesbian                                                                                             0.0341      0.018      1.862      0.063      -0.002       0.070\n",
       "Sexuality_no_answer                                                                                              -0.0342      0.015     -2.211      0.027      -0.065      -0.004\n",
       "SocialMedia_facebook                                                                                             -0.0131      0.010     -1.308      0.191      -0.033       0.007\n",
       "SocialMedia_i_dont_use_social_media                                                                               0.0012      0.013      0.097      0.923      -0.023       0.026\n",
       "SocialMedia_instagram                                                                                             0.0273      0.012      2.218      0.027       0.003       0.051\n",
       "SocialMedia_linkedin                                                                                              0.0209      0.016      1.318      0.187      -0.010       0.052\n",
       "SocialMedia_no_answer                                                                                            -0.0112      0.018     -0.628      0.530      -0.046       0.024\n",
       "SocialMedia_snapchat                                                                                             -0.0231      0.032     -0.716      0.474      -0.086       0.040\n",
       "SocialMedia_twitter                                                                                               0.0107      0.010      1.118      0.264      -0.008       0.029\n",
       "SocialMedia_vk_вконта́кте                                                                                        -0.3131      0.155     -2.026      0.043      -0.616      -0.010\n",
       "SocialMedia_wechat_微信                                                                                             0.0463      0.068      0.676      0.499      -0.088       0.181\n",
       "SocialMedia_whatsapp                                                                                             -0.0133      0.021     -0.645      0.519      -0.054       0.027\n",
       "SocialMedia_youtube                                                                                              -0.0145      0.011     -1.294      0.196      -0.036       0.007\n",
       "Trans_no_answer                                                                                                   0.0183      0.030      0.615      0.539      -0.040       0.076\n",
       "Trans_yes                                                                                                         0.0114      0.034      0.338      0.735      -0.055       0.077\n",
       "UndergradMajor_a_business_discipline_ex_accounting_finance_marketing_                                             0.0058      0.018      0.326      0.745      -0.029       0.041\n",
       "UndergradMajor_a_health_science_ex_nursing_pharmacy_radiology_                                                   -0.0588      0.060     -0.982      0.326      -0.176       0.059\n",
       "UndergradMajor_a_humanities_discipline_ex_literature_history_philosophy_                                         -0.0283      0.017     -1.700      0.089      -0.061       0.004\n",
       "UndergradMajor_a_natural_science_ex_biology_chemistry_physics_                                                   -0.0197      0.015     -1.280      0.200      -0.050       0.010\n",
       "UndergradMajor_a_social_science_ex_anthropology_psychology_political_science_                                    -0.0001      0.017     -0.008      0.994      -0.033       0.033\n",
       "UndergradMajor_another_engineering_discipline_ex_civil_electrical_mechanical_                                     0.0076      0.013      0.584      0.559      -0.018       0.033\n",
       "UndergradMajor_fine_arts_performing_arts_ex_graphic_design_music_studio_art_                                     -0.0383      0.017     -2.271      0.023      -0.071      -0.005\n",
       "UndergradMajor_i_never_declared_a_major                                                                          -0.0548      0.025     -2.222      0.026      -0.103      -0.006\n",
       "UndergradMajor_information_systems_information_technology_system_administration                                  -0.0459      0.013     -3.505      0.000      -0.072      -0.020\n",
       "UndergradMajor_mathematics_statistics                                                                             0.0142      0.016      0.867      0.386      -0.018       0.046\n",
       "UndergradMajor_no_answer                                                                                         -0.0678      0.019     -3.522      0.000      -0.106      -0.030\n",
       "UndergradMajor_web_development_web_design                                                                        -0.0891      0.020     -4.359      0.000      -0.129      -0.049\n",
       "UnitTests_no_and_im_glad_we_dont                                                                                 -0.0893      0.017     -5.371      0.000      -0.122      -0.057\n",
       "UnitTests_no_answer                                                                                              -0.1706      0.037     -4.576      0.000      -0.244      -0.098\n",
       "UnitTests_no_but_i_think_we_should                                                                               -0.0940      0.008    -11.164      0.000      -0.111      -0.077\n",
       "UnitTests_yes_its_not_part_our_process_but_the_developers_do_it_on_their_own                                     -0.0475      0.008     -5.593      0.000      -0.064      -0.031\n",
       "WebFrameWorkedWith_angular_angularjs                                                                             -0.0083      0.008     -0.971      0.331      -0.025       0.008\n",
       "WebFrameWorkedWith_aspnet                                                                                         0.0186      0.013      1.480      0.139      -0.006       0.043\n",
       "WebFrameWorkedWith_django                                                                                        -0.0332      0.012     -2.687      0.007      -0.057      -0.009\n",
       "WebFrameWorkedWith_drupal                                                                                        -0.0502      0.021     -2.396      0.017      -0.091      -0.009\n",
       "WebFrameWorkedWith_express                                                                                       -0.0057      0.010     -0.571      0.568      -0.025       0.014\n",
       "WebFrameWorkedWith_flask                                                                                          0.0067      0.012      0.552      0.581      -0.017       0.030\n",
       "WebFrameWorkedWith_laravel                                                                                       -0.0213      0.018     -1.217      0.224      -0.056       0.013\n",
       "WebFrameWorkedWith_no_answer                                                                                      0.0289      0.011      2.659      0.008       0.008       0.050\n",
       "WebFrameWorkedWith_other_s__                                                                                      0.0185      0.013      1.453      0.146      -0.006       0.043\n",
       "WebFrameWorkedWith_reactjs                                                                                        0.0341      0.008      4.121      0.000       0.018       0.050\n",
       "WebFrameWorkedWith_ruby_on_rails                                                                                 -0.0044      0.016     -0.269      0.788      -0.037       0.028\n",
       "WebFrameWorkedWith_spring                                                                                        -0.0134      0.013     -1.068      0.286      -0.038       0.011\n",
       "WebFrameWorkedWith_vuejs                                                                                         -0.0222      0.010     -2.138      0.033      -0.042      -0.002\n",
       "WorkPlan__i_work_on_what_seems_most_important_urgent                                                             -0.0015      0.004     -0.402      0.688      -0.009       0.006\n",
       "WorkPlan_no_answer                                                                                               -0.0157      0.022     -0.698      0.485      -0.060       0.028\n",
       "WorkPlan_there_is_a_schedule_and_spec_made_by_me_by_a_colleague_and_i_follow_it_very_closely                     -0.0283      0.009     -3.258      0.001      -0.045      -0.011\n",
       "WorkPlan_theres_no_schedule_spec                                                                                 -0.0015      0.004     -0.402      0.688      -0.009       0.006\n",
       "WorkRemote_a_few_days_each_month                                                                                  0.0484      0.008      6.152      0.000       0.033       0.064\n",
       "WorkRemote_about_half_the_time                                                                                    0.0795      0.020      4.065      0.000       0.041       0.118\n",
       "WorkRemote_all_almost_all_the_time_im_full_time_remote_                                                           0.0908      0.011      8.268      0.000       0.069       0.112\n",
       "WorkRemote_its_complicated                                                                                        0.0220      0.019      1.150      0.250      -0.016       0.060\n",
       "WorkRemote_less_than_half_the_time_but_at_least_one_day_each_week                                                 0.0564      0.010      5.391      0.000       0.036       0.077\n",
       "WorkRemote_more_than_half_but_not_all_the_time                                                                    0.0818      0.018      4.501      0.000       0.046       0.117\n",
       "WorkRemote_no_answer                                                                                              0.2647      0.145      1.831      0.067      -0.019       0.548\n",
       "WorkWeekHrs_00_10                                                                                                -0.2155      0.058     -3.700      0.000      -0.330      -0.101\n",
       "WorkWeekHrs_11_20                                                                                                -0.2847      0.041     -6.928      0.000      -0.365      -0.204\n",
       "WorkWeekHrs_21_30                                                                                                -0.0927      0.023     -4.023      0.000      -0.138      -0.048\n",
       "WorkWeekHrs_41_50                                                                                                 0.0379      0.007      5.351      0.000       0.024       0.052\n",
       "WorkWeekHrs_51_60                                                                                                 0.0783      0.016      4.746      0.000       0.046       0.111\n",
       "WorkWeekHrs_61_70                                                                                                 0.0244      0.038      0.646      0.519      -0.050       0.098\n",
       "WorkWeekHrs_71_80                                                                                                 0.0485      0.051      0.944      0.345      -0.052       0.149\n",
       "WorkWeekHrs_81_                                                                                                  -0.0046      0.083     -0.055      0.956      -0.168       0.159\n",
       "YearsCodePro_06_10                                                                                                0.1300      0.010     12.917      0.000       0.110       0.150\n",
       "YearsCodePro_11_15                                                                                                0.2220      0.014     15.457      0.000       0.194       0.250\n",
       "YearsCodePro_16_20                                                                                                0.2785      0.018     15.727      0.000       0.244       0.313\n",
       "YearsCodePro_21_25                                                                                                0.3075      0.022     13.717      0.000       0.264       0.351\n",
       "YearsCodePro_26_30                                                                                                0.3658      0.029     12.428      0.000       0.308       0.424\n",
       "YearsCodePro_31_35                                                                                                0.4023      0.035     11.397      0.000       0.333       0.472\n",
       "YearsCodePro_35_40                                                                                                0.4194      0.047      9.015      0.000       0.328       0.511\n",
       "YearsCodePro_41_                                                                                                  0.3873      0.069      5.591      0.000       0.252       0.523\n",
       "YearsCodePro_no_answer                                                                                           -0.1256      0.016     -7.615      0.000      -0.158      -0.093\n",
       "YearsCode_00_05                                                                                                  -0.0683      0.011     -6.399      0.000      -0.089      -0.047\n",
       "YearsCode_11_15                                                                                                   0.0169      0.010      1.643      0.100      -0.003       0.037\n",
       "YearsCode_16_20                                                                                                   0.0030      0.013      0.233      0.816      -0.022       0.028\n",
       "YearsCode_21_25                                                                                                   0.0063      0.016      0.382      0.703      -0.026       0.039\n",
       "YearsCode_26_30                                                                                                   0.0155      0.020      0.779      0.436      -0.024       0.055\n",
       "YearsCode_31_35                                                                                                  -0.0123      0.024     -0.522      0.602      -0.059       0.034\n",
       "YearsCode_35_40                                                                                                  -0.0262      0.027     -0.961      0.336      -0.080       0.027\n",
       "YearsCode_41_                                                                                                    -0.0274      0.041     -0.660      0.509      -0.109       0.054\n",
       "YearsCode_no_answer                                                                                              -0.0657      0.055     -1.197      0.231      -0.173       0.042\n",
       "const                                                                                                            11.4797      0.027    429.346      0.000      11.427      11.532\n",
       "==============================================================================\n",
       "Omnibus:                     2112.407   Durbin-Watson:                   1.999\n",
       "Prob(Omnibus):                  0.000   Jarque-Bera (JB):            14209.808\n",
       "Skew:                          -0.811   Prob(JB):                         0.00\n",
       "Kurtosis:                       8.505   Cond. No.                     1.13e+16\n",
       "==============================================================================\n",
       "\n",
       "Warnings:\n",
       "[1] Standard Errors assume that the covariance matrix of the errors is correctly specified.\n",
       "[2] The smallest eigenvalue is 8.06e-28. This might indicate that there are\n",
       "strong multicollinearity problems or that the design matrix is singular.\n",
       "\"\"\""
      ]
     },
     "execution_count": 18,
     "metadata": {},
     "output_type": "execute_result"
    }
   ],
   "source": [
    "est.summary()"
   ]
  },
  {
   "cell_type": "code",
   "execution_count": 19,
   "metadata": {},
   "outputs": [],
   "source": [
    "def double_selection(df: pd.DataFrame, \n",
    "                     controls: dict, \n",
    "                     controls_adj: list, \n",
    "                     category: str) -> pd.DataFrame:\n",
    "    \"\"\"\n",
    "    Runs double selection on dataframe for provided category, selecting relevant covariates\n",
    "    \n",
    "    Returns dataframe with important covariates along with original category\n",
    "    \"\"\"\n",
    "\n",
    "    X = df[controls_adj].copy()\n",
    "\n",
    "    W = df.drop(controls_adj, axis=1).assign(const=1).copy()\n",
    "\n",
    "    W = W.drop(\"Income\", axis=1)\n",
    "\n",
    "    Y = df[\"Income\"].copy()\n",
    "\n",
    "    clf = LassoCV(cv=5, max_iter=10000, selection=\"random\", n_jobs=-1)\n",
    "\n",
    "    sfm = SelectFromModel(clf)\n",
    "\n",
    "    for i, X_j in enumerate(X.columns):\n",
    "        if i==0:\n",
    "            A = sfm.fit(W, X[X_j]).get_support()\n",
    "        else:\n",
    "            A = A | sfm.fit(W, X[X_j]).get_support()\n",
    "\n",
    "    B = sfm.fit(W, Y).get_support()\n",
    "    \n",
    "    \"\"\"\n",
    "    Code for square root lasso\n",
    "    \n",
    "    from scipy.stats import norm\n",
    "    \n",
    "    n = len(Y)\n",
    "    p = W.shape[1]\n",
    "    \n",
    "    print(n, p)\n",
    "    \n",
    "    alpha = 1.1 * np.sqrt(n) * norm.ppf(1 - 0.05 / (2 * p))\n",
    "    \n",
    "    return sm.OLS(X[\"DevType_back_end\"].astype(float), W.astype(float)).fit_regularized(method=\"sqrt_lasso\", alpha=alpha).params\n",
    "    \n",
    "    \"\"\"\n",
    "\n",
    "    return pd.concat([W.T[A | B].T, X], axis=1)"
   ]
  },
  {
   "cell_type": "code",
   "execution_count": 20,
   "metadata": {},
   "outputs": [],
   "source": [
    "def unlog(logged):\n",
    "    \"\"\"\n",
    "    Unlogs logged quantities\n",
    "    \n",
    "    \"\"\"\n",
    "    return np.e**(logged) - 1"
   ]
  },
  {
   "cell_type": "code",
   "execution_count": 21,
   "metadata": {},
   "outputs": [],
   "source": [
    "def output_graph(df: pd.DataFrame, \n",
    "                 controls: dict, \n",
    "                 lasso: bool=False, \n",
    "                 category: str=None,\n",
    "                 online: bool=False) -> (pd.DataFrame, sm.regression.linear_model.RegressionResultsWrapper):\n",
    "    \"\"\"\n",
    "    Runs double selection and plots chart of results coefficients along with unconditional pay gaps and respective confidence intervals\n",
    "    \n",
    "    \"\"\"\n",
    "\n",
    "    controls_adj = [category+\"_\"+control for control in controls[category][\"controls\"] if controls[category][\"omitted\"] != control]\n",
    "\n",
    "    if lasso:\n",
    "        exog = double_selection(df, controls, controls_adj, category).assign(const=1)\n",
    "    else:\n",
    "        exog = df.drop(\"Income\", axis=1).assign(const=1)\n",
    "\n",
    "    est_full = sm.OLS(endog=df[\"Income\"], \n",
    "                      exog=exog).fit()\n",
    "    \n",
    "    est_simple = sm.OLS(endog=df[\"Income\"], \n",
    "                        exog=df.drop(\"Income\", \n",
    "                        axis=1)[controls_adj]\n",
    "                        .assign(const=1)).fit()\n",
    "    \n",
    "    output_full = pd.concat([est_full.params, est_full.bse*1.96], \n",
    "                            axis=1).rename(columns={0: \"coef_full\", 1: \"conf_95_full\"}).filter(like=category+\"_\", axis=0)\n",
    "\n",
    "    output_simple = pd.concat([est_simple.params, est_simple.bse*1.96], \n",
    "                              axis=1).rename(columns={0: \"coef_simple\", 1: \"conf_95_simple\"}).filter(like=category+\"_\", axis=0)\n",
    "    \n",
    "    output = pd.concat([output_full, output_simple], axis=1)\n",
    "\n",
    "    output.index = [x.replace(category + \"_\", \"\") for x in output.index]\n",
    "\n",
    "    if category in num_columns:\n",
    "        output.sort_index(axis=0, \n",
    "                          ascending=True, \n",
    "                          inplace=True)\n",
    "    else:\n",
    "        output.sort_values(by=\"coef_full\", \n",
    "                           ascending=False, \n",
    "                           inplace=True)\n",
    "\n",
    "    if category == \"OrgSize\":\n",
    "        output = output.T[['just_me_i_am_a_freelancer_sole_proprietor', '2_9', '10_to_19', '20_to_99', '100_to_499', \n",
    "                         '500_to_999', '1_000_to_4_999', '5_000_to_9_999', 'no_answer']].T\n",
    "    \n",
    "    output[\"explained\"] = output[\"coef_simple\"] - output[\"coef_full\"]\n",
    "\n",
    "    for x, y, z in zip([\"upper_simple\", \"upper_full\"], \n",
    "                       [\"coef_simple\", \"coef_full\"], \n",
    "                       [\"conf_95_simple\", \"conf_95_full\"]): output[x] = unlog(output[y] + output[z])\n",
    "\n",
    "    for x, y, z in zip([\"lower_simple\", \"lower_full\"], \n",
    "                       [\"coef_simple\", \"coef_full\"], \n",
    "                       [\"conf_95_simple\", \"conf_95_full\"]): output[x] = unlog(output[y] - output[z])\n",
    "\n",
    "    output[\"coef_simple\"] = unlog(output[\"coef_simple\"])\n",
    "    output[\"coef_full\"] = unlog(output[\"coef_full\"])\n",
    "\n",
    "    for x, y  in zip([\"upper_simple\", \"upper_full\"], \n",
    "                     [\"coef_simple\", \"coef_full\"]): output[x] = output[x] - output[y]\n",
    "\n",
    "    for x, y  in zip([\"lower_simple\", \"lower_full\"], \n",
    "                     [\"coef_simple\", \"coef_full\"]): output[x] = output[y] - output[x]\n",
    "\n",
    "    try: \n",
    "        output.drop(labels=[\"no_answer\"], inplace=True)\n",
    "    except:\n",
    "        pass\n",
    "    \n",
    "    output_index = list(output.index)\n",
    "\n",
    "    my_range=np.array(range(1,len(output_index)+1))\n",
    "\n",
    "    output_index = [x[:16] for x in output.index]\n",
    "    \n",
    "    for i in range(0, len(output_index), 2):\n",
    "       output_index[i] = \"<br>\" + output_index[i]\n",
    "\n",
    "    fig = go.Figure(data=[\n",
    "        go.Bar(name=\"Unadjusted\", \n",
    "               x=my_range, \n",
    "               y=output[\"coef_simple\"], \n",
    "               marker_color=\"#d7eaf7\", \n",
    "               showlegend=False, \n",
    "               width=min(0.28, 0.28*len(my_range)/4), \n",
    "               hoverinfo=\"skip\"),\n",
    "        go.Bar(name=\"Adjusted\", \n",
    "               x=my_range, \n",
    "               y=output[\"coef_full\"], \n",
    "               marker_color=\"#ffcdcd\",\n",
    "               showlegend=False, \n",
    "               width=min(0.28, 0.28*len(my_range)/4), \n",
    "               hoverinfo=\"skip\"),\n",
    "        go.Scatter(name=\"Unadjusted\", \n",
    "                   x=my_range-0.2, \n",
    "                   y=output[\"coef_simple\"], \n",
    "                   mode=\"markers\", \n",
    "                   marker_color=\"#3493d3\", \n",
    "                   marker_size=20, \n",
    "                   error_y=dict(type=\"data\", \n",
    "                                symmetric=False, \n",
    "                                array=output[\"upper_simple\"], \n",
    "                                arrayminus=output[\"lower_simple\"], \n",
    "                                width=5, \n",
    "                                thickness=2, \n",
    "                                visible=True),\n",
    "                   hovertemplate=\"%{text}\",\n",
    "                   text=[name.replace(\"<br>\", \"\") + \n",
    "                         \": {:+,.1%}\".format(coef) + \n",
    "                         \", 95% conf: [{:+,.1%}\".format(lower) + \n",
    "                         \", {:+,.1%}]\".format(upper) for name, coef, upper, lower in zip(output_index, \n",
    "                                                                                        output[\"coef_simple\"], \n",
    "                                                                                        output[\"coef_simple\"] + output[\"upper_simple\"], \n",
    "                                                                                        output[\"coef_simple\"] - output[\"lower_simple\"])]),\n",
    "        go.Scatter(name=\"Adjusted\", \n",
    "                   x=my_range+0.2, \n",
    "                   y=output[\"coef_full\"], \n",
    "                   mode=\"markers\", \n",
    "                   marker_color=\"red\", \n",
    "                   marker_size=20,\n",
    "                   error_y=dict(type=\"data\", \n",
    "                                symmetric=False, \n",
    "                                array=output[\"upper_full\"], \n",
    "                                arrayminus=output[\"lower_full\"], \n",
    "                                width=5, \n",
    "                                thickness=2, \n",
    "                                visible=True),\n",
    "                   hovertemplate=\"%{text}\",\n",
    "                   text=[name.replace(\"<br>\", \"\") + \n",
    "                         \": {:+,.1%}\".format(coef) + \n",
    "                         \", 95% conf: [{:+,.1%}\".format(lower) + \n",
    "                         \", {:+,.1%}]\".format(upper) for name, coef, upper, lower in zip(output_index, \n",
    "                                                                                        output[\"coef_full\"], \n",
    "                                                                                        output[\"coef_full\"] + output[\"upper_full\"], \n",
    "                                                                                        output[\"coef_full\"] - output[\"lower_full\"])])],\n",
    "                   layout=go.Layout(title=go.layout.Title(text=controls[category][\"title\"])))\n",
    "\n",
    "    fig.update_layout(barmode=\"group\", \n",
    "                      bargroupgap=0.1,\n",
    "                      xaxis = dict(tickmode = \"array\",\n",
    "                                   tickvals = my_range,\n",
    "                                   ticktext = output_index,\n",
    "                                   tickangle = 0,\n",
    "                                   ticks = \"outside\",\n",
    "                                   showline=True,\n",
    "                                   linewidth=0.5,\n",
    "                                   linecolor=\"black\",\n",
    "                                   range=[0.5, max(my_range)+0.5]),\n",
    "                      yaxis = dict(tickformat = \".1%\",\n",
    "                                   ticks = \"outside\",\n",
    "                                   title = \"Pay Gap vs. \" + controls[category][\"omitted\"][:16],\n",
    "                                   showline=True,\n",
    "                                   linewidth=0.5,\n",
    "                                   linecolor=\"black\",\n",
    "                                   showgrid=True,\n",
    "                                   gridcolor=\"#e8e8e8\",\n",
    "                                   gridwidth=0.5,\n",
    "                                   zeroline=True,\n",
    "                                   zerolinecolor=\"#e8e8e8\",\n",
    "                                   zerolinewidth=2),\n",
    "                      #width=max(750, len(my_range) * 100),\n",
    "                      margin = dict(r=0),\n",
    "                      plot_bgcolor=\"white\",\n",
    "                      title_font = dict(size=20),\n",
    "                      legend=go.layout.Legend(x=0,\n",
    "                                              y=1,\n",
    "                                              yanchor=\"bottom\",\n",
    "                                              orientation=\"h\"))\n",
    "\n",
    "    if not os.path.exists(\"images\"):\n",
    "        os.mkdir(\"images\")\n",
    "        \n",
    "    if not os.path.exists(\"embeds\"):\n",
    "        os.mkdir(\"embeds\")\n",
    "\n",
    "    fig.write_image(\"images/\" + category + \".jpg\", scale=3)\n",
    "    fig.write_html(\"embeds/\" + category + \".html\", include_plotlyjs='cdn')\n",
    "    #print(plotly.offline.plot(fig, include_plotlyjs=False, output_type='div'))\n",
    "\n",
    "    if online:\n",
    "        py.plot(fig, filename=category)\n",
    "    \n",
    "    fig.show()\n",
    "    \n",
    "    return output, est_full"
   ]
  },
  {
   "cell_type": "code",
   "execution_count": 22,
   "metadata": {},
   "outputs": [],
   "source": [
    "def prune_df(df: pd.DataFrame, category: str) -> pd.DataFrame:\n",
    "    \"\"\"\n",
    "    Prunes dataframe columns to only include those with \"category_\" in the name\n",
    "    \n",
    "    Returns: Pruned dataframe\n",
    "    \"\"\"\n",
    "\n",
    "    matching = [x for x in df.columns if category+\"_\" in x]\n",
    "\n",
    "    return df[matching].copy()"
   ]
  },
  {
   "cell_type": "code",
   "execution_count": 23,
   "metadata": {},
   "outputs": [],
   "source": [
    "def explain(df: pd.DataFrame, \n",
    "            regression, \n",
    "            controls: dict, \n",
    "            cat_to_explain: str, \n",
    "            coef_to_explain: str, \n",
    "            top: int = 5) -> (pd.DataFrame, float):\n",
    "    \"\"\"\n",
    "    Decomposes explained portion of income gap between groups and returns top explainers\n",
    "\n",
    "    Decomposition follows methodology of (Gelbach 2016)\n",
    "\n",
    "    Returns: Dataframe with top 3 explainers and respective explained gaps\n",
    "    \"\"\"\n",
    "\n",
    "    name = cat_to_explain + \"_\" + coef_to_explain\n",
    "\n",
    "    df_copy = df.copy()\n",
    "\n",
    "    X_1 = prune_df(df_copy, cat_to_explain).assign(const=1)\n",
    "\n",
    "    explainers = [control for control in controls.keys() if control != cat_to_explain]\n",
    "\n",
    "    results = pd.DataFrame()\n",
    "    \n",
    "    for i, explainer in enumerate(explainers):\n",
    "\n",
    "        X_2 = prune_df(df_copy, explainer)\n",
    "\n",
    "        X_2 = X_2.reindex(sorted(X_2.columns), axis=1)\n",
    "\n",
    "        B_2 = regression.params.filter(like=explainer+\"_\").sort_index()\n",
    "\n",
    "        X_2 = X_2[B_2.index]\n",
    "\n",
    "        H_k = X_2.values @ B_2\n",
    "\n",
    "        if i == 0:\n",
    "            results = pd.DataFrame(sm.OLS(endog=H_k, exog=X_1).fit().params.rename(explainer))\n",
    "        else:\n",
    "            d = sm.OLS(endog=H_k, exog=X_1).fit().params.rename(explainer)\n",
    "\n",
    "            results = results.join(d)\n",
    "\n",
    "    neg = results.T.filter(items=[name]).sort_values(by=name)[name].sum() < 0\n",
    "\n",
    "    results = results.T.filter(items=[name]).sort_values(by=name, ascending=neg)\n",
    "\n",
    "    results.columns = [coef_to_explain]\n",
    "\n",
    "    return results.iloc[:top].append(results.iloc[top:].sum().rename(\"Other\")), regression.params.filter(items=[name]).values[0]"
   ]
  },
  {
   "cell_type": "code",
   "execution_count": 29,
   "metadata": {},
   "outputs": [],
   "source": [
    "def output_waterfall(df: pd.DataFrame, \n",
    "                     coef_full: float, \n",
    "                     controls: dict, \n",
    "                     category: str,\n",
    "                     exp: str,\n",
    "                     online: bool=False) -> None:\n",
    "    \"\"\"\n",
    "    Plots waterfall breakdown of explained pay gap \n",
    "    \n",
    "    \"\"\"\n",
    "\n",
    "    coef_simple = coef_full + df.values.flatten().sum()\n",
    "\n",
    "    step_names = [\"Adjusted\"] + list(df.index) + [\"Unadjusted\"]\n",
    "\n",
    "    steps = np.array([coef_full] + list(df.values.flatten()) + [coef_simple])\n",
    "\n",
    "    new_steps = [0] * len(steps)\n",
    "\n",
    "    for step in range(len(steps)):\n",
    "        if step == 0:\n",
    "            new_steps[step] = unlog(steps[step])\n",
    "        elif step == len(steps) - 1:\n",
    "            new_steps[step] = unlog(coef_simple)\n",
    "        else:\n",
    "            new_steps[step] = unlog(sum(steps[:step+1])) - sum(new_steps[:step])\n",
    "\n",
    "    steps = new_steps\n",
    "\n",
    "    my_range=np.array(list(range(1, len(steps)+1)))\n",
    "\n",
    "    for i in range(0, len(step_names), 2):\n",
    "       step_names[i] = \"<br>\" + step_names[i]\n",
    "\n",
    "    fig = go.Figure(go.Waterfall(orientation=\"v\",\n",
    "                                 measure=[\"absolute\"] + ([\"relative\"] * len(df.index)) + [\"total\"],\n",
    "                                 x=step_names,\n",
    "                                 text=[\"{:,.1%}\".format(steps[0])] + \n",
    "                                      [\"{:+,.1%}\".format(step) for step in steps[1:-1]] + \n",
    "                                      [\"{:,.1%}\".format(steps[-1])],\n",
    "                                 textposition=\"outside\",\n",
    "                                 y=steps,\n",
    "                                 connector = {\"line\":{\"color\":\"grey\"}},\n",
    "                                 hovertemplate=\"%{text}\",\n",
    "                                 name=df.columns[0],\n",
    "                                 totals = {\"marker\":{\"color\":\"#3493d3\"}},\n",
    "                                 decreasing = {\"marker\":{\"color\":\"#ff4747\"}}))\n",
    "\n",
    "    fig.update_layout(title = \"Drivers of the \" + df.columns[0][:16] + \" vs. \" + controls[category][\"omitted\"][:16] + \" pay gap\", \n",
    "                      xaxis = dict(tickmode = \"array\",\n",
    "                                   tickvals = step_names,\n",
    "                                   tickangle = 0,\n",
    "                                   ticks = \"outside\",\n",
    "                                   showline=True,\n",
    "                                   linewidth=0.5,\n",
    "                                   linecolor=\"black\"),\n",
    "                      yaxis = dict(tickformat = \".1%\",\n",
    "                                   ticks = \"outside\",\n",
    "                                   title = \"Pay Gap vs. \" + controls[category][\"omitted\"][:16],\n",
    "                                   showline=True,\n",
    "                                   linewidth=0.5,\n",
    "                                   linecolor=\"black\",\n",
    "                                   showgrid=True,\n",
    "                                   gridcolor=\"#e8e8e8\",\n",
    "                                   gridwidth=0.5,\n",
    "                                   zeroline=True,\n",
    "                                   zerolinecolor=\"#e8e8e8\",\n",
    "                                   zerolinewidth=2),\n",
    "                      width=max(500, len(my_range) * 100),\n",
    "                      margin=dict(r=0),\n",
    "                      plot_bgcolor=\"white\",\n",
    "                      title_font = dict(size=20))\n",
    "\n",
    "    if not os.path.exists(\"images\"):\n",
    "        os.mkdir(\"images\")\n",
    "\n",
    "    fig.write_image(\"images/\" + category + \"_\" + exp + \"_waterfall.jpg\", scale=2)\n",
    "    \n",
    "    if online:\n",
    "        py.plot(fig, filename=exp)\n",
    "\n",
    "    fig.show()"
   ]
  },
  {
   "cell_type": "code",
   "execution_count": 25,
   "metadata": {},
   "outputs": [],
   "source": [
    "titles = {\"CodeRevHrs\": \"Income vs. 1-2 Hours of Code Review per Week\",\n",
    "          \"Age\": \"Income vs. 26-30 Years of Age\",\n",
    "          \"Ethnicity\": \"Income vs. White Developers\",\n",
    "          \"Gender\": \"Income vs. Male Developers\",\n",
    "          \"Sexuality\": \"Income vs. Straight / Heterosexual Developers\",\n",
    "          \"Dependents\": \"Income vs. No Dependents\"\n",
    "}"
   ]
  },
  {
   "cell_type": "code",
   "execution_count": 26,
   "metadata": {},
   "outputs": [],
   "source": [
    "for k in titles.keys():\n",
    "    controls[k][\"title\"] = titles[k]"
   ]
  },
  {
   "cell_type": "code",
   "execution_count": 33,
   "metadata": {},
   "outputs": [
    {
     "data": {
      "application/vnd.plotly.v1+json": {
       "config": {
        "plotlyServerURL": "https://plot.ly"
       },
       "data": [
        {
         "hoverinfo": "skip",
         "marker": {
          "color": "#d7eaf7"
         },
         "name": "Unadjusted",
         "showlegend": false,
         "type": "bar",
         "width": 0.28,
         "x": [
          1,
          2,
          3,
          4,
          5,
          6,
          7,
          8
         ],
         "y": [
          0.07367623107873333,
          0.11022599852910364,
          0.06076387734392985,
          0.1314225510778959,
          0.0006779893739883303,
          -0.07643762342808946,
          -0.07096401816962783,
          -0.11114690641015501
         ]
        },
        {
         "hoverinfo": "skip",
         "marker": {
          "color": "#ffcdcd"
         },
         "name": "Adjusted",
         "showlegend": false,
         "type": "bar",
         "width": 0.28,
         "x": [
          1,
          2,
          3,
          4,
          5,
          6,
          7,
          8
         ],
         "y": [
          0.13902009870807963,
          0.10324452089871361,
          0.09579993641150586,
          0.08057244130328844,
          0.038646467302887455,
          -0.003312076563664834,
          -0.004564835774669818,
          -0.02373360726631979
         ]
        },
        {
         "error_y": {
          "array": [
           0.05582745497761299,
           0.11700518827478623,
           0.15990477314754714,
           0.05152419201143421,
           0.04927785425194586,
           0.06142368207527216,
           0.10819735681178178,
           0.16413279394285996
          ],
          "arrayminus": [
           0.053068097245758894,
           0.10584982143728583,
           0.1389576172874588,
           0.04928001459775122,
           0.046965083734578084,
           0.05759330428813281,
           0.0969109204961297,
           0.13854880999164798
          ],
          "symmetric": false,
          "thickness": 2,
          "type": "data",
          "visible": true,
          "width": 5
         },
         "hovertemplate": "%{text}",
         "marker": {
          "color": "#3493d3",
          "size": 20
         },
         "mode": "markers",
         "name": "Unadjusted",
         "text": [
          "east_asian: +7.4%, 95% conf: [+2.1%, +13.0%]",
          "middle_eastern: +11.0%, 95% conf: [+0.4%, +22.7%]",
          "biracial: +6.1%, 95% conf: [-7.8%, +22.1%]",
          "south_asian: +13.1%, 95% conf: [+8.2%, +18.3%]",
          "hispanic_latino_: +0.1%, 95% conf: [-4.6%, +5.0%]",
          "black: -7.6%, 95% conf: [-13.4%, -1.5%]",
          "multiracial: -7.1%, 95% conf: [-16.8%, +3.7%]",
          "native_american_: -11.1%, 95% conf: [-25.0%, +5.3%]"
         ],
         "type": "scatter",
         "x": [
          0.8,
          1.8,
          2.8,
          3.8,
          4.8,
          5.8,
          6.8,
          7.8
         ],
         "y": [
          0.07367623107873333,
          0.11022599852910364,
          0.06076387734392985,
          0.1314225510778959,
          0.0006779893739883303,
          -0.07643762342808946,
          -0.07096401816962783,
          -0.11114690641015501
         ]
        },
        {
         "error_y": {
          "array": [
           0.044136485529907565,
           0.08364139322771091,
           0.11804444696495708,
           0.038317676441694815,
           0.03759173038661112,
           0.04878546139855067,
           0.08341716021465284,
           0.12840986520177633
          ],
          "arrayminus": [
           0.04249001761443183,
           0.07774707551965898,
           0.10656481114829486,
           0.037005443627582846,
           0.03627869559887231,
           0.04650896036237617,
           0.07696732230760739,
           0.113483235465065
          ],
          "symmetric": false,
          "thickness": 2,
          "type": "data",
          "visible": true,
          "width": 5
         },
         "hovertemplate": "%{text}",
         "marker": {
          "color": "red",
          "size": 20
         },
         "mode": "markers",
         "name": "Adjusted",
         "text": [
          "east_asian: +13.9%, 95% conf: [+9.7%, +18.3%]",
          "middle_eastern: +10.3%, 95% conf: [+2.5%, +18.7%]",
          "biracial: +9.6%, 95% conf: [-1.1%, +21.4%]",
          "south_asian: +8.1%, 95% conf: [+4.4%, +11.9%]",
          "hispanic_latino_: +3.9%, 95% conf: [+0.2%, +7.6%]",
          "black: -0.3%, 95% conf: [-5.0%, +4.5%]",
          "multiracial: -0.5%, 95% conf: [-8.2%, +7.9%]",
          "native_american_: -2.4%, 95% conf: [-13.7%, +10.5%]"
         ],
         "type": "scatter",
         "x": [
          1.2,
          2.2,
          3.2,
          4.2,
          5.2,
          6.2,
          7.2,
          8.2
         ],
         "y": [
          0.13902009870807963,
          0.10324452089871361,
          0.09579993641150586,
          0.08057244130328844,
          0.038646467302887455,
          -0.003312076563664834,
          -0.004564835774669818,
          -0.02373360726631979
         ]
        }
       ],
       "layout": {
        "autosize": true,
        "bargroupgap": 0.1,
        "barmode": "group",
        "legend": {
         "orientation": "h",
         "x": 0,
         "y": 1,
         "yanchor": "bottom"
        },
        "margin": {
         "r": 0
        },
        "plot_bgcolor": "white",
        "template": {
         "data": {
          "bar": [
           {
            "error_x": {
             "color": "#2a3f5f"
            },
            "error_y": {
             "color": "#2a3f5f"
            },
            "marker": {
             "line": {
              "color": "#E5ECF6",
              "width": 0.5
             }
            },
            "type": "bar"
           }
          ],
          "barpolar": [
           {
            "marker": {
             "line": {
              "color": "#E5ECF6",
              "width": 0.5
             }
            },
            "type": "barpolar"
           }
          ],
          "carpet": [
           {
            "aaxis": {
             "endlinecolor": "#2a3f5f",
             "gridcolor": "white",
             "linecolor": "white",
             "minorgridcolor": "white",
             "startlinecolor": "#2a3f5f"
            },
            "baxis": {
             "endlinecolor": "#2a3f5f",
             "gridcolor": "white",
             "linecolor": "white",
             "minorgridcolor": "white",
             "startlinecolor": "#2a3f5f"
            },
            "type": "carpet"
           }
          ],
          "choropleth": [
           {
            "colorbar": {
             "outlinewidth": 0,
             "ticks": ""
            },
            "type": "choropleth"
           }
          ],
          "contour": [
           {
            "colorbar": {
             "outlinewidth": 0,
             "ticks": ""
            },
            "colorscale": [
             [
              0,
              "#0d0887"
             ],
             [
              0.1111111111111111,
              "#46039f"
             ],
             [
              0.2222222222222222,
              "#7201a8"
             ],
             [
              0.3333333333333333,
              "#9c179e"
             ],
             [
              0.4444444444444444,
              "#bd3786"
             ],
             [
              0.5555555555555556,
              "#d8576b"
             ],
             [
              0.6666666666666666,
              "#ed7953"
             ],
             [
              0.7777777777777778,
              "#fb9f3a"
             ],
             [
              0.8888888888888888,
              "#fdca26"
             ],
             [
              1,
              "#f0f921"
             ]
            ],
            "type": "contour"
           }
          ],
          "contourcarpet": [
           {
            "colorbar": {
             "outlinewidth": 0,
             "ticks": ""
            },
            "type": "contourcarpet"
           }
          ],
          "heatmap": [
           {
            "colorbar": {
             "outlinewidth": 0,
             "ticks": ""
            },
            "colorscale": [
             [
              0,
              "#0d0887"
             ],
             [
              0.1111111111111111,
              "#46039f"
             ],
             [
              0.2222222222222222,
              "#7201a8"
             ],
             [
              0.3333333333333333,
              "#9c179e"
             ],
             [
              0.4444444444444444,
              "#bd3786"
             ],
             [
              0.5555555555555556,
              "#d8576b"
             ],
             [
              0.6666666666666666,
              "#ed7953"
             ],
             [
              0.7777777777777778,
              "#fb9f3a"
             ],
             [
              0.8888888888888888,
              "#fdca26"
             ],
             [
              1,
              "#f0f921"
             ]
            ],
            "type": "heatmap"
           }
          ],
          "heatmapgl": [
           {
            "colorbar": {
             "outlinewidth": 0,
             "ticks": ""
            },
            "colorscale": [
             [
              0,
              "#0d0887"
             ],
             [
              0.1111111111111111,
              "#46039f"
             ],
             [
              0.2222222222222222,
              "#7201a8"
             ],
             [
              0.3333333333333333,
              "#9c179e"
             ],
             [
              0.4444444444444444,
              "#bd3786"
             ],
             [
              0.5555555555555556,
              "#d8576b"
             ],
             [
              0.6666666666666666,
              "#ed7953"
             ],
             [
              0.7777777777777778,
              "#fb9f3a"
             ],
             [
              0.8888888888888888,
              "#fdca26"
             ],
             [
              1,
              "#f0f921"
             ]
            ],
            "type": "heatmapgl"
           }
          ],
          "histogram": [
           {
            "marker": {
             "colorbar": {
              "outlinewidth": 0,
              "ticks": ""
             }
            },
            "type": "histogram"
           }
          ],
          "histogram2d": [
           {
            "colorbar": {
             "outlinewidth": 0,
             "ticks": ""
            },
            "colorscale": [
             [
              0,
              "#0d0887"
             ],
             [
              0.1111111111111111,
              "#46039f"
             ],
             [
              0.2222222222222222,
              "#7201a8"
             ],
             [
              0.3333333333333333,
              "#9c179e"
             ],
             [
              0.4444444444444444,
              "#bd3786"
             ],
             [
              0.5555555555555556,
              "#d8576b"
             ],
             [
              0.6666666666666666,
              "#ed7953"
             ],
             [
              0.7777777777777778,
              "#fb9f3a"
             ],
             [
              0.8888888888888888,
              "#fdca26"
             ],
             [
              1,
              "#f0f921"
             ]
            ],
            "type": "histogram2d"
           }
          ],
          "histogram2dcontour": [
           {
            "colorbar": {
             "outlinewidth": 0,
             "ticks": ""
            },
            "colorscale": [
             [
              0,
              "#0d0887"
             ],
             [
              0.1111111111111111,
              "#46039f"
             ],
             [
              0.2222222222222222,
              "#7201a8"
             ],
             [
              0.3333333333333333,
              "#9c179e"
             ],
             [
              0.4444444444444444,
              "#bd3786"
             ],
             [
              0.5555555555555556,
              "#d8576b"
             ],
             [
              0.6666666666666666,
              "#ed7953"
             ],
             [
              0.7777777777777778,
              "#fb9f3a"
             ],
             [
              0.8888888888888888,
              "#fdca26"
             ],
             [
              1,
              "#f0f921"
             ]
            ],
            "type": "histogram2dcontour"
           }
          ],
          "mesh3d": [
           {
            "colorbar": {
             "outlinewidth": 0,
             "ticks": ""
            },
            "type": "mesh3d"
           }
          ],
          "parcoords": [
           {
            "line": {
             "colorbar": {
              "outlinewidth": 0,
              "ticks": ""
             }
            },
            "type": "parcoords"
           }
          ],
          "pie": [
           {
            "automargin": true,
            "type": "pie"
           }
          ],
          "scatter": [
           {
            "marker": {
             "colorbar": {
              "outlinewidth": 0,
              "ticks": ""
             }
            },
            "type": "scatter"
           }
          ],
          "scatter3d": [
           {
            "line": {
             "colorbar": {
              "outlinewidth": 0,
              "ticks": ""
             }
            },
            "marker": {
             "colorbar": {
              "outlinewidth": 0,
              "ticks": ""
             }
            },
            "type": "scatter3d"
           }
          ],
          "scattercarpet": [
           {
            "marker": {
             "colorbar": {
              "outlinewidth": 0,
              "ticks": ""
             }
            },
            "type": "scattercarpet"
           }
          ],
          "scattergeo": [
           {
            "marker": {
             "colorbar": {
              "outlinewidth": 0,
              "ticks": ""
             }
            },
            "type": "scattergeo"
           }
          ],
          "scattergl": [
           {
            "marker": {
             "colorbar": {
              "outlinewidth": 0,
              "ticks": ""
             }
            },
            "type": "scattergl"
           }
          ],
          "scattermapbox": [
           {
            "marker": {
             "colorbar": {
              "outlinewidth": 0,
              "ticks": ""
             }
            },
            "type": "scattermapbox"
           }
          ],
          "scatterpolar": [
           {
            "marker": {
             "colorbar": {
              "outlinewidth": 0,
              "ticks": ""
             }
            },
            "type": "scatterpolar"
           }
          ],
          "scatterpolargl": [
           {
            "marker": {
             "colorbar": {
              "outlinewidth": 0,
              "ticks": ""
             }
            },
            "type": "scatterpolargl"
           }
          ],
          "scatterternary": [
           {
            "marker": {
             "colorbar": {
              "outlinewidth": 0,
              "ticks": ""
             }
            },
            "type": "scatterternary"
           }
          ],
          "surface": [
           {
            "colorbar": {
             "outlinewidth": 0,
             "ticks": ""
            },
            "colorscale": [
             [
              0,
              "#0d0887"
             ],
             [
              0.1111111111111111,
              "#46039f"
             ],
             [
              0.2222222222222222,
              "#7201a8"
             ],
             [
              0.3333333333333333,
              "#9c179e"
             ],
             [
              0.4444444444444444,
              "#bd3786"
             ],
             [
              0.5555555555555556,
              "#d8576b"
             ],
             [
              0.6666666666666666,
              "#ed7953"
             ],
             [
              0.7777777777777778,
              "#fb9f3a"
             ],
             [
              0.8888888888888888,
              "#fdca26"
             ],
             [
              1,
              "#f0f921"
             ]
            ],
            "type": "surface"
           }
          ],
          "table": [
           {
            "cells": {
             "fill": {
              "color": "#EBF0F8"
             },
             "line": {
              "color": "white"
             }
            },
            "header": {
             "fill": {
              "color": "#C8D4E3"
             },
             "line": {
              "color": "white"
             }
            },
            "type": "table"
           }
          ]
         },
         "layout": {
          "annotationdefaults": {
           "arrowcolor": "#2a3f5f",
           "arrowhead": 0,
           "arrowwidth": 1
          },
          "coloraxis": {
           "colorbar": {
            "outlinewidth": 0,
            "ticks": ""
           }
          },
          "colorscale": {
           "diverging": [
            [
             0,
             "#8e0152"
            ],
            [
             0.1,
             "#c51b7d"
            ],
            [
             0.2,
             "#de77ae"
            ],
            [
             0.3,
             "#f1b6da"
            ],
            [
             0.4,
             "#fde0ef"
            ],
            [
             0.5,
             "#f7f7f7"
            ],
            [
             0.6,
             "#e6f5d0"
            ],
            [
             0.7,
             "#b8e186"
            ],
            [
             0.8,
             "#7fbc41"
            ],
            [
             0.9,
             "#4d9221"
            ],
            [
             1,
             "#276419"
            ]
           ],
           "sequential": [
            [
             0,
             "#0d0887"
            ],
            [
             0.1111111111111111,
             "#46039f"
            ],
            [
             0.2222222222222222,
             "#7201a8"
            ],
            [
             0.3333333333333333,
             "#9c179e"
            ],
            [
             0.4444444444444444,
             "#bd3786"
            ],
            [
             0.5555555555555556,
             "#d8576b"
            ],
            [
             0.6666666666666666,
             "#ed7953"
            ],
            [
             0.7777777777777778,
             "#fb9f3a"
            ],
            [
             0.8888888888888888,
             "#fdca26"
            ],
            [
             1,
             "#f0f921"
            ]
           ],
           "sequentialminus": [
            [
             0,
             "#0d0887"
            ],
            [
             0.1111111111111111,
             "#46039f"
            ],
            [
             0.2222222222222222,
             "#7201a8"
            ],
            [
             0.3333333333333333,
             "#9c179e"
            ],
            [
             0.4444444444444444,
             "#bd3786"
            ],
            [
             0.5555555555555556,
             "#d8576b"
            ],
            [
             0.6666666666666666,
             "#ed7953"
            ],
            [
             0.7777777777777778,
             "#fb9f3a"
            ],
            [
             0.8888888888888888,
             "#fdca26"
            ],
            [
             1,
             "#f0f921"
            ]
           ]
          },
          "colorway": [
           "#636efa",
           "#EF553B",
           "#00cc96",
           "#ab63fa",
           "#FFA15A",
           "#19d3f3",
           "#FF6692",
           "#B6E880",
           "#FF97FF",
           "#FECB52"
          ],
          "font": {
           "color": "#2a3f5f"
          },
          "geo": {
           "bgcolor": "white",
           "lakecolor": "white",
           "landcolor": "#E5ECF6",
           "showlakes": true,
           "showland": true,
           "subunitcolor": "white"
          },
          "hoverlabel": {
           "align": "left"
          },
          "hovermode": "closest",
          "mapbox": {
           "style": "light"
          },
          "paper_bgcolor": "white",
          "plot_bgcolor": "#E5ECF6",
          "polar": {
           "angularaxis": {
            "gridcolor": "white",
            "linecolor": "white",
            "ticks": ""
           },
           "bgcolor": "#E5ECF6",
           "radialaxis": {
            "gridcolor": "white",
            "linecolor": "white",
            "ticks": ""
           }
          },
          "scene": {
           "xaxis": {
            "backgroundcolor": "#E5ECF6",
            "gridcolor": "white",
            "gridwidth": 2,
            "linecolor": "white",
            "showbackground": true,
            "ticks": "",
            "zerolinecolor": "white"
           },
           "yaxis": {
            "backgroundcolor": "#E5ECF6",
            "gridcolor": "white",
            "gridwidth": 2,
            "linecolor": "white",
            "showbackground": true,
            "ticks": "",
            "zerolinecolor": "white"
           },
           "zaxis": {
            "backgroundcolor": "#E5ECF6",
            "gridcolor": "white",
            "gridwidth": 2,
            "linecolor": "white",
            "showbackground": true,
            "ticks": "",
            "zerolinecolor": "white"
           }
          },
          "shapedefaults": {
           "line": {
            "color": "#2a3f5f"
           }
          },
          "ternary": {
           "aaxis": {
            "gridcolor": "white",
            "linecolor": "white",
            "ticks": ""
           },
           "baxis": {
            "gridcolor": "white",
            "linecolor": "white",
            "ticks": ""
           },
           "bgcolor": "#E5ECF6",
           "caxis": {
            "gridcolor": "white",
            "linecolor": "white",
            "ticks": ""
           }
          },
          "title": {
           "x": 0.05
          },
          "xaxis": {
           "automargin": true,
           "gridcolor": "white",
           "linecolor": "white",
           "ticks": "",
           "title": {
            "standoff": 15
           },
           "zerolinecolor": "white",
           "zerolinewidth": 2
          },
          "yaxis": {
           "automargin": true,
           "gridcolor": "white",
           "linecolor": "white",
           "ticks": "",
           "title": {
            "standoff": 15
           },
           "zerolinecolor": "white",
           "zerolinewidth": 2
          }
         }
        },
        "title": {
         "font": {
          "size": 20
         },
         "text": "Income vs. White Developers"
        },
        "xaxis": {
         "linecolor": "black",
         "linewidth": 0.5,
         "range": [
          0.5,
          8.5
         ],
         "showline": true,
         "tickangle": 0,
         "tickmode": "array",
         "ticks": "outside",
         "ticktext": [
          "<br>east_asian",
          "middle_eastern",
          "<br>biracial",
          "south_asian",
          "<br>hispanic_latino_",
          "black",
          "<br>multiracial",
          "native_american_"
         ],
         "tickvals": [
          1,
          2,
          3,
          4,
          5,
          6,
          7,
          8
         ],
         "type": "linear"
        },
        "yaxis": {
         "autorange": true,
         "gridcolor": "#e8e8e8",
         "gridwidth": 0.5,
         "linecolor": "black",
         "linewidth": 0.5,
         "range": [
          -0.27619165546878593,
          0.2537271258708728
         ],
         "showgrid": true,
         "showline": true,
         "tickformat": ".1%",
         "ticks": "outside",
         "title": {
          "text": "Pay Gap vs. white"
         },
         "type": "linear",
         "zeroline": true,
         "zerolinecolor": "#e8e8e8",
         "zerolinewidth": 2
        }
       }
      },
      "image/png": "[encoded data removed]",
      "text/html": [
       "<div>\n",
       "        \n",
       "        \n",
       "            <div id=\"8156b21a-2d81-4294-b174-b749342a779c\" class=\"plotly-graph-div\" style=\"height:525px; width:100%;\"></div>\n",
       "            <script type=\"text/javascript\">\n",
       "                require([\"plotly\"], function(Plotly) {\n",
       "                    window.PLOTLYENV=window.PLOTLYENV || {};\n",
       "                    \n",
       "                if (document.getElementById(\"8156b21a-2d81-4294-b174-b749342a779c\")) {\n",
       "                    Plotly.newPlot(\n",
       "                        '8156b21a-2d81-4294-b174-b749342a779c',\n",
       "                        [{\"hoverinfo\": \"skip\", \"marker\": {\"color\": \"#d7eaf7\"}, \"name\": \"Unadjusted\", \"showlegend\": false, \"type\": \"bar\", \"width\": 0.28, \"x\": [1, 2, 3, 4, 5, 6, 7, 8], \"y\": [0.07367623107873333, 0.11022599852910364, 0.06076387734392985, 0.1314225510778959, 0.0006779893739883303, -0.07643762342808946, -0.07096401816962783, -0.11114690641015501]}, {\"hoverinfo\": \"skip\", \"marker\": {\"color\": \"#ffcdcd\"}, \"name\": \"Adjusted\", \"showlegend\": false, \"type\": \"bar\", \"width\": 0.28, \"x\": [1, 2, 3, 4, 5, 6, 7, 8], \"y\": [0.13902009870807963, 0.10324452089871361, 0.09579993641150586, 0.08057244130328844, 0.038646467302887455, -0.003312076563664834, -0.004564835774669818, -0.02373360726631979]}, {\"error_y\": {\"array\": [0.05582745497761299, 0.11700518827478623, 0.15990477314754714, 0.05152419201143421, 0.04927785425194586, 0.06142368207527216, 0.10819735681178178, 0.16413279394285996], \"arrayminus\": [0.053068097245758894, 0.10584982143728583, 0.1389576172874588, 0.04928001459775122, 0.046965083734578084, 0.05759330428813281, 0.0969109204961297, 0.13854880999164798], \"symmetric\": false, \"thickness\": 2, \"type\": \"data\", \"visible\": true, \"width\": 5}, \"hovertemplate\": \"%{text}\", \"marker\": {\"color\": \"#3493d3\", \"size\": 20}, \"mode\": \"markers\", \"name\": \"Unadjusted\", \"text\": [\"east_asian: +7.4%, 95% conf: [+2.1%, +13.0%]\", \"middle_eastern: +11.0%, 95% conf: [+0.4%, +22.7%]\", \"biracial: +6.1%, 95% conf: [-7.8%, +22.1%]\", \"south_asian: +13.1%, 95% conf: [+8.2%, +18.3%]\", \"hispanic_latino_: +0.1%, 95% conf: [-4.6%, +5.0%]\", \"black: -7.6%, 95% conf: [-13.4%, -1.5%]\", \"multiracial: -7.1%, 95% conf: [-16.8%, +3.7%]\", \"native_american_: -11.1%, 95% conf: [-25.0%, +5.3%]\"], \"type\": \"scatter\", \"x\": [0.8, 1.8, 2.8, 3.8, 4.8, 5.8, 6.8, 7.8], \"y\": [0.07367623107873333, 0.11022599852910364, 0.06076387734392985, 0.1314225510778959, 0.0006779893739883303, -0.07643762342808946, -0.07096401816962783, -0.11114690641015501]}, {\"error_y\": {\"array\": [0.044136485529907565, 0.08364139322771091, 0.11804444696495708, 0.038317676441694815, 0.03759173038661112, 0.04878546139855067, 0.08341716021465284, 0.12840986520177633], \"arrayminus\": [0.04249001761443183, 0.07774707551965898, 0.10656481114829486, 0.037005443627582846, 0.03627869559887231, 0.04650896036237617, 0.07696732230760739, 0.113483235465065], \"symmetric\": false, \"thickness\": 2, \"type\": \"data\", \"visible\": true, \"width\": 5}, \"hovertemplate\": \"%{text}\", \"marker\": {\"color\": \"red\", \"size\": 20}, \"mode\": \"markers\", \"name\": \"Adjusted\", \"text\": [\"east_asian: +13.9%, 95% conf: [+9.7%, +18.3%]\", \"middle_eastern: +10.3%, 95% conf: [+2.5%, +18.7%]\", \"biracial: +9.6%, 95% conf: [-1.1%, +21.4%]\", \"south_asian: +8.1%, 95% conf: [+4.4%, +11.9%]\", \"hispanic_latino_: +3.9%, 95% conf: [+0.2%, +7.6%]\", \"black: -0.3%, 95% conf: [-5.0%, +4.5%]\", \"multiracial: -0.5%, 95% conf: [-8.2%, +7.9%]\", \"native_american_: -2.4%, 95% conf: [-13.7%, +10.5%]\"], \"type\": \"scatter\", \"x\": [1.2, 2.2, 3.2, 4.2, 5.2, 6.2, 7.2, 8.2], \"y\": [0.13902009870807963, 0.10324452089871361, 0.09579993641150586, 0.08057244130328844, 0.038646467302887455, -0.003312076563664834, -0.004564835774669818, -0.02373360726631979]}],\n",
       "                        {\"bargroupgap\": 0.1, \"barmode\": \"group\", \"legend\": {\"orientation\": \"h\", \"x\": 0, \"y\": 1, \"yanchor\": \"bottom\"}, \"margin\": {\"r\": 0}, \"plot_bgcolor\": \"white\", \"template\": {\"data\": {\"bar\": [{\"error_x\": {\"color\": \"#2a3f5f\"}, \"error_y\": {\"color\": \"#2a3f5f\"}, \"marker\": {\"line\": {\"color\": \"#E5ECF6\", \"width\": 0.5}}, \"type\": \"bar\"}], \"barpolar\": [{\"marker\": {\"line\": {\"color\": \"#E5ECF6\", \"width\": 0.5}}, \"type\": \"barpolar\"}], \"carpet\": [{\"aaxis\": {\"endlinecolor\": \"#2a3f5f\", \"gridcolor\": \"white\", \"linecolor\": \"white\", \"minorgridcolor\": \"white\", \"startlinecolor\": \"#2a3f5f\"}, \"baxis\": {\"endlinecolor\": \"#2a3f5f\", \"gridcolor\": \"white\", \"linecolor\": \"white\", \"minorgridcolor\": \"white\", \"startlinecolor\": \"#2a3f5f\"}, \"type\": \"carpet\"}], \"choropleth\": [{\"colorbar\": {\"outlinewidth\": 0, \"ticks\": \"\"}, \"type\": \"choropleth\"}], \"contour\": [{\"colorbar\": {\"outlinewidth\": 0, \"ticks\": \"\"}, \"colorscale\": [[0.0, \"#0d0887\"], [0.1111111111111111, \"#46039f\"], [0.2222222222222222, \"#7201a8\"], [0.3333333333333333, \"#9c179e\"], [0.4444444444444444, \"#bd3786\"], [0.5555555555555556, \"#d8576b\"], [0.6666666666666666, \"#ed7953\"], [0.7777777777777778, \"#fb9f3a\"], [0.8888888888888888, \"#fdca26\"], [1.0, \"#f0f921\"]], \"type\": \"contour\"}], \"contourcarpet\": [{\"colorbar\": {\"outlinewidth\": 0, \"ticks\": \"\"}, \"type\": \"contourcarpet\"}], \"heatmap\": [{\"colorbar\": {\"outlinewidth\": 0, \"ticks\": \"\"}, \"colorscale\": [[0.0, \"#0d0887\"], [0.1111111111111111, \"#46039f\"], [0.2222222222222222, \"#7201a8\"], [0.3333333333333333, \"#9c179e\"], [0.4444444444444444, \"#bd3786\"], [0.5555555555555556, \"#d8576b\"], [0.6666666666666666, \"#ed7953\"], [0.7777777777777778, \"#fb9f3a\"], [0.8888888888888888, \"#fdca26\"], [1.0, \"#f0f921\"]], \"type\": \"heatmap\"}], \"heatmapgl\": [{\"colorbar\": {\"outlinewidth\": 0, \"ticks\": \"\"}, \"colorscale\": [[0.0, \"#0d0887\"], [0.1111111111111111, \"#46039f\"], [0.2222222222222222, \"#7201a8\"], [0.3333333333333333, \"#9c179e\"], [0.4444444444444444, \"#bd3786\"], [0.5555555555555556, \"#d8576b\"], [0.6666666666666666, \"#ed7953\"], [0.7777777777777778, \"#fb9f3a\"], [0.8888888888888888, \"#fdca26\"], [1.0, \"#f0f921\"]], \"type\": \"heatmapgl\"}], \"histogram\": [{\"marker\": {\"colorbar\": {\"outlinewidth\": 0, \"ticks\": \"\"}}, \"type\": \"histogram\"}], \"histogram2d\": [{\"colorbar\": {\"outlinewidth\": 0, \"ticks\": \"\"}, \"colorscale\": [[0.0, \"#0d0887\"], [0.1111111111111111, \"#46039f\"], [0.2222222222222222, \"#7201a8\"], [0.3333333333333333, \"#9c179e\"], [0.4444444444444444, \"#bd3786\"], [0.5555555555555556, \"#d8576b\"], [0.6666666666666666, \"#ed7953\"], [0.7777777777777778, \"#fb9f3a\"], [0.8888888888888888, \"#fdca26\"], [1.0, \"#f0f921\"]], \"type\": \"histogram2d\"}], \"histogram2dcontour\": [{\"colorbar\": {\"outlinewidth\": 0, \"ticks\": \"\"}, \"colorscale\": [[0.0, \"#0d0887\"], [0.1111111111111111, \"#46039f\"], [0.2222222222222222, \"#7201a8\"], [0.3333333333333333, \"#9c179e\"], [0.4444444444444444, \"#bd3786\"], [0.5555555555555556, \"#d8576b\"], [0.6666666666666666, \"#ed7953\"], [0.7777777777777778, \"#fb9f3a\"], [0.8888888888888888, \"#fdca26\"], [1.0, \"#f0f921\"]], \"type\": \"histogram2dcontour\"}], \"mesh3d\": [{\"colorbar\": {\"outlinewidth\": 0, \"ticks\": \"\"}, \"type\": \"mesh3d\"}], \"parcoords\": [{\"line\": {\"colorbar\": {\"outlinewidth\": 0, \"ticks\": \"\"}}, \"type\": \"parcoords\"}], \"pie\": [{\"automargin\": true, \"type\": \"pie\"}], \"scatter\": [{\"marker\": {\"colorbar\": {\"outlinewidth\": 0, \"ticks\": \"\"}}, \"type\": \"scatter\"}], \"scatter3d\": [{\"line\": {\"colorbar\": {\"outlinewidth\": 0, \"ticks\": \"\"}}, \"marker\": {\"colorbar\": {\"outlinewidth\": 0, \"ticks\": \"\"}}, \"type\": \"scatter3d\"}], \"scattercarpet\": [{\"marker\": {\"colorbar\": {\"outlinewidth\": 0, \"ticks\": \"\"}}, \"type\": \"scattercarpet\"}], \"scattergeo\": [{\"marker\": {\"colorbar\": {\"outlinewidth\": 0, \"ticks\": \"\"}}, \"type\": \"scattergeo\"}], \"scattergl\": [{\"marker\": {\"colorbar\": {\"outlinewidth\": 0, \"ticks\": \"\"}}, \"type\": \"scattergl\"}], \"scattermapbox\": [{\"marker\": {\"colorbar\": {\"outlinewidth\": 0, \"ticks\": \"\"}}, \"type\": \"scattermapbox\"}], \"scatterpolar\": [{\"marker\": {\"colorbar\": {\"outlinewidth\": 0, \"ticks\": \"\"}}, \"type\": \"scatterpolar\"}], \"scatterpolargl\": [{\"marker\": {\"colorbar\": {\"outlinewidth\": 0, \"ticks\": \"\"}}, \"type\": \"scatterpolargl\"}], \"scatterternary\": [{\"marker\": {\"colorbar\": {\"outlinewidth\": 0, \"ticks\": \"\"}}, \"type\": \"scatterternary\"}], \"surface\": [{\"colorbar\": {\"outlinewidth\": 0, \"ticks\": \"\"}, \"colorscale\": [[0.0, \"#0d0887\"], [0.1111111111111111, \"#46039f\"], [0.2222222222222222, \"#7201a8\"], [0.3333333333333333, \"#9c179e\"], [0.4444444444444444, \"#bd3786\"], [0.5555555555555556, \"#d8576b\"], [0.6666666666666666, \"#ed7953\"], [0.7777777777777778, \"#fb9f3a\"], [0.8888888888888888, \"#fdca26\"], [1.0, \"#f0f921\"]], \"type\": \"surface\"}], \"table\": [{\"cells\": {\"fill\": {\"color\": \"#EBF0F8\"}, \"line\": {\"color\": \"white\"}}, \"header\": {\"fill\": {\"color\": \"#C8D4E3\"}, \"line\": {\"color\": \"white\"}}, \"type\": \"table\"}]}, \"layout\": {\"annotationdefaults\": {\"arrowcolor\": \"#2a3f5f\", \"arrowhead\": 0, \"arrowwidth\": 1}, \"coloraxis\": {\"colorbar\": {\"outlinewidth\": 0, \"ticks\": \"\"}}, \"colorscale\": {\"diverging\": [[0, \"#8e0152\"], [0.1, \"#c51b7d\"], [0.2, \"#de77ae\"], [0.3, \"#f1b6da\"], [0.4, \"#fde0ef\"], [0.5, \"#f7f7f7\"], [0.6, \"#e6f5d0\"], [0.7, \"#b8e186\"], [0.8, \"#7fbc41\"], [0.9, \"#4d9221\"], [1, \"#276419\"]], \"sequential\": [[0.0, \"#0d0887\"], [0.1111111111111111, \"#46039f\"], [0.2222222222222222, \"#7201a8\"], [0.3333333333333333, \"#9c179e\"], [0.4444444444444444, \"#bd3786\"], [0.5555555555555556, \"#d8576b\"], [0.6666666666666666, \"#ed7953\"], [0.7777777777777778, \"#fb9f3a\"], [0.8888888888888888, \"#fdca26\"], [1.0, \"#f0f921\"]], \"sequentialminus\": [[0.0, \"#0d0887\"], [0.1111111111111111, \"#46039f\"], [0.2222222222222222, \"#7201a8\"], [0.3333333333333333, \"#9c179e\"], [0.4444444444444444, \"#bd3786\"], [0.5555555555555556, \"#d8576b\"], [0.6666666666666666, \"#ed7953\"], [0.7777777777777778, \"#fb9f3a\"], [0.8888888888888888, \"#fdca26\"], [1.0, \"#f0f921\"]]}, \"colorway\": [\"#636efa\", \"#EF553B\", \"#00cc96\", \"#ab63fa\", \"#FFA15A\", \"#19d3f3\", \"#FF6692\", \"#B6E880\", \"#FF97FF\", \"#FECB52\"], \"font\": {\"color\": \"#2a3f5f\"}, \"geo\": {\"bgcolor\": \"white\", \"lakecolor\": \"white\", \"landcolor\": \"#E5ECF6\", \"showlakes\": true, \"showland\": true, \"subunitcolor\": \"white\"}, \"hoverlabel\": {\"align\": \"left\"}, \"hovermode\": \"closest\", \"mapbox\": {\"style\": \"light\"}, \"paper_bgcolor\": \"white\", \"plot_bgcolor\": \"#E5ECF6\", \"polar\": {\"angularaxis\": {\"gridcolor\": \"white\", \"linecolor\": \"white\", \"ticks\": \"\"}, \"bgcolor\": \"#E5ECF6\", \"radialaxis\": {\"gridcolor\": \"white\", \"linecolor\": \"white\", \"ticks\": \"\"}}, \"scene\": {\"xaxis\": {\"backgroundcolor\": \"#E5ECF6\", \"gridcolor\": \"white\", \"gridwidth\": 2, \"linecolor\": \"white\", \"showbackground\": true, \"ticks\": \"\", \"zerolinecolor\": \"white\"}, \"yaxis\": {\"backgroundcolor\": \"#E5ECF6\", \"gridcolor\": \"white\", \"gridwidth\": 2, \"linecolor\": \"white\", \"showbackground\": true, \"ticks\": \"\", \"zerolinecolor\": \"white\"}, \"zaxis\": {\"backgroundcolor\": \"#E5ECF6\", \"gridcolor\": \"white\", \"gridwidth\": 2, \"linecolor\": \"white\", \"showbackground\": true, \"ticks\": \"\", \"zerolinecolor\": \"white\"}}, \"shapedefaults\": {\"line\": {\"color\": \"#2a3f5f\"}}, \"ternary\": {\"aaxis\": {\"gridcolor\": \"white\", \"linecolor\": \"white\", \"ticks\": \"\"}, \"baxis\": {\"gridcolor\": \"white\", \"linecolor\": \"white\", \"ticks\": \"\"}, \"bgcolor\": \"#E5ECF6\", \"caxis\": {\"gridcolor\": \"white\", \"linecolor\": \"white\", \"ticks\": \"\"}}, \"title\": {\"x\": 0.05}, \"xaxis\": {\"automargin\": true, \"gridcolor\": \"white\", \"linecolor\": \"white\", \"ticks\": \"\", \"title\": {\"standoff\": 15}, \"zerolinecolor\": \"white\", \"zerolinewidth\": 2}, \"yaxis\": {\"automargin\": true, \"gridcolor\": \"white\", \"linecolor\": \"white\", \"ticks\": \"\", \"title\": {\"standoff\": 15}, \"zerolinecolor\": \"white\", \"zerolinewidth\": 2}}}, \"title\": {\"font\": {\"size\": 20}, \"text\": \"Income vs. White Developers\"}, \"xaxis\": {\"linecolor\": \"black\", \"linewidth\": 0.5, \"range\": [0.5, 8.5], \"showline\": true, \"tickangle\": 0, \"tickmode\": \"array\", \"ticks\": \"outside\", \"ticktext\": [\"<br>east_asian\", \"middle_eastern\", \"<br>biracial\", \"south_asian\", \"<br>hispanic_latino_\", \"black\", \"<br>multiracial\", \"native_american_\"], \"tickvals\": [1, 2, 3, 4, 5, 6, 7, 8]}, \"yaxis\": {\"gridcolor\": \"#e8e8e8\", \"gridwidth\": 0.5, \"linecolor\": \"black\", \"linewidth\": 0.5, \"showgrid\": true, \"showline\": true, \"tickformat\": \".1%\", \"ticks\": \"outside\", \"title\": {\"text\": \"Pay Gap vs. white\"}, \"zeroline\": true, \"zerolinecolor\": \"#e8e8e8\", \"zerolinewidth\": 2}},\n",
       "                        {\"responsive\": true}\n",
       "                    ).then(function(){\n",
       "                            \n",
       "var gd = document.getElementById('8156b21a-2d81-4294-b174-b749342a779c');\n",
       "var x = new MutationObserver(function (mutations, observer) {{\n",
       "        var display = window.getComputedStyle(gd).display;\n",
       "        if (!display || display === 'none') {{\n",
       "            console.log([gd, 'removed!']);\n",
       "            Plotly.purge(gd);\n",
       "            observer.disconnect();\n",
       "        }}\n",
       "}});\n",
       "\n",
       "// Listen for the removal of the full notebook cells\n",
       "var notebookContainer = gd.closest('#notebook-container');\n",
       "if (notebookContainer) {{\n",
       "    x.observe(notebookContainer, {childList: true});\n",
       "}}\n",
       "\n",
       "// Listen for the clearing of the current output cell\n",
       "var outputEl = gd.closest('.output');\n",
       "if (outputEl) {{\n",
       "    x.observe(outputEl, {childList: true});\n",
       "}}\n",
       "\n",
       "                        })\n",
       "                };\n",
       "                });\n",
       "            </script>\n",
       "        </div>"
      ]
     },
     "metadata": {},
     "output_type": "display_data"
    }
   ],
   "source": [
    "test, est = output_graph(data_2019, controls, True, \"Ethnicity\", False)"
   ]
  },
  {
   "cell_type": "code",
   "execution_count": 35,
   "metadata": {},
   "outputs": [
    {
     "data": {
      "application/vnd.plotly.v1+json": {
       "config": {
        "plotlyServerURL": "https://plot.ly"
       },
       "data": [
        {
         "connector": {
          "line": {
           "color": "grey"
          }
         },
         "decreasing": {
          "marker": {
           "color": "#ff4747"
          }
         },
         "hovertemplate": "%{text}",
         "measure": [
          "absolute",
          "relative",
          "relative",
          "relative",
          "relative",
          "relative",
          "relative",
          "total"
         ],
         "name": "black",
         "orientation": "v",
         "text": [
          "-0.3%",
          "-5.8%",
          "-1.1%",
          "-1.1%",
          "-0.8%",
          "-0.6%",
          "+2.0%",
          "-7.6%"
         ],
         "textposition": "outside",
         "totals": {
          "marker": {
           "color": "#3493d3"
          }
         },
         "type": "waterfall",
         "x": [
          "<br>Adjusted",
          "YearsCodePro",
          "<br>ImpSyn",
          "YearsCode",
          "<br>Age",
          "WorkWeekHrs",
          "<br>Other",
          "Unadjusted"
         ],
         "y": [
          -0.003312076563664834,
          -0.057625036417845665,
          -0.011040898013755629,
          -0.01084402243587701,
          -0.007644016913985974,
          -0.006275930260538409,
          0.02030435717754242,
          -0.0764376234281251
         ]
        }
       ],
       "layout": {
        "autosize": true,
        "margin": {
         "r": 0
        },
        "plot_bgcolor": "white",
        "template": {
         "data": {
          "bar": [
           {
            "error_x": {
             "color": "#2a3f5f"
            },
            "error_y": {
             "color": "#2a3f5f"
            },
            "marker": {
             "line": {
              "color": "#E5ECF6",
              "width": 0.5
             }
            },
            "type": "bar"
           }
          ],
          "barpolar": [
           {
            "marker": {
             "line": {
              "color": "#E5ECF6",
              "width": 0.5
             }
            },
            "type": "barpolar"
           }
          ],
          "carpet": [
           {
            "aaxis": {
             "endlinecolor": "#2a3f5f",
             "gridcolor": "white",
             "linecolor": "white",
             "minorgridcolor": "white",
             "startlinecolor": "#2a3f5f"
            },
            "baxis": {
             "endlinecolor": "#2a3f5f",
             "gridcolor": "white",
             "linecolor": "white",
             "minorgridcolor": "white",
             "startlinecolor": "#2a3f5f"
            },
            "type": "carpet"
           }
          ],
          "choropleth": [
           {
            "colorbar": {
             "outlinewidth": 0,
             "ticks": ""
            },
            "type": "choropleth"
           }
          ],
          "contour": [
           {
            "colorbar": {
             "outlinewidth": 0,
             "ticks": ""
            },
            "colorscale": [
             [
              0,
              "#0d0887"
             ],
             [
              0.1111111111111111,
              "#46039f"
             ],
             [
              0.2222222222222222,
              "#7201a8"
             ],
             [
              0.3333333333333333,
              "#9c179e"
             ],
             [
              0.4444444444444444,
              "#bd3786"
             ],
             [
              0.5555555555555556,
              "#d8576b"
             ],
             [
              0.6666666666666666,
              "#ed7953"
             ],
             [
              0.7777777777777778,
              "#fb9f3a"
             ],
             [
              0.8888888888888888,
              "#fdca26"
             ],
             [
              1,
              "#f0f921"
             ]
            ],
            "type": "contour"
           }
          ],
          "contourcarpet": [
           {
            "colorbar": {
             "outlinewidth": 0,
             "ticks": ""
            },
            "type": "contourcarpet"
           }
          ],
          "heatmap": [
           {
            "colorbar": {
             "outlinewidth": 0,
             "ticks": ""
            },
            "colorscale": [
             [
              0,
              "#0d0887"
             ],
             [
              0.1111111111111111,
              "#46039f"
             ],
             [
              0.2222222222222222,
              "#7201a8"
             ],
             [
              0.3333333333333333,
              "#9c179e"
             ],
             [
              0.4444444444444444,
              "#bd3786"
             ],
             [
              0.5555555555555556,
              "#d8576b"
             ],
             [
              0.6666666666666666,
              "#ed7953"
             ],
             [
              0.7777777777777778,
              "#fb9f3a"
             ],
             [
              0.8888888888888888,
              "#fdca26"
             ],
             [
              1,
              "#f0f921"
             ]
            ],
            "type": "heatmap"
           }
          ],
          "heatmapgl": [
           {
            "colorbar": {
             "outlinewidth": 0,
             "ticks": ""
            },
            "colorscale": [
             [
              0,
              "#0d0887"
             ],
             [
              0.1111111111111111,
              "#46039f"
             ],
             [
              0.2222222222222222,
              "#7201a8"
             ],
             [
              0.3333333333333333,
              "#9c179e"
             ],
             [
              0.4444444444444444,
              "#bd3786"
             ],
             [
              0.5555555555555556,
              "#d8576b"
             ],
             [
              0.6666666666666666,
              "#ed7953"
             ],
             [
              0.7777777777777778,
              "#fb9f3a"
             ],
             [
              0.8888888888888888,
              "#fdca26"
             ],
             [
              1,
              "#f0f921"
             ]
            ],
            "type": "heatmapgl"
           }
          ],
          "histogram": [
           {
            "marker": {
             "colorbar": {
              "outlinewidth": 0,
              "ticks": ""
             }
            },
            "type": "histogram"
           }
          ],
          "histogram2d": [
           {
            "colorbar": {
             "outlinewidth": 0,
             "ticks": ""
            },
            "colorscale": [
             [
              0,
              "#0d0887"
             ],
             [
              0.1111111111111111,
              "#46039f"
             ],
             [
              0.2222222222222222,
              "#7201a8"
             ],
             [
              0.3333333333333333,
              "#9c179e"
             ],
             [
              0.4444444444444444,
              "#bd3786"
             ],
             [
              0.5555555555555556,
              "#d8576b"
             ],
             [
              0.6666666666666666,
              "#ed7953"
             ],
             [
              0.7777777777777778,
              "#fb9f3a"
             ],
             [
              0.8888888888888888,
              "#fdca26"
             ],
             [
              1,
              "#f0f921"
             ]
            ],
            "type": "histogram2d"
           }
          ],
          "histogram2dcontour": [
           {
            "colorbar": {
             "outlinewidth": 0,
             "ticks": ""
            },
            "colorscale": [
             [
              0,
              "#0d0887"
             ],
             [
              0.1111111111111111,
              "#46039f"
             ],
             [
              0.2222222222222222,
              "#7201a8"
             ],
             [
              0.3333333333333333,
              "#9c179e"
             ],
             [
              0.4444444444444444,
              "#bd3786"
             ],
             [
              0.5555555555555556,
              "#d8576b"
             ],
             [
              0.6666666666666666,
              "#ed7953"
             ],
             [
              0.7777777777777778,
              "#fb9f3a"
             ],
             [
              0.8888888888888888,
              "#fdca26"
             ],
             [
              1,
              "#f0f921"
             ]
            ],
            "type": "histogram2dcontour"
           }
          ],
          "mesh3d": [
           {
            "colorbar": {
             "outlinewidth": 0,
             "ticks": ""
            },
            "type": "mesh3d"
           }
          ],
          "parcoords": [
           {
            "line": {
             "colorbar": {
              "outlinewidth": 0,
              "ticks": ""
             }
            },
            "type": "parcoords"
           }
          ],
          "pie": [
           {
            "automargin": true,
            "type": "pie"
           }
          ],
          "scatter": [
           {
            "marker": {
             "colorbar": {
              "outlinewidth": 0,
              "ticks": ""
             }
            },
            "type": "scatter"
           }
          ],
          "scatter3d": [
           {
            "line": {
             "colorbar": {
              "outlinewidth": 0,
              "ticks": ""
             }
            },
            "marker": {
             "colorbar": {
              "outlinewidth": 0,
              "ticks": ""
             }
            },
            "type": "scatter3d"
           }
          ],
          "scattercarpet": [
           {
            "marker": {
             "colorbar": {
              "outlinewidth": 0,
              "ticks": ""
             }
            },
            "type": "scattercarpet"
           }
          ],
          "scattergeo": [
           {
            "marker": {
             "colorbar": {
              "outlinewidth": 0,
              "ticks": ""
             }
            },
            "type": "scattergeo"
           }
          ],
          "scattergl": [
           {
            "marker": {
             "colorbar": {
              "outlinewidth": 0,
              "ticks": ""
             }
            },
            "type": "scattergl"
           }
          ],
          "scattermapbox": [
           {
            "marker": {
             "colorbar": {
              "outlinewidth": 0,
              "ticks": ""
             }
            },
            "type": "scattermapbox"
           }
          ],
          "scatterpolar": [
           {
            "marker": {
             "colorbar": {
              "outlinewidth": 0,
              "ticks": ""
             }
            },
            "type": "scatterpolar"
           }
          ],
          "scatterpolargl": [
           {
            "marker": {
             "colorbar": {
              "outlinewidth": 0,
              "ticks": ""
             }
            },
            "type": "scatterpolargl"
           }
          ],
          "scatterternary": [
           {
            "marker": {
             "colorbar": {
              "outlinewidth": 0,
              "ticks": ""
             }
            },
            "type": "scatterternary"
           }
          ],
          "surface": [
           {
            "colorbar": {
             "outlinewidth": 0,
             "ticks": ""
            },
            "colorscale": [
             [
              0,
              "#0d0887"
             ],
             [
              0.1111111111111111,
              "#46039f"
             ],
             [
              0.2222222222222222,
              "#7201a8"
             ],
             [
              0.3333333333333333,
              "#9c179e"
             ],
             [
              0.4444444444444444,
              "#bd3786"
             ],
             [
              0.5555555555555556,
              "#d8576b"
             ],
             [
              0.6666666666666666,
              "#ed7953"
             ],
             [
              0.7777777777777778,
              "#fb9f3a"
             ],
             [
              0.8888888888888888,
              "#fdca26"
             ],
             [
              1,
              "#f0f921"
             ]
            ],
            "type": "surface"
           }
          ],
          "table": [
           {
            "cells": {
             "fill": {
              "color": "#EBF0F8"
             },
             "line": {
              "color": "white"
             }
            },
            "header": {
             "fill": {
              "color": "#C8D4E3"
             },
             "line": {
              "color": "white"
             }
            },
            "type": "table"
           }
          ]
         },
         "layout": {
          "annotationdefaults": {
           "arrowcolor": "#2a3f5f",
           "arrowhead": 0,
           "arrowwidth": 1
          },
          "coloraxis": {
           "colorbar": {
            "outlinewidth": 0,
            "ticks": ""
           }
          },
          "colorscale": {
           "diverging": [
            [
             0,
             "#8e0152"
            ],
            [
             0.1,
             "#c51b7d"
            ],
            [
             0.2,
             "#de77ae"
            ],
            [
             0.3,
             "#f1b6da"
            ],
            [
             0.4,
             "#fde0ef"
            ],
            [
             0.5,
             "#f7f7f7"
            ],
            [
             0.6,
             "#e6f5d0"
            ],
            [
             0.7,
             "#b8e186"
            ],
            [
             0.8,
             "#7fbc41"
            ],
            [
             0.9,
             "#4d9221"
            ],
            [
             1,
             "#276419"
            ]
           ],
           "sequential": [
            [
             0,
             "#0d0887"
            ],
            [
             0.1111111111111111,
             "#46039f"
            ],
            [
             0.2222222222222222,
             "#7201a8"
            ],
            [
             0.3333333333333333,
             "#9c179e"
            ],
            [
             0.4444444444444444,
             "#bd3786"
            ],
            [
             0.5555555555555556,
             "#d8576b"
            ],
            [
             0.6666666666666666,
             "#ed7953"
            ],
            [
             0.7777777777777778,
             "#fb9f3a"
            ],
            [
             0.8888888888888888,
             "#fdca26"
            ],
            [
             1,
             "#f0f921"
            ]
           ],
           "sequentialminus": [
            [
             0,
             "#0d0887"
            ],
            [
             0.1111111111111111,
             "#46039f"
            ],
            [
             0.2222222222222222,
             "#7201a8"
            ],
            [
             0.3333333333333333,
             "#9c179e"
            ],
            [
             0.4444444444444444,
             "#bd3786"
            ],
            [
             0.5555555555555556,
             "#d8576b"
            ],
            [
             0.6666666666666666,
             "#ed7953"
            ],
            [
             0.7777777777777778,
             "#fb9f3a"
            ],
            [
             0.8888888888888888,
             "#fdca26"
            ],
            [
             1,
             "#f0f921"
            ]
           ]
          },
          "colorway": [
           "#636efa",
           "#EF553B",
           "#00cc96",
           "#ab63fa",
           "#FFA15A",
           "#19d3f3",
           "#FF6692",
           "#B6E880",
           "#FF97FF",
           "#FECB52"
          ],
          "font": {
           "color": "#2a3f5f"
          },
          "geo": {
           "bgcolor": "white",
           "lakecolor": "white",
           "landcolor": "#E5ECF6",
           "showlakes": true,
           "showland": true,
           "subunitcolor": "white"
          },
          "hoverlabel": {
           "align": "left"
          },
          "hovermode": "closest",
          "mapbox": {
           "style": "light"
          },
          "paper_bgcolor": "white",
          "plot_bgcolor": "#E5ECF6",
          "polar": {
           "angularaxis": {
            "gridcolor": "white",
            "linecolor": "white",
            "ticks": ""
           },
           "bgcolor": "#E5ECF6",
           "radialaxis": {
            "gridcolor": "white",
            "linecolor": "white",
            "ticks": ""
           }
          },
          "scene": {
           "xaxis": {
            "backgroundcolor": "#E5ECF6",
            "gridcolor": "white",
            "gridwidth": 2,
            "linecolor": "white",
            "showbackground": true,
            "ticks": "",
            "zerolinecolor": "white"
           },
           "yaxis": {
            "backgroundcolor": "#E5ECF6",
            "gridcolor": "white",
            "gridwidth": 2,
            "linecolor": "white",
            "showbackground": true,
            "ticks": "",
            "zerolinecolor": "white"
           },
           "zaxis": {
            "backgroundcolor": "#E5ECF6",
            "gridcolor": "white",
            "gridwidth": 2,
            "linecolor": "white",
            "showbackground": true,
            "ticks": "",
            "zerolinecolor": "white"
           }
          },
          "shapedefaults": {
           "line": {
            "color": "#2a3f5f"
           }
          },
          "ternary": {
           "aaxis": {
            "gridcolor": "white",
            "linecolor": "white",
            "ticks": ""
           },
           "baxis": {
            "gridcolor": "white",
            "linecolor": "white",
            "ticks": ""
           },
           "bgcolor": "#E5ECF6",
           "caxis": {
            "gridcolor": "white",
            "linecolor": "white",
            "ticks": ""
           }
          },
          "title": {
           "x": 0.05
          },
          "xaxis": {
           "automargin": true,
           "gridcolor": "white",
           "linecolor": "white",
           "ticks": "",
           "title": {
            "standoff": 15
           },
           "zerolinecolor": "white",
           "zerolinewidth": 2
          },
          "yaxis": {
           "automargin": true,
           "gridcolor": "white",
           "linecolor": "white",
           "ticks": "",
           "title": {
            "standoff": 15
           },
           "zerolinecolor": "white",
           "zerolinewidth": 2
          }
         }
        },
        "title": {
         "font": {
          "size": 20
         },
         "text": "Drivers of the black vs. white pay gap"
        },
        "xaxis": {
         "autorange": true,
         "linecolor": "black",
         "linewidth": 0.5,
         "range": [
          -0.5,
          7.5
         ],
         "showline": true,
         "tickangle": 0,
         "tickmode": "array",
         "ticks": "outside",
         "tickvals": [
          "<br>Adjusted",
          "YearsCodePro",
          "<br>ImpSyn",
          "YearsCode",
          "<br>Age",
          "WorkWeekHrs",
          "<br>Other",
          "Unadjusted"
         ],
         "type": "category"
        },
        "yaxis": {
         "autorange": true,
         "gridcolor": "#e8e8e8",
         "gridwidth": 0.5,
         "linecolor": "black",
         "linewidth": 0.5,
         "range": [
          -0.1018336637954395,
          0
         ],
         "showgrid": true,
         "showline": true,
         "tickformat": ".1%",
         "ticks": "outside",
         "title": {
          "text": "Pay Gap vs. white"
         },
         "type": "linear",
         "zeroline": true,
         "zerolinecolor": "#e8e8e8",
         "zerolinewidth": 2
        }
       }
      },
      "image/png": "[encoded data removed]",
      "text/html": [
       "<div>\n",
       "        \n",
       "        \n",
       "            <div id=\"e72eefbd-aa2e-4a2d-b72c-8260a91b37e1\" class=\"plotly-graph-div\" style=\"height:525px; width:800px;\"></div>\n",
       "            <script type=\"text/javascript\">\n",
       "                require([\"plotly\"], function(Plotly) {\n",
       "                    window.PLOTLYENV=window.PLOTLYENV || {};\n",
       "                    \n",
       "                if (document.getElementById(\"e72eefbd-aa2e-4a2d-b72c-8260a91b37e1\")) {\n",
       "                    Plotly.newPlot(\n",
       "                        'e72eefbd-aa2e-4a2d-b72c-8260a91b37e1',\n",
       "                        [{\"connector\": {\"line\": {\"color\": \"grey\"}}, \"decreasing\": {\"marker\": {\"color\": \"#ff4747\"}}, \"hovertemplate\": \"%{text}\", \"measure\": [\"absolute\", \"relative\", \"relative\", \"relative\", \"relative\", \"relative\", \"relative\", \"total\"], \"name\": \"black\", \"orientation\": \"v\", \"text\": [\"-0.3%\", \"-5.8%\", \"-1.1%\", \"-1.1%\", \"-0.8%\", \"-0.6%\", \"+2.0%\", \"-7.6%\"], \"textposition\": \"outside\", \"totals\": {\"marker\": {\"color\": \"#3493d3\"}}, \"type\": \"waterfall\", \"x\": [\"<br>Adjusted\", \"YearsCodePro\", \"<br>ImpSyn\", \"YearsCode\", \"<br>Age\", \"WorkWeekHrs\", \"<br>Other\", \"Unadjusted\"], \"y\": [-0.003312076563664834, -0.057625036417845665, -0.011040898013755629, -0.01084402243587701, -0.007644016913985974, -0.006275930260538409, 0.02030435717754242, -0.0764376234281251]}],\n",
       "                        {\"margin\": {\"r\": 0}, \"plot_bgcolor\": \"white\", \"template\": {\"data\": {\"bar\": [{\"error_x\": {\"color\": \"#2a3f5f\"}, \"error_y\": {\"color\": \"#2a3f5f\"}, \"marker\": {\"line\": {\"color\": \"#E5ECF6\", \"width\": 0.5}}, \"type\": \"bar\"}], \"barpolar\": [{\"marker\": {\"line\": {\"color\": \"#E5ECF6\", \"width\": 0.5}}, \"type\": \"barpolar\"}], \"carpet\": [{\"aaxis\": {\"endlinecolor\": \"#2a3f5f\", \"gridcolor\": \"white\", \"linecolor\": \"white\", \"minorgridcolor\": \"white\", \"startlinecolor\": \"#2a3f5f\"}, \"baxis\": {\"endlinecolor\": \"#2a3f5f\", \"gridcolor\": \"white\", \"linecolor\": \"white\", \"minorgridcolor\": \"white\", \"startlinecolor\": \"#2a3f5f\"}, \"type\": \"carpet\"}], \"choropleth\": [{\"colorbar\": {\"outlinewidth\": 0, \"ticks\": \"\"}, \"type\": \"choropleth\"}], \"contour\": [{\"colorbar\": {\"outlinewidth\": 0, \"ticks\": \"\"}, \"colorscale\": [[0.0, \"#0d0887\"], [0.1111111111111111, \"#46039f\"], [0.2222222222222222, \"#7201a8\"], [0.3333333333333333, \"#9c179e\"], [0.4444444444444444, \"#bd3786\"], [0.5555555555555556, \"#d8576b\"], [0.6666666666666666, \"#ed7953\"], [0.7777777777777778, \"#fb9f3a\"], [0.8888888888888888, \"#fdca26\"], [1.0, \"#f0f921\"]], \"type\": \"contour\"}], \"contourcarpet\": [{\"colorbar\": {\"outlinewidth\": 0, \"ticks\": \"\"}, \"type\": \"contourcarpet\"}], \"heatmap\": [{\"colorbar\": {\"outlinewidth\": 0, \"ticks\": \"\"}, \"colorscale\": [[0.0, \"#0d0887\"], [0.1111111111111111, \"#46039f\"], [0.2222222222222222, \"#7201a8\"], [0.3333333333333333, \"#9c179e\"], [0.4444444444444444, \"#bd3786\"], [0.5555555555555556, \"#d8576b\"], [0.6666666666666666, \"#ed7953\"], [0.7777777777777778, \"#fb9f3a\"], [0.8888888888888888, \"#fdca26\"], [1.0, \"#f0f921\"]], \"type\": \"heatmap\"}], \"heatmapgl\": [{\"colorbar\": {\"outlinewidth\": 0, \"ticks\": \"\"}, \"colorscale\": [[0.0, \"#0d0887\"], [0.1111111111111111, \"#46039f\"], [0.2222222222222222, \"#7201a8\"], [0.3333333333333333, \"#9c179e\"], [0.4444444444444444, \"#bd3786\"], [0.5555555555555556, \"#d8576b\"], [0.6666666666666666, \"#ed7953\"], [0.7777777777777778, \"#fb9f3a\"], [0.8888888888888888, \"#fdca26\"], [1.0, \"#f0f921\"]], \"type\": \"heatmapgl\"}], \"histogram\": [{\"marker\": {\"colorbar\": {\"outlinewidth\": 0, \"ticks\": \"\"}}, \"type\": \"histogram\"}], \"histogram2d\": [{\"colorbar\": {\"outlinewidth\": 0, \"ticks\": \"\"}, \"colorscale\": [[0.0, \"#0d0887\"], [0.1111111111111111, \"#46039f\"], [0.2222222222222222, \"#7201a8\"], [0.3333333333333333, \"#9c179e\"], [0.4444444444444444, \"#bd3786\"], [0.5555555555555556, \"#d8576b\"], [0.6666666666666666, \"#ed7953\"], [0.7777777777777778, \"#fb9f3a\"], [0.8888888888888888, \"#fdca26\"], [1.0, \"#f0f921\"]], \"type\": \"histogram2d\"}], \"histogram2dcontour\": [{\"colorbar\": {\"outlinewidth\": 0, \"ticks\": \"\"}, \"colorscale\": [[0.0, \"#0d0887\"], [0.1111111111111111, \"#46039f\"], [0.2222222222222222, \"#7201a8\"], [0.3333333333333333, \"#9c179e\"], [0.4444444444444444, \"#bd3786\"], [0.5555555555555556, \"#d8576b\"], [0.6666666666666666, \"#ed7953\"], [0.7777777777777778, \"#fb9f3a\"], [0.8888888888888888, \"#fdca26\"], [1.0, \"#f0f921\"]], \"type\": \"histogram2dcontour\"}], \"mesh3d\": [{\"colorbar\": {\"outlinewidth\": 0, \"ticks\": \"\"}, \"type\": \"mesh3d\"}], \"parcoords\": [{\"line\": {\"colorbar\": {\"outlinewidth\": 0, \"ticks\": \"\"}}, \"type\": \"parcoords\"}], \"pie\": [{\"automargin\": true, \"type\": \"pie\"}], \"scatter\": [{\"marker\": {\"colorbar\": {\"outlinewidth\": 0, \"ticks\": \"\"}}, \"type\": \"scatter\"}], \"scatter3d\": [{\"line\": {\"colorbar\": {\"outlinewidth\": 0, \"ticks\": \"\"}}, \"marker\": {\"colorbar\": {\"outlinewidth\": 0, \"ticks\": \"\"}}, \"type\": \"scatter3d\"}], \"scattercarpet\": [{\"marker\": {\"colorbar\": {\"outlinewidth\": 0, \"ticks\": \"\"}}, \"type\": \"scattercarpet\"}], \"scattergeo\": [{\"marker\": {\"colorbar\": {\"outlinewidth\": 0, \"ticks\": \"\"}}, \"type\": \"scattergeo\"}], \"scattergl\": [{\"marker\": {\"colorbar\": {\"outlinewidth\": 0, \"ticks\": \"\"}}, \"type\": \"scattergl\"}], \"scattermapbox\": [{\"marker\": {\"colorbar\": {\"outlinewidth\": 0, \"ticks\": \"\"}}, \"type\": \"scattermapbox\"}], \"scatterpolar\": [{\"marker\": {\"colorbar\": {\"outlinewidth\": 0, \"ticks\": \"\"}}, \"type\": \"scatterpolar\"}], \"scatterpolargl\": [{\"marker\": {\"colorbar\": {\"outlinewidth\": 0, \"ticks\": \"\"}}, \"type\": \"scatterpolargl\"}], \"scatterternary\": [{\"marker\": {\"colorbar\": {\"outlinewidth\": 0, \"ticks\": \"\"}}, \"type\": \"scatterternary\"}], \"surface\": [{\"colorbar\": {\"outlinewidth\": 0, \"ticks\": \"\"}, \"colorscale\": [[0.0, \"#0d0887\"], [0.1111111111111111, \"#46039f\"], [0.2222222222222222, \"#7201a8\"], [0.3333333333333333, \"#9c179e\"], [0.4444444444444444, \"#bd3786\"], [0.5555555555555556, \"#d8576b\"], [0.6666666666666666, \"#ed7953\"], [0.7777777777777778, \"#fb9f3a\"], [0.8888888888888888, \"#fdca26\"], [1.0, \"#f0f921\"]], \"type\": \"surface\"}], \"table\": [{\"cells\": {\"fill\": {\"color\": \"#EBF0F8\"}, \"line\": {\"color\": \"white\"}}, \"header\": {\"fill\": {\"color\": \"#C8D4E3\"}, \"line\": {\"color\": \"white\"}}, \"type\": \"table\"}]}, \"layout\": {\"annotationdefaults\": {\"arrowcolor\": \"#2a3f5f\", \"arrowhead\": 0, \"arrowwidth\": 1}, \"coloraxis\": {\"colorbar\": {\"outlinewidth\": 0, \"ticks\": \"\"}}, \"colorscale\": {\"diverging\": [[0, \"#8e0152\"], [0.1, \"#c51b7d\"], [0.2, \"#de77ae\"], [0.3, \"#f1b6da\"], [0.4, \"#fde0ef\"], [0.5, \"#f7f7f7\"], [0.6, \"#e6f5d0\"], [0.7, \"#b8e186\"], [0.8, \"#7fbc41\"], [0.9, \"#4d9221\"], [1, \"#276419\"]], \"sequential\": [[0.0, \"#0d0887\"], [0.1111111111111111, \"#46039f\"], [0.2222222222222222, \"#7201a8\"], [0.3333333333333333, \"#9c179e\"], [0.4444444444444444, \"#bd3786\"], [0.5555555555555556, \"#d8576b\"], [0.6666666666666666, \"#ed7953\"], [0.7777777777777778, \"#fb9f3a\"], [0.8888888888888888, \"#fdca26\"], [1.0, \"#f0f921\"]], \"sequentialminus\": [[0.0, \"#0d0887\"], [0.1111111111111111, \"#46039f\"], [0.2222222222222222, \"#7201a8\"], [0.3333333333333333, \"#9c179e\"], [0.4444444444444444, \"#bd3786\"], [0.5555555555555556, \"#d8576b\"], [0.6666666666666666, \"#ed7953\"], [0.7777777777777778, \"#fb9f3a\"], [0.8888888888888888, \"#fdca26\"], [1.0, \"#f0f921\"]]}, \"colorway\": [\"#636efa\", \"#EF553B\", \"#00cc96\", \"#ab63fa\", \"#FFA15A\", \"#19d3f3\", \"#FF6692\", \"#B6E880\", \"#FF97FF\", \"#FECB52\"], \"font\": {\"color\": \"#2a3f5f\"}, \"geo\": {\"bgcolor\": \"white\", \"lakecolor\": \"white\", \"landcolor\": \"#E5ECF6\", \"showlakes\": true, \"showland\": true, \"subunitcolor\": \"white\"}, \"hoverlabel\": {\"align\": \"left\"}, \"hovermode\": \"closest\", \"mapbox\": {\"style\": \"light\"}, \"paper_bgcolor\": \"white\", \"plot_bgcolor\": \"#E5ECF6\", \"polar\": {\"angularaxis\": {\"gridcolor\": \"white\", \"linecolor\": \"white\", \"ticks\": \"\"}, \"bgcolor\": \"#E5ECF6\", \"radialaxis\": {\"gridcolor\": \"white\", \"linecolor\": \"white\", \"ticks\": \"\"}}, \"scene\": {\"xaxis\": {\"backgroundcolor\": \"#E5ECF6\", \"gridcolor\": \"white\", \"gridwidth\": 2, \"linecolor\": \"white\", \"showbackground\": true, \"ticks\": \"\", \"zerolinecolor\": \"white\"}, \"yaxis\": {\"backgroundcolor\": \"#E5ECF6\", \"gridcolor\": \"white\", \"gridwidth\": 2, \"linecolor\": \"white\", \"showbackground\": true, \"ticks\": \"\", \"zerolinecolor\": \"white\"}, \"zaxis\": {\"backgroundcolor\": \"#E5ECF6\", \"gridcolor\": \"white\", \"gridwidth\": 2, \"linecolor\": \"white\", \"showbackground\": true, \"ticks\": \"\", \"zerolinecolor\": \"white\"}}, \"shapedefaults\": {\"line\": {\"color\": \"#2a3f5f\"}}, \"ternary\": {\"aaxis\": {\"gridcolor\": \"white\", \"linecolor\": \"white\", \"ticks\": \"\"}, \"baxis\": {\"gridcolor\": \"white\", \"linecolor\": \"white\", \"ticks\": \"\"}, \"bgcolor\": \"#E5ECF6\", \"caxis\": {\"gridcolor\": \"white\", \"linecolor\": \"white\", \"ticks\": \"\"}}, \"title\": {\"x\": 0.05}, \"xaxis\": {\"automargin\": true, \"gridcolor\": \"white\", \"linecolor\": \"white\", \"ticks\": \"\", \"title\": {\"standoff\": 15}, \"zerolinecolor\": \"white\", \"zerolinewidth\": 2}, \"yaxis\": {\"automargin\": true, \"gridcolor\": \"white\", \"linecolor\": \"white\", \"ticks\": \"\", \"title\": {\"standoff\": 15}, \"zerolinecolor\": \"white\", \"zerolinewidth\": 2}}}, \"title\": {\"font\": {\"size\": 20}, \"text\": \"Drivers of the black vs. white pay gap\"}, \"width\": 800, \"xaxis\": {\"linecolor\": \"black\", \"linewidth\": 0.5, \"showline\": true, \"tickangle\": 0, \"tickmode\": \"array\", \"ticks\": \"outside\", \"tickvals\": [\"<br>Adjusted\", \"YearsCodePro\", \"<br>ImpSyn\", \"YearsCode\", \"<br>Age\", \"WorkWeekHrs\", \"<br>Other\", \"Unadjusted\"]}, \"yaxis\": {\"gridcolor\": \"#e8e8e8\", \"gridwidth\": 0.5, \"linecolor\": \"black\", \"linewidth\": 0.5, \"showgrid\": true, \"showline\": true, \"tickformat\": \".1%\", \"ticks\": \"outside\", \"title\": {\"text\": \"Pay Gap vs. white\"}, \"zeroline\": true, \"zerolinecolor\": \"#e8e8e8\", \"zerolinewidth\": 2}},\n",
       "                        {\"responsive\": true}\n",
       "                    ).then(function(){\n",
       "                            \n",
       "var gd = document.getElementById('e72eefbd-aa2e-4a2d-b72c-8260a91b37e1');\n",
       "var x = new MutationObserver(function (mutations, observer) {{\n",
       "        var display = window.getComputedStyle(gd).display;\n",
       "        if (!display || display === 'none') {{\n",
       "            console.log([gd, 'removed!']);\n",
       "            Plotly.purge(gd);\n",
       "            observer.disconnect();\n",
       "        }}\n",
       "}});\n",
       "\n",
       "// Listen for the removal of the full notebook cells\n",
       "var notebookContainer = gd.closest('#notebook-container');\n",
       "if (notebookContainer) {{\n",
       "    x.observe(notebookContainer, {childList: true});\n",
       "}}\n",
       "\n",
       "// Listen for the clearing of the current output cell\n",
       "var outputEl = gd.closest('.output');\n",
       "if (outputEl) {{\n",
       "    x.observe(outputEl, {childList: true});\n",
       "}}\n",
       "\n",
       "                        })\n",
       "                };\n",
       "                });\n",
       "            </script>\n",
       "        </div>"
      ]
     },
     "metadata": {},
     "output_type": "display_data"
    }
   ],
   "source": [
    "cat = \"Ethnicity\"\n",
    "exp = \"black\"\n",
    "\n",
    "output, coef_full = explain(data_2019, est, controls, cat, exp, 5)\n",
    "\n",
    "output_waterfall(output, coef_full, controls, cat, exp, True)"
   ]
  },
  {
   "cell_type": "code",
   "execution_count": null,
   "metadata": {},
   "outputs": [],
   "source": []
  }
 ],
 "metadata": {
  "file_extension": ".py",
  "kernelspec": {
   "display_name": "Python 3",
   "language": "python",
   "name": "python3"
  },
  "language_info": {
   "codemirror_mode": {
    "name": "ipython",
    "version": 3
   },
   "file_extension": ".py",
   "mimetype": "text/x-python",
   "name": "python",
   "nbconvert_exporter": "python",
   "pygments_lexer": "ipython3",
   "version": "3.7.5"
  },
  "mimetype": "text/x-python",
  "name": "python",
  "npconvert_exporter": "python",
  "pygments_lexer": "ipython3",
  "version": 3
 },
 "nbformat": 4,
 "nbformat_minor": 4
}
